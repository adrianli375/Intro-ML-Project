{
 "cells": [
  {
   "cell_type": "markdown",
   "id": "7b203061-0d62-4538-b0ef-06b772f6d368",
   "metadata": {},
   "source": [
    "# Imports"
   ]
  },
  {
   "cell_type": "code",
   "execution_count": 1,
   "id": "6be9e8f6-98cb-48f5-8546-d41dd18273b7",
   "metadata": {},
   "outputs": [
    {
     "name": "stderr",
     "output_type": "stream",
     "text": [
      "2023-05-13 21:04:07.637470: I tensorflow/core/platform/cpu_feature_guard.cc:193] This TensorFlow binary is optimized with oneAPI Deep Neural Network Library (oneDNN) to use the following CPU instructions in performance-critical operations:  SSE4.1 SSE4.2 AVX AVX2 AVX512F AVX512_VNNI FMA\n",
      "To enable them in other operations, rebuild TensorFlow with the appropriate compiler flags.\n"
     ]
    }
   ],
   "source": [
    "from IPython.display import display\n",
    "import matplotlib.pyplot as plt\n",
    "import numpy as np\n",
    "import os\n",
    "from PIL import Image\n",
    "import random\n",
    "from sklearn.model_selection import train_test_split\n",
    "from sklearn.preprocessing import OneHotEncoder\n",
    "from tensorflow.keras import Sequential\n",
    "from tensorflow.keras.datasets.mnist import load_data as load_digits\n",
    "from tensorflow.keras.layers import Conv2D, MaxPooling2D, Flatten, Dense\n",
    "from tensorflow.keras.models import load_model"
   ]
  },
  {
   "cell_type": "markdown",
   "id": "be88b79a-9c1b-4391-b1b7-5f540eee0d4b",
   "metadata": {},
   "source": [
    "# Introduction"
   ]
  },
  {
   "cell_type": "markdown",
   "id": "2a28b1e8-efb5-43f6-b022-9b5ce50c52f3",
   "metadata": {},
   "source": [
    "The MNIST (Modified National Institute of Standards and Technology) dataset is one of the most popular and widely used datasets in the field of machine learning. It is a collection of 70,000 grayscale images of handwritten digits, each of which is 28x28 pixels in size. The images are labeled with the corresponding digit from 0 to 9, making it a classification problem.\n",
    "\n",
    "The MNIST dataset was first released in 1998 and has since become a benchmark dataset for testing machine learning algorithms, particularly in the field of computer vision. The dataset is often used to evaluate the performance of image classification models, and it is considered a standard dataset for testing and comparing different machine learning techniques.\n",
    "\n",
    "The dataset is split into two parts: a training set and a test set. The training set contains 60,000 images, while the test set contains 10,000 images. The images in the dataset have been preprocessed to normalize the pixel values to a range between 0 and 1, making it easier to work with them using machine learning algorithms.\n",
    "\n",
    "The MNIST dataset has several advantages that make it an ideal dataset for testing machine learning algorithms. First, it is a relatively simple dataset, with only 10 classes (digits 0 to 9). This makes it easier to train models and compare their performance. Second, the images are of a fixed size and are well-aligned, making it easy to preprocess them for machine learning tasks. Finally, the dataset is large enough to provide a good amount of training data for machine learning models, while also being small enough to allow for quick experimentation.\n",
    "\n",
    "The MNIST dataset has been used extensively in the development of machine learning algorithms, particularly in the field of deep learning. In 2011, a team led by Geoffrey Hinton achieved a breakthrough in image recognition using deep learning techniques, using a deep convolutional neural network to achieve an error rate of just 0.35%. This was a significant improvement over previous state-of-the-art algorithms, which achieved error rates of around 1-2%.\n",
    "\n",
    "The MNIST dataset is included in several popular machine learning libraries, including scikit-learn, TensorFlow, and PyTorch. In scikit-learn, the MNIST dataset can be loaded using the fetch_openml function, which downloads the dataset from the OpenML repository and returns it as a scikit-learn Bunch object. This makes it easy to load the dataset and start working with it in Python.\n",
    "\n",
    "Different from the dataset mentioned above, the [dataset](https://scikit-learn.org/stable/modules/generated/sklearn.datasets.load_digits.html) in `scikit-learn` has a lower scale. Each image is 8x8 in size and the number of samples in total is 1797. \n",
    "\n",
    "In conclusion, the MNIST dataset is a widely used benchmark dataset in the field of machine learning, particularly in the area of computer vision. Its simplicity, fixed image size, and large size make it an ideal dataset for testing and comparing different machine learning algorithms."
   ]
  },
  {
   "cell_type": "markdown",
   "id": "9976e732-bcf6-4cb2-a269-777cdacb0975",
   "metadata": {},
   "source": [
    "# Problem Definition"
   ]
  },
  {
   "cell_type": "markdown",
   "id": "6ab1b21b-c2a9-4b60-8342-159d214432c7",
   "metadata": {},
   "source": [
    "In this demo, we are going to apply a Convolutional Neural Network (CNN) to the image data, aiming at classifying images into digits from `0` to `9` inclusive. \n",
    "\n",
    "CNNs are a powerful class of deep learning algorithms that are widely used for image classification tasks, such as recognizing handwritten digits in the MNIST dataset. CNNs are designed to automatically learn and extract meaningful features from input images, making them highly effective for tasks such as object recognition, detection, and segmentation.\n",
    "\n",
    "CNNs consist of multiple layers, each of which performs a specific function in the network. The first layer of a CNN is typically a convolutional layer, which applies a set of learnable filters to the input image to extract local features such as edges and corners. The output of the convolutional layer is then passed through a non-linear activation function, such as ReLU, to introduce non-linearity into the network.\n",
    "\n",
    "Subsequent layers in the network typically alternate between pooling layers, which reduce the spatial resolution of the input features, and additional convolutional layers, which extract increasingly abstract and complex features from the input. Finally, the output of the convolutional layers is flattened into a vector and passed through one or more fully connected layers, which use this vector to classify the input image into one of the possible output categories.\n",
    "\n",
    "The architecture of a CNN can be customized depending on the specific task at hand. For example, the number and size of the filters in the convolutional layers can be adjusted to extract different types of features, while the number and size of the fully connected layers can be adjusted to accommodate different output classes. "
   ]
  },
  {
   "cell_type": "markdown",
   "id": "882b3810-21f2-41cf-84e3-8db6b452fe69",
   "metadata": {},
   "source": [
    "# Load the dataset"
   ]
  },
  {
   "cell_type": "code",
   "execution_count": 2,
   "id": "653d12df-0dc7-4172-a0db-656ad7e4f50b",
   "metadata": {},
   "outputs": [],
   "source": [
    "(X_train_raw, y_train_raw), (X_test_raw, y_test_raw) = load_digits()"
   ]
  },
  {
   "cell_type": "code",
   "execution_count": 3,
   "id": "75726211-a0d5-433d-88c0-5890a489c655",
   "metadata": {},
   "outputs": [],
   "source": [
    "train_size = X_train_raw.shape[0]\n",
    "test_size = X_test_raw.shape[0]"
   ]
  },
  {
   "cell_type": "markdown",
   "id": "eef33c5b-e4db-4d46-adbb-a28f3f74174b",
   "metadata": {},
   "source": [
    "# Visualize a random image"
   ]
  },
  {
   "cell_type": "code",
   "execution_count": 4,
   "id": "b4d71447-8f44-40b5-b082-4e88244672c7",
   "metadata": {},
   "outputs": [],
   "source": [
    "def visualize_one_image(from_='train', idx=None, show_idx=False, return_idx=False):\n",
    "    if from_ not in ['train', 'test']:\n",
    "        raise KeyError('the variable from_ can either be \\'train\\' or \\'test\\'!')\n",
    "    plt.gray()\n",
    "    if from_ == 'train':\n",
    "        if idx is None:\n",
    "            idx = random.randint(0, train_size-1)\n",
    "        assert 0 <= idx <= train_size - 1\n",
    "        img_arr = np.reshape(X_train_raw[idx], (28, 28))\n",
    "    elif from_ == 'test':\n",
    "        if idx is None:\n",
    "            idx = random.randint(0, test_size-1)\n",
    "        assert 0 <= idx <= test_size - 1\n",
    "        img_arr = np.reshape(X_test_raw[idx], (28, 28))\n",
    "    plt.matshow(img_arr)\n",
    "    if show_idx:\n",
    "        plt.title(f'Visualizing example {idx} from {from_} set')\n",
    "    plt.show()\n",
    "    if return_idx:\n",
    "        return idx"
   ]
  },
  {
   "cell_type": "code",
   "execution_count": 5,
   "id": "78eb41b2-d094-41d1-8a19-fa884f199086",
   "metadata": {},
   "outputs": [
    {
     "data": {
      "text/plain": [
       "<Figure size 640x480 with 0 Axes>"
      ]
     },
     "metadata": {},
     "output_type": "display_data"
    },
    {
     "data": {
      "image/png": "[encoded data removed]",
      "text/plain": [
       "<Figure size 480x480 with 1 Axes>"
      ]
     },
     "metadata": {},
     "output_type": "display_data"
    }
   ],
   "source": [
    "visualize_one_image()"
   ]
  },
  {
   "cell_type": "markdown",
   "id": "fd74e89b-5273-49c0-ad2c-21d6ef0adf9b",
   "metadata": {},
   "source": [
    "# Preprocessing"
   ]
  },
  {
   "cell_type": "code",
   "execution_count": 6,
   "id": "a876ad18-980f-4992-b467-e355558d8ccf",
   "metadata": {},
   "outputs": [],
   "source": [
    "def reshape_data(img_data):\n",
    "    n, w, h = img_data.shape[0], img_data.shape[1], img_data.shape[2]\n",
    "    reshaped_data = img_data.reshape((n, w, h, 1))\n",
    "    return reshaped_data"
   ]
  },
  {
   "cell_type": "code",
   "execution_count": 7,
   "id": "bcec739d-87bf-4b81-9159-a41eab7154d9",
   "metadata": {},
   "outputs": [],
   "source": [
    "def scale_images(img_data):\n",
    "    return img_data.astype('float32') / 255.0"
   ]
  },
  {
   "cell_type": "code",
   "execution_count": 8,
   "id": "8993455d-69c5-411a-8562-b4ee8a908b87",
   "metadata": {},
   "outputs": [],
   "source": [
    "def preprocess_images(X_train, X_test):\n",
    "    X_train, X_test = reshape_data(X_train), reshape_data(X_test)\n",
    "    X_train, X_test = scale_images(X_train), scale_images(X_test)\n",
    "    return X_train, X_test"
   ]
  },
  {
   "cell_type": "code",
   "execution_count": 9,
   "id": "3d7776e1-ac57-4b8d-a32f-6649ca821c2a",
   "metadata": {},
   "outputs": [],
   "source": [
    "X_train, X_test = preprocess_images(X_train_raw, X_test_raw)"
   ]
  },
  {
   "cell_type": "code",
   "execution_count": 10,
   "id": "b09f8a0e-4e32-4056-9edc-4fb6cf32302b",
   "metadata": {},
   "outputs": [],
   "source": [
    "def preprocess_target(y_train, y_test):\n",
    "    y_train, y_test = np.reshape(y_train, (-1, 1)), np.reshape(y_test, (-1, 1))\n",
    "    ohe = OneHotEncoder()\n",
    "    y_train = ohe.fit_transform(y_train)\n",
    "    y_test = ohe.transform(y_test)\n",
    "    return y_train.toarray(), y_test.toarray()"
   ]
  },
  {
   "cell_type": "code",
   "execution_count": 11,
   "id": "789d1b0a-c101-4b38-8116-55f7b7b13094",
   "metadata": {},
   "outputs": [],
   "source": [
    "y_train, y_test = preprocess_target(y_train_raw, y_test_raw)"
   ]
  },
  {
   "cell_type": "markdown",
   "id": "79c158bd-fac8-4295-9f17-b8ab3358f1c2",
   "metadata": {
    "tags": []
   },
   "source": [
    "# Build a Convolutional Neural Network (CNN)"
   ]
  },
  {
   "cell_type": "code",
   "execution_count": 12,
   "id": "7f333916-15e5-4871-97e2-ce1f190e4bc6",
   "metadata": {},
   "outputs": [
    {
     "name": "stderr",
     "output_type": "stream",
     "text": [
      "2023-05-13 21:04:15.394225: I tensorflow/core/platform/cpu_feature_guard.cc:193] This TensorFlow binary is optimized with oneAPI Deep Neural Network Library (oneDNN) to use the following CPU instructions in performance-critical operations:  SSE4.1 SSE4.2 AVX AVX2 AVX512F AVX512_VNNI FMA\n",
      "To enable them in other operations, rebuild TensorFlow with the appropriate compiler flags.\n"
     ]
    }
   ],
   "source": [
    "# initialize a Sequential object for the model\n",
    "model = Sequential()\n",
    "# layer 1: convolutional layer with 32 output channels, kernel size 3x3\n",
    "model.add(Conv2D(32, (3, 3), activation='relu', input_shape=(28, 28, 1)))\n",
    "# max pooling\n",
    "model.add(MaxPooling2D(2, 2))\n",
    "# layer 2: convolutional layer with 16 output channels, kernel size 3x3\n",
    "model.add(Conv2D(16, (3, 3), activation='relu'))\n",
    "# flatten everything into a column vector\n",
    "model.add(Flatten())\n",
    "# layer 3: fully connected layer\n",
    "model.add(Dense(10, activation='softmax'))"
   ]
  },
  {
   "cell_type": "code",
   "execution_count": 13,
   "id": "b8c4ea22-c6e1-492d-8c76-b2a630bdee61",
   "metadata": {},
   "outputs": [],
   "source": [
    "# compile the model\n",
    "model.compile(optimizer='adam', loss='categorical_crossentropy', metrics=['accuracy'])"
   ]
  },
  {
   "cell_type": "code",
   "execution_count": 14,
   "id": "bad94dee-adc2-403a-a017-4b0eab711e33",
   "metadata": {},
   "outputs": [
    {
     "name": "stdout",
     "output_type": "stream",
     "text": [
      "Model: \"sequential\"\n",
      "_________________________________________________________________\n",
      " Layer (type)                Output Shape              Param #   \n",
      "=================================================================\n",
      " conv2d (Conv2D)             (None, 26, 26, 32)        320       \n",
      "                                                                 \n",
      " max_pooling2d (MaxPooling2D  (None, 13, 13, 32)       0         \n",
      " )                                                               \n",
      "                                                                 \n",
      " conv2d_1 (Conv2D)           (None, 11, 11, 16)        4624      \n",
      "                                                                 \n",
      " flatten (Flatten)           (None, 1936)              0         \n",
      "                                                                 \n",
      " dense (Dense)               (None, 10)                19370     \n",
      "                                                                 \n",
      "=================================================================\n",
      "Total params: 24,314\n",
      "Trainable params: 24,314\n",
      "Non-trainable params: 0\n",
      "_________________________________________________________________\n"
     ]
    }
   ],
   "source": [
    "model.summary()"
   ]
  },
  {
   "cell_type": "code",
   "execution_count": 15,
   "id": "7df3831d-1daa-4ccc-b284-6c20844ce8ff",
   "metadata": {},
   "outputs": [],
   "source": [
    "MODEL_PATH = '../models/demo_6_digits_classifier.h5'"
   ]
  },
  {
   "cell_type": "code",
   "execution_count": 16,
   "id": "7a1af1b1-cb1b-4bab-ad1e-0bf8cc2e2044",
   "metadata": {},
   "outputs": [
    {
     "data": {
      "text/plain": [
       "True"
      ]
     },
     "execution_count": 16,
     "metadata": {},
     "output_type": "execute_result"
    }
   ],
   "source": [
    "model_exists = os.path.exists(MODEL_PATH)\n",
    "model_exists"
   ]
  },
  {
   "cell_type": "code",
   "execution_count": 17,
   "id": "08e1c5de-9072-403b-be87-92690e5b4da1",
   "metadata": {},
   "outputs": [],
   "source": [
    "if not model_exists:\n",
    "    model.fit(X_train, y_train, epochs=8, batch_size=128, verbose=1)\n",
    "    model.save(MODEL_PATH)\n",
    "else:\n",
    "    model = load_model(MODEL_PATH)"
   ]
  },
  {
   "cell_type": "markdown",
   "id": "972ff67f-cc87-4aed-85e9-08337974335e",
   "metadata": {},
   "source": [
    "# Prediction"
   ]
  },
  {
   "cell_type": "markdown",
   "id": "b2df58f9-1f6d-4d97-b87a-bd0c938ec717",
   "metadata": {},
   "source": [
    "Let's get an image from the test set: "
   ]
  },
  {
   "cell_type": "code",
   "execution_count": 18,
   "id": "f640da3d-85a6-4091-890b-f88cb313bfef",
   "metadata": {},
   "outputs": [
    {
     "data": {
      "text/plain": [
       "<Figure size 640x480 with 0 Axes>"
      ]
     },
     "metadata": {},
     "output_type": "display_data"
    },
    {
     "data": {
      "image/png": "[encoded data removed]",
      "text/plain": [
       "<Figure size 480x480 with 1 Axes>"
      ]
     },
     "metadata": {},
     "output_type": "display_data"
    }
   ],
   "source": [
    "img_idx = visualize_one_image(from_='test', idx=3340, show_idx=True, return_idx=True)"
   ]
  },
  {
   "cell_type": "code",
   "execution_count": 19,
   "id": "3106d567-8dd8-49bb-b603-e6b367d00842",
   "metadata": {},
   "outputs": [
    {
     "data": {
      "text/plain": [
       "3340"
      ]
     },
     "execution_count": 19,
     "metadata": {},
     "output_type": "execute_result"
    }
   ],
   "source": [
    "img_idx"
   ]
  },
  {
   "cell_type": "code",
   "execution_count": 20,
   "id": "1698e122-704e-40c8-b580-161254722f7f",
   "metadata": {},
   "outputs": [],
   "source": [
    "def predict_image_class(example):\n",
    "    n, w, h = example.shape[0], example.shape[1], example.shape[2]\n",
    "    X_test = [example.reshape(1, n, w, h)]\n",
    "    y_pred = np.argmax(model.predict(X_test))\n",
    "    return y_pred"
   ]
  },
  {
   "cell_type": "code",
   "execution_count": 21,
   "id": "1c7747e8-0d70-47bb-9e2e-219e78adb0ab",
   "metadata": {},
   "outputs": [
    {
     "name": "stdout",
     "output_type": "stream",
     "text": [
      "1/1 [==============================] - 0s 134ms/step\n",
      "The predicted class for this image is 8\n"
     ]
    }
   ],
   "source": [
    "example = X_test[3340]\n",
    "predicted_class = predict_image_class(example)\n",
    "print(f'The predicted class for this image is {predicted_class}')"
   ]
  },
  {
   "cell_type": "markdown",
   "id": "37550b1f-a672-412f-8d96-69825ebf651f",
   "metadata": {},
   "source": [
    "# Prediction from unseen images"
   ]
  },
  {
   "cell_type": "markdown",
   "id": "8a251ab6-0963-401b-b92e-50ca07cdaa29",
   "metadata": {},
   "source": [
    "The images we obtained are from the test data. Let's try to hand-write some digits and test the model. "
   ]
  },
  {
   "cell_type": "code",
   "execution_count": 22,
   "id": "54bd1787-1745-42cd-ad38-610c04b94656",
   "metadata": {},
   "outputs": [],
   "source": [
    "IMAGE_1_PATH = '../figs/demo_6_test_digit_6.jpeg'\n",
    "IMAGE_2_PATH = '../figs/demo_6_test_digit_9.jpeg'"
   ]
  },
  {
   "cell_type": "code",
   "execution_count": 23,
   "id": "3e880abb-d90a-4d46-9fb7-d35895164881",
   "metadata": {},
   "outputs": [],
   "source": [
    "def crop_and_show_image(img_path):\n",
    "    if os.path.exists(img_path):\n",
    "        with Image.open(img_path) as image:\n",
    "            # Crop the image to the appropriate size\n",
    "            width, height = image.size\n",
    "            crop_size = min(width, height)\n",
    "            left = (width - crop_size) // 2\n",
    "            top = (height - crop_size) // 2\n",
    "            right = left + crop_size\n",
    "            bottom = top + crop_size\n",
    "            image = image.crop((left, top, right, bottom))\n",
    "\n",
    "            # Resize the image to 28x28 pixels\n",
    "            image = image.resize((28, 28))\n",
    "\n",
    "            # Convert the image to grayscale\n",
    "            image = image.convert('L')\n",
    "\n",
    "            # Convert the image to a NumPy array\n",
    "            image_array = np.array(image)\n",
    "\n",
    "            # Normalize the pixel values to be between 0 and 1\n",
    "            image_array = image_array / 255.0\n",
    "\n",
    "            # Reshape the array to have a single channel (since the MNIST dataset has grayscale images)\n",
    "            image_array = image_array.reshape((28, 28, 1))\n",
    "            \n",
    "            # show the image\n",
    "            plt.matshow(image_array)\n",
    "            plt.show()\n",
    "            \n",
    "        return image_array"
   ]
  },
  {
   "cell_type": "code",
   "execution_count": 24,
   "id": "83f67f80-86f5-4071-863b-de06b3acc14f",
   "metadata": {},
   "outputs": [
    {
     "data": {
      "image/png": "[encoded data removed]",
      "text/plain": [
       "<Figure size 480x480 with 1 Axes>"
      ]
     },
     "metadata": {},
     "output_type": "display_data"
    }
   ],
   "source": [
    "img_1_arr = crop_and_show_image(IMAGE_1_PATH)"
   ]
  },
  {
   "cell_type": "code",
   "execution_count": 25,
   "id": "ed076bdc-bebb-435f-9f72-857670129183",
   "metadata": {},
   "outputs": [
    {
     "name": "stdout",
     "output_type": "stream",
     "text": [
      "1/1 [==============================] - 0s 32ms/step\n",
      "The predicted class for this image is 1\n"
     ]
    }
   ],
   "source": [
    "predicted_class = predict_image_class(img_1_arr)\n",
    "print(f'The predicted class for this image is {predicted_class}')"
   ]
  },
  {
   "cell_type": "code",
   "execution_count": 26,
   "id": "95ff94df-77a7-454a-a3d4-5eeed3e509af",
   "metadata": {},
   "outputs": [
    {
     "data": {
      "image/png": "[encoded data removed]",
      "text/plain": [
       "<Figure size 480x480 with 1 Axes>"
      ]
     },
     "metadata": {},
     "output_type": "display_data"
    }
   ],
   "source": [
    "img_2_arr = crop_and_show_image(IMAGE_2_PATH)"
   ]
  },
  {
   "cell_type": "code",
   "execution_count": 27,
   "id": "876b03f9-e230-4b0a-ae29-9cee1737402b",
   "metadata": {},
   "outputs": [
    {
     "name": "stdout",
     "output_type": "stream",
     "text": [
      "1/1 [==============================] - 0s 29ms/step\n",
      "The predicted class for this image is 1\n"
     ]
    }
   ],
   "source": [
    "predicted_class = predict_image_class(img_2_arr)\n",
    "print(f'The predicted class for this image is {predicted_class}')"
   ]
  },
  {
   "cell_type": "markdown",
   "id": "75fd22b9-6250-48b0-b897-c5175521936b",
   "metadata": {},
   "source": [
    "Something interesting happens! To avoid confusion, sometimes we write a bar under the digit `6` and `9`. However, since our model has never exposed to such examples, it interestingly predicts `1`! (probably due to the bar written)\n",
    "\n",
    "Let's try a more realistic example, using the digit `7`. "
   ]
  },
  {
   "cell_type": "code",
   "execution_count": 28,
   "id": "c32cddfb-a749-41a4-992b-39e364b157bd",
   "metadata": {},
   "outputs": [],
   "source": [
    "IMAGE_3_PATH = '../figs/demo_6_test_digit_7.jpeg'"
   ]
  },
  {
   "cell_type": "code",
   "execution_count": 29,
   "id": "37a68cd6-a092-461d-9db7-8f816aa4e820",
   "metadata": {},
   "outputs": [
    {
     "data": {
      "image/png": "[encoded data removed]",
      "text/plain": [
       "<Figure size 480x480 with 1 Axes>"
      ]
     },
     "metadata": {},
     "output_type": "display_data"
    }
   ],
   "source": [
    "img_3_arr = crop_and_show_image(IMAGE_3_PATH)"
   ]
  },
  {
   "cell_type": "code",
   "execution_count": 30,
   "id": "28b70037-f3cc-4e30-aaa9-e5d5ef2accf5",
   "metadata": {},
   "outputs": [
    {
     "name": "stdout",
     "output_type": "stream",
     "text": [
      "1/1 [==============================] - 0s 31ms/step\n",
      "The predicted class for this image is 8\n"
     ]
    }
   ],
   "source": [
    "predicted_class = predict_image_class(img_3_arr)\n",
    "print(f'The predicted class for this image is {predicted_class}')"
   ]
  },
  {
   "cell_type": "markdown",
   "id": "c807989f-9a58-4b63-b67f-319fc7b1c97b",
   "metadata": {},
   "source": [
    "Probably the model hasn't encountered this writing style of the digit `7`...\n",
    "\n",
    "Let's try one more example: "
   ]
  },
  {
   "cell_type": "code",
   "execution_count": 31,
   "id": "1c8d4019-9781-4bcb-a184-e73ac48d260d",
   "metadata": {},
   "outputs": [],
   "source": [
    "IMAGE_4_PATH = '../figs/demo_6_test_digit_5.jpeg'"
   ]
  },
  {
   "cell_type": "code",
   "execution_count": 32,
   "id": "2c2c6991-6138-4b41-851c-7ac09f6eee5a",
   "metadata": {},
   "outputs": [
    {
     "data": {
      "image/png": "[encoded data removed]",
      "text/plain": [
       "<Figure size 480x480 with 1 Axes>"
      ]
     },
     "metadata": {},
     "output_type": "display_data"
    }
   ],
   "source": [
    "img_4_arr = crop_and_show_image(IMAGE_4_PATH)"
   ]
  },
  {
   "cell_type": "code",
   "execution_count": 33,
   "id": "a3fc6374-2b61-478c-946a-95c5bf345932",
   "metadata": {},
   "outputs": [
    {
     "name": "stdout",
     "output_type": "stream",
     "text": [
      "1/1 [==============================] - 0s 32ms/step\n",
      "The predicted class for this image is 5\n"
     ]
    }
   ],
   "source": [
    "predicted_class = predict_image_class(img_4_arr)\n",
    "print(f'The predicted class for this image is {predicted_class}')"
   ]
  },
  {
   "cell_type": "markdown",
   "id": "e81167d0-e4dd-4c27-b6a5-910a7e8efb15",
   "metadata": {},
   "source": [
    "Seems it is working! Nice job! "
   ]
  },
  {
   "cell_type": "code",
   "execution_count": null,
   "id": "4a346730-8742-48cc-b1fd-5272ba0f138a",
   "metadata": {},
   "outputs": [],
   "source": []
  }
 ],
 "metadata": {
  "kernelspec": {
   "display_name": "Python [conda env:fyp]",
   "language": "python",
   "name": "conda-env-fyp-py"
  },
  "language_info": {
   "codemirror_mode": {
    "name": "ipython",
    "version": 3
   },
   "file_extension": ".py",
   "mimetype": "text/x-python",
   "name": "python",
   "nbconvert_exporter": "python",
   "pygments_lexer": "ipython3",
   "version": "3.10.10"
  }
 },
 "nbformat": 4,
 "nbformat_minor": 5
}
