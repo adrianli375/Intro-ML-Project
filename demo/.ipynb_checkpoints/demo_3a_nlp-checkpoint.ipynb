{
 "cells": [
  {
   "cell_type": "markdown",
   "id": "96ca192d-dead-4951-8772-38f4d54d7b0e",
   "metadata": {},
   "source": [
    "# Demo 3: A classification task involving Natural Langauge Processing (NLP)"
   ]
  },
  {
   "cell_type": "markdown",
   "id": "d2f64d57-7074-4620-8836-55db7fbe2e18",
   "metadata": {
    "tags": []
   },
   "source": [
    "## Imports"
   ]
  },
  {
   "cell_type": "code",
   "execution_count": 1,
   "id": "a3ce7ace-d52f-4fd8-9fff-9bba932764da",
   "metadata": {},
   "outputs": [],
   "source": [
    "import matplotlib.pyplot as plt\n",
    "import pandas as pd\n",
    "import re\n",
    "from sklearn.datasets import make_blobs\n",
    "from sklearn.decomposition import PCA, TruncatedSVD\n",
    "from sklearn.ensemble import RandomForestClassifier\n",
    "from sklearn.feature_extraction.text import CountVectorizer, TfidfVectorizer\n",
    "from sklearn.linear_model import LogisticRegression\n",
    "from sklearn.metrics import classification_report\n",
    "from sklearn.model_selection import cross_validate, GridSearchCV\n",
    "from sklearn.naive_bayes import MultinomialNB\n",
    "from sklearn.pipeline import make_pipeline\n",
    "from sklearn.preprocessing import FunctionTransformer\n",
    "import spacy\n",
    "from tqdm import tqdm"
   ]
  },
  {
   "cell_type": "markdown",
   "id": "9baa7b2a-1ec7-45ff-bf16-a487f826a587",
   "metadata": {},
   "source": [
    "## Problem Description"
   ]
  },
  {
   "cell_type": "markdown",
   "id": "c7dcecb0-a26c-48c1-8ca8-b54798cabdf2",
   "metadata": {},
   "source": [
    "This dataset is taken from [Twitter Financial News dataset](https://www.kaggle.com/datasets/sulphatet/twitter-financial-news) from Kaggle. We are given text as input and we need to predict the corresponding category of the financial news. \n",
    "\n",
    "According to the documentation, the categories are listed as below: \n",
    "\n",
    "    \"LABEL_0\": \"Analyst Update\",\n",
    "\n",
    "    \"LABEL_1\": \"Fed | Central Banks\",\n",
    "\n",
    "    \"LABEL_2\": \"Company | Product News\",\n",
    "\n",
    "    \"LABEL_3\": \"Treasuries | Corporate Debt\",\n",
    "\n",
    "    \"LABEL_4\": \"Dividend\",\n",
    "\n",
    "    \"LABEL_5\": \"Earnings\",\n",
    "\n",
    "    \"LABEL_6\": \"Energy | Oil\",\n",
    "\n",
    "    \"LABEL_7\": \"Financials\",\n",
    "\n",
    "    \"LABEL_8\": \"Currencies\",\n",
    "\n",
    "    \"LABEL_9\": \"General News | Opinion\",\n",
    "\n",
    "    \"LABEL_10\": \"Gold | Metals | Materials\",\n",
    "\n",
    "    \"LABEL_11\": \"IPO\",\n",
    "\n",
    "    \"LABEL_12\": \"Legal | Regulation\",\n",
    "\n",
    "    \"LABEL_13\": \"M&A | Investments\",\n",
    "\n",
    "    \"LABEL_14\": \"Macro\",\n",
    "\n",
    "    \"LABEL_15\": \"Markets\",\n",
    "\n",
    "    \"LABEL_16\": \"Politics\",\n",
    "\n",
    "    \"LABEL_17\": \"Personnel Change\",\n",
    "\n",
    "    \"LABEL_18\": \"Stock Commentary\",\n",
    "\n",
    "    \"LABEL_19\": \"Stock Movement\". "
   ]
  },
  {
   "cell_type": "markdown",
   "id": "2c6b467d-080d-47ab-b78c-3a5582a31dd9",
   "metadata": {},
   "source": [
    "There are two possible ways to handle this data and build a predictive model. First, in Part A, we will focus on using Bag of Words representation. Next, in Part B (the next notebook), we will focus on using some pre-trained NLP libraries. "
   ]
  },
  {
   "cell_type": "markdown",
   "id": "c9bcbe9e-8fcc-4fe7-85d9-33d53674c184",
   "metadata": {},
   "source": [
    "## Reading the data"
   ]
  },
  {
   "cell_type": "markdown",
   "id": "c539c573-4b66-4ce4-bcc3-5e08ad9136a4",
   "metadata": {},
   "source": [
    "First, we read in the training and validation data provided. We will further split the training set into training and validation data. The validation data provided will be used as the test data. "
   ]
  },
  {
   "cell_type": "code",
   "execution_count": 2,
   "id": "10155218-5c10-4ae7-8be9-dd43b48d440c",
   "metadata": {},
   "outputs": [],
   "source": [
    "train_df = pd.read_csv(\"../datasets/train_data.csv\")\n",
    "test_df = pd.read_csv(\"../datasets/valid_data.csv\")"
   ]
  },
  {
   "cell_type": "markdown",
   "id": "89285afc-9b3b-4afc-9860-93a5e69d5e7b",
   "metadata": {},
   "source": [
    "Let's have a look of how the training data looks like: "
   ]
  },
  {
   "cell_type": "code",
   "execution_count": 3,
   "id": "a68c1b28-c44c-4524-bbb1-648868c65777",
   "metadata": {},
   "outputs": [
    {
     "data": {
      "text/html": [
       "<div>\n",
       "<style scoped>\n",
       "    .dataframe tbody tr th:only-of-type {\n",
       "        vertical-align: middle;\n",
       "    }\n",
       "\n",
       "    .dataframe tbody tr th {\n",
       "        vertical-align: top;\n",
       "    }\n",
       "\n",
       "    .dataframe thead th {\n",
       "        text-align: right;\n",
       "    }\n",
       "</style>\n",
       "<table border=\"1\" class=\"dataframe\">\n",
       "  <thead>\n",
       "    <tr style=\"text-align: right;\">\n",
       "      <th></th>\n",
       "      <th>text</th>\n",
       "      <th>label</th>\n",
       "    </tr>\n",
       "  </thead>\n",
       "  <tbody>\n",
       "    <tr>\n",
       "      <th>0</th>\n",
       "      <td>Here are Thursday's biggest analyst calls: App...</td>\n",
       "      <td>0</td>\n",
       "    </tr>\n",
       "    <tr>\n",
       "      <th>1</th>\n",
       "      <td>Buy Las Vegas Sands as travel to Singapore bui...</td>\n",
       "      <td>0</td>\n",
       "    </tr>\n",
       "    <tr>\n",
       "      <th>2</th>\n",
       "      <td>Piper Sandler downgrades DocuSign to sell, cit...</td>\n",
       "      <td>0</td>\n",
       "    </tr>\n",
       "    <tr>\n",
       "      <th>3</th>\n",
       "      <td>Analysts react to Tesla's latest earnings, bre...</td>\n",
       "      <td>0</td>\n",
       "    </tr>\n",
       "    <tr>\n",
       "      <th>4</th>\n",
       "      <td>Netflix and its peers are set for a ‘return to...</td>\n",
       "      <td>0</td>\n",
       "    </tr>\n",
       "    <tr>\n",
       "      <th>...</th>\n",
       "      <td>...</td>\n",
       "      <td>...</td>\n",
       "    </tr>\n",
       "    <tr>\n",
       "      <th>16985</th>\n",
       "      <td>KfW credit line for Uniper could be raised to ...</td>\n",
       "      <td>3</td>\n",
       "    </tr>\n",
       "    <tr>\n",
       "      <th>16986</th>\n",
       "      <td>KfW credit line for Uniper could be raised to ...</td>\n",
       "      <td>3</td>\n",
       "    </tr>\n",
       "    <tr>\n",
       "      <th>16987</th>\n",
       "      <td>Russian  https://t.co/R0iPhyo5p7 sells 1 bln r...</td>\n",
       "      <td>3</td>\n",
       "    </tr>\n",
       "    <tr>\n",
       "      <th>16988</th>\n",
       "      <td>Global ESG bond issuance posts H1 dip as supra...</td>\n",
       "      <td>3</td>\n",
       "    </tr>\n",
       "    <tr>\n",
       "      <th>16989</th>\n",
       "      <td>Brazil's Petrobras says it signed a $1.25 bill...</td>\n",
       "      <td>3</td>\n",
       "    </tr>\n",
       "  </tbody>\n",
       "</table>\n",
       "<p>16990 rows × 2 columns</p>\n",
       "</div>"
      ],
      "text/plain": [
       "                                                    text  label\n",
       "0      Here are Thursday's biggest analyst calls: App...      0\n",
       "1      Buy Las Vegas Sands as travel to Singapore bui...      0\n",
       "2      Piper Sandler downgrades DocuSign to sell, cit...      0\n",
       "3      Analysts react to Tesla's latest earnings, bre...      0\n",
       "4      Netflix and its peers are set for a ‘return to...      0\n",
       "...                                                  ...    ...\n",
       "16985  KfW credit line for Uniper could be raised to ...      3\n",
       "16986  KfW credit line for Uniper could be raised to ...      3\n",
       "16987  Russian  https://t.co/R0iPhyo5p7 sells 1 bln r...      3\n",
       "16988  Global ESG bond issuance posts H1 dip as supra...      3\n",
       "16989  Brazil's Petrobras says it signed a $1.25 bill...      3\n",
       "\n",
       "[16990 rows x 2 columns]"
      ]
     },
     "execution_count": 3,
     "metadata": {},
     "output_type": "execute_result"
    }
   ],
   "source": [
    "train_df"
   ]
  },
  {
   "cell_type": "markdown",
   "id": "f03d7d64-10bf-47bf-a389-005b03714c8f",
   "metadata": {},
   "source": [
    "Let's split our data into `X` and `y`, with their own training, validation and test portions. "
   ]
  },
  {
   "cell_type": "code",
   "execution_count": 4,
   "id": "aae90845-65cb-444e-8d42-2d8e651fd594",
   "metadata": {},
   "outputs": [],
   "source": [
    "X_train, y_train = train_df[\"text\"], train_df[\"label\"]\n",
    "X_test, y_test = test_df[\"text\"], test_df[\"label\"]"
   ]
  },
  {
   "cell_type": "markdown",
   "id": "af56dc3c-ef71-469c-889b-226f8b73a893",
   "metadata": {},
   "source": [
    "## Preprocessing text"
   ]
  },
  {
   "cell_type": "markdown",
   "id": "bd5d6ff0-d4c0-4fed-a34f-69223c729266",
   "metadata": {},
   "source": [
    "At first glance, there are some hyperlinks present in the text which may contaminate our data and affect the performance. We define a function to remove the hyperlinks from the data: "
   ]
  },
  {
   "cell_type": "code",
   "execution_count": 5,
   "id": "fe22b39f-c947-4cf2-9030-51edf7de8786",
   "metadata": {},
   "outputs": [],
   "source": [
    "def remove_hyperlinks(text_df: pd.DataFrame) -> pd.DataFrame:\n",
    "    url_pattern = re.compile(r\"http(s)?://\\S+\")\n",
    "    text_df = text_df.apply(lambda text: re.sub(url_pattern, '', text))\n",
    "    return text_df"
   ]
  },
  {
   "cell_type": "markdown",
   "id": "23d7a3af-84db-495b-84ee-9f9c5465a7ba",
   "metadata": {},
   "source": [
    "Let's consider an example with a hyperlink: "
   ]
  },
  {
   "cell_type": "code",
   "execution_count": 6,
   "id": "bf85a123-c2ba-484f-bbab-204587942d97",
   "metadata": {},
   "outputs": [
    {
     "data": {
      "text/plain": [
       "'SEE Expands Sustainable Portfolio With Launch of Innovative Paper Bubble Mailer  https://t.co/R1OebY7H6L  https://t.co/b66wE3yvPI'"
      ]
     },
     "execution_count": 6,
     "metadata": {},
     "output_type": "execute_result"
    }
   ],
   "source": [
    "X_train.iloc[926]"
   ]
  },
  {
   "cell_type": "markdown",
   "id": "84e3c167-3f35-438e-a79a-fa72bb6d5815",
   "metadata": {},
   "source": [
    "Let's apply our newly defined function `remove_hyperlinks` and see the corresponding output: "
   ]
  },
  {
   "cell_type": "code",
   "execution_count": 7,
   "id": "25886f5d-0a3c-4348-beee-92fd0536eaa0",
   "metadata": {},
   "outputs": [
    {
     "data": {
      "text/plain": [
       "'SEE Expands Sustainable Portfolio With Launch of Innovative Paper Bubble Mailer    '"
      ]
     },
     "execution_count": 7,
     "metadata": {},
     "output_type": "execute_result"
    }
   ],
   "source": [
    "remove_hyperlinks(X_train).iloc[926]"
   ]
  },
  {
   "cell_type": "markdown",
   "id": "1d0da735-32ca-4d1d-87c1-9f46dac0d635",
   "metadata": {},
   "source": [
    "## Part A: Using Bag-of-Words (BoW) representation"
   ]
  },
  {
   "cell_type": "markdown",
   "id": "c15858e2-0f23-4311-9a99-6178ecf32e7a",
   "metadata": {},
   "source": [
    "Bag of Words (BoW) is a common text representation technique used in Natural Language Processing (NLP). It is a method of converting a piece of text into a numerical vector that can be used by machine learning models for further analysis. BoW works by counting the frequency of words in a document and representing each document as a vector of word counts. The order of words is disregarded, and each word is treated as independent of the others. This results in a sparse matrix representation of the document collection (i.e. a matrix with most of the values being zero), where each row represents a document, and each column represents a unique word in the entire corpus. BoW is a simple yet powerful way of representing text data for machine learning applications such as text classification, sentiment analysis, and topic modeling."
   ]
  },
  {
   "cell_type": "markdown",
   "id": "afc30eb7-1315-471b-8708-0b35e30f6a83",
   "metadata": {},
   "source": [
    "In Bag of Words representation, there are two common ways to store the text occurrences. One is to store the counts while the other is to store the score that is inversely related to the frequency of the word in the document. We will discuss both methods in this demo. "
   ]
  },
  {
   "cell_type": "markdown",
   "id": "fe394b5f-c571-4466-ae08-fec1c0bf63ea",
   "metadata": {},
   "source": [
    "### Count Vectorizer"
   ]
  },
  {
   "cell_type": "markdown",
   "id": "c66e5a7c-08c1-45ac-b272-d03b469f8eaf",
   "metadata": {},
   "source": [
    "A way to encode Bag of Words is to use `CountVectorizer`. `CountVectorizer` is a popular text feature extraction technique used to convert a collection of text documents into a matrix of word counts. It is a simple and effective way to transform raw text into a format that machine learning algorithms can understand. `CountVectorizer` tokenizes the text into words and then counts the frequency of each word in each document. "
   ]
  },
  {
   "cell_type": "markdown",
   "id": "ff58c9fe-228b-420b-89fd-bec5354cd696",
   "metadata": {},
   "source": [
    "Let's try to create a `CountVectorizer` and experiment it. \n",
    "\n",
    "`min_df` is the minimum document frequency threshold for a term to be included in the vocabulary. If a term appears in fewer documents than `min_df`, it will be ignored. `max_df` is the maximum document frequency threshold for a term to be included in the vocabulary. If a term appears in more documents than max_df, it is considered a common word and will be ignored. `stop_words` are English stopwords, which include \"a\", \"an\" and \"the\". Setting `binary=True` ensures that the output will only be either `1` or `0`. By default, it is set to `False` and the number of counts of the word (instead of `1`) will be stored. "
   ]
  },
  {
   "cell_type": "code",
   "execution_count": 8,
   "id": "64d4dabe-4cd8-4134-ac6c-6508b325c569",
   "metadata": {},
   "outputs": [],
   "source": [
    "count_vec = CountVectorizer(min_df=2, max_df=2500, stop_words=\"english\", binary=True)"
   ]
  },
  {
   "cell_type": "markdown",
   "id": "adb3728d-d497-44bb-aed6-64f09b6bd68a",
   "metadata": {},
   "source": [
    "We then fit the `CountVectorizer` into `X_train`, and visualize it. "
   ]
  },
  {
   "cell_type": "code",
   "execution_count": 9,
   "id": "24410980-328b-4f2e-a1ed-fb0dfaeecf37",
   "metadata": {},
   "outputs": [
    {
     "data": {
      "text/html": [
       "<div>\n",
       "<style scoped>\n",
       "    .dataframe tbody tr th:only-of-type {\n",
       "        vertical-align: middle;\n",
       "    }\n",
       "\n",
       "    .dataframe tbody tr th {\n",
       "        vertical-align: top;\n",
       "    }\n",
       "\n",
       "    .dataframe thead th {\n",
       "        text-align: right;\n",
       "    }\n",
       "</style>\n",
       "<table border=\"1\" class=\"dataframe\">\n",
       "  <thead>\n",
       "    <tr style=\"text-align: right;\">\n",
       "      <th></th>\n",
       "      <th>00</th>\n",
       "      <th>000</th>\n",
       "      <th>000x</th>\n",
       "      <th>003</th>\n",
       "      <th>005</th>\n",
       "      <th>01</th>\n",
       "      <th>01b</th>\n",
       "      <th>01m</th>\n",
       "      <th>02</th>\n",
       "      <th>021</th>\n",
       "      <th>...</th>\n",
       "      <th>zs</th>\n",
       "      <th>ztcsmdelqh</th>\n",
       "      <th>zts</th>\n",
       "      <th>zuckerberg</th>\n",
       "      <th>zuo</th>\n",
       "      <th>zuora</th>\n",
       "      <th>zurich</th>\n",
       "      <th>zv7wn7ctl9</th>\n",
       "      <th>zyme</th>\n",
       "      <th>zymeworks</th>\n",
       "    </tr>\n",
       "  </thead>\n",
       "  <tbody>\n",
       "    <tr>\n",
       "      <th>0</th>\n",
       "      <td>0</td>\n",
       "      <td>0</td>\n",
       "      <td>0</td>\n",
       "      <td>0</td>\n",
       "      <td>0</td>\n",
       "      <td>0</td>\n",
       "      <td>0</td>\n",
       "      <td>0</td>\n",
       "      <td>0</td>\n",
       "      <td>0</td>\n",
       "      <td>...</td>\n",
       "      <td>0</td>\n",
       "      <td>0</td>\n",
       "      <td>0</td>\n",
       "      <td>0</td>\n",
       "      <td>0</td>\n",
       "      <td>0</td>\n",
       "      <td>0</td>\n",
       "      <td>0</td>\n",
       "      <td>0</td>\n",
       "      <td>0</td>\n",
       "    </tr>\n",
       "    <tr>\n",
       "      <th>1</th>\n",
       "      <td>0</td>\n",
       "      <td>0</td>\n",
       "      <td>0</td>\n",
       "      <td>0</td>\n",
       "      <td>0</td>\n",
       "      <td>0</td>\n",
       "      <td>0</td>\n",
       "      <td>0</td>\n",
       "      <td>0</td>\n",
       "      <td>0</td>\n",
       "      <td>...</td>\n",
       "      <td>0</td>\n",
       "      <td>0</td>\n",
       "      <td>0</td>\n",
       "      <td>0</td>\n",
       "      <td>0</td>\n",
       "      <td>0</td>\n",
       "      <td>0</td>\n",
       "      <td>0</td>\n",
       "      <td>0</td>\n",
       "      <td>0</td>\n",
       "    </tr>\n",
       "    <tr>\n",
       "      <th>2</th>\n",
       "      <td>0</td>\n",
       "      <td>0</td>\n",
       "      <td>0</td>\n",
       "      <td>0</td>\n",
       "      <td>0</td>\n",
       "      <td>0</td>\n",
       "      <td>0</td>\n",
       "      <td>0</td>\n",
       "      <td>0</td>\n",
       "      <td>0</td>\n",
       "      <td>...</td>\n",
       "      <td>0</td>\n",
       "      <td>0</td>\n",
       "      <td>0</td>\n",
       "      <td>0</td>\n",
       "      <td>0</td>\n",
       "      <td>0</td>\n",
       "      <td>0</td>\n",
       "      <td>0</td>\n",
       "      <td>0</td>\n",
       "      <td>0</td>\n",
       "    </tr>\n",
       "    <tr>\n",
       "      <th>3</th>\n",
       "      <td>0</td>\n",
       "      <td>0</td>\n",
       "      <td>0</td>\n",
       "      <td>0</td>\n",
       "      <td>0</td>\n",
       "      <td>0</td>\n",
       "      <td>0</td>\n",
       "      <td>0</td>\n",
       "      <td>0</td>\n",
       "      <td>0</td>\n",
       "      <td>...</td>\n",
       "      <td>0</td>\n",
       "      <td>0</td>\n",
       "      <td>0</td>\n",
       "      <td>0</td>\n",
       "      <td>0</td>\n",
       "      <td>0</td>\n",
       "      <td>0</td>\n",
       "      <td>0</td>\n",
       "      <td>0</td>\n",
       "      <td>0</td>\n",
       "    </tr>\n",
       "    <tr>\n",
       "      <th>4</th>\n",
       "      <td>0</td>\n",
       "      <td>0</td>\n",
       "      <td>0</td>\n",
       "      <td>0</td>\n",
       "      <td>0</td>\n",
       "      <td>0</td>\n",
       "      <td>0</td>\n",
       "      <td>0</td>\n",
       "      <td>0</td>\n",
       "      <td>0</td>\n",
       "      <td>...</td>\n",
       "      <td>0</td>\n",
       "      <td>0</td>\n",
       "      <td>0</td>\n",
       "      <td>0</td>\n",
       "      <td>0</td>\n",
       "      <td>0</td>\n",
       "      <td>0</td>\n",
       "      <td>0</td>\n",
       "      <td>0</td>\n",
       "      <td>0</td>\n",
       "    </tr>\n",
       "    <tr>\n",
       "      <th>...</th>\n",
       "      <td>...</td>\n",
       "      <td>...</td>\n",
       "      <td>...</td>\n",
       "      <td>...</td>\n",
       "      <td>...</td>\n",
       "      <td>...</td>\n",
       "      <td>...</td>\n",
       "      <td>...</td>\n",
       "      <td>...</td>\n",
       "      <td>...</td>\n",
       "      <td>...</td>\n",
       "      <td>...</td>\n",
       "      <td>...</td>\n",
       "      <td>...</td>\n",
       "      <td>...</td>\n",
       "      <td>...</td>\n",
       "      <td>...</td>\n",
       "      <td>...</td>\n",
       "      <td>...</td>\n",
       "      <td>...</td>\n",
       "      <td>...</td>\n",
       "    </tr>\n",
       "    <tr>\n",
       "      <th>16985</th>\n",
       "      <td>0</td>\n",
       "      <td>0</td>\n",
       "      <td>0</td>\n",
       "      <td>0</td>\n",
       "      <td>0</td>\n",
       "      <td>0</td>\n",
       "      <td>0</td>\n",
       "      <td>0</td>\n",
       "      <td>0</td>\n",
       "      <td>0</td>\n",
       "      <td>...</td>\n",
       "      <td>0</td>\n",
       "      <td>0</td>\n",
       "      <td>0</td>\n",
       "      <td>0</td>\n",
       "      <td>0</td>\n",
       "      <td>0</td>\n",
       "      <td>0</td>\n",
       "      <td>0</td>\n",
       "      <td>0</td>\n",
       "      <td>0</td>\n",
       "    </tr>\n",
       "    <tr>\n",
       "      <th>16986</th>\n",
       "      <td>0</td>\n",
       "      <td>0</td>\n",
       "      <td>0</td>\n",
       "      <td>0</td>\n",
       "      <td>0</td>\n",
       "      <td>0</td>\n",
       "      <td>0</td>\n",
       "      <td>0</td>\n",
       "      <td>0</td>\n",
       "      <td>0</td>\n",
       "      <td>...</td>\n",
       "      <td>0</td>\n",
       "      <td>0</td>\n",
       "      <td>0</td>\n",
       "      <td>0</td>\n",
       "      <td>0</td>\n",
       "      <td>0</td>\n",
       "      <td>0</td>\n",
       "      <td>0</td>\n",
       "      <td>0</td>\n",
       "      <td>0</td>\n",
       "    </tr>\n",
       "    <tr>\n",
       "      <th>16987</th>\n",
       "      <td>0</td>\n",
       "      <td>0</td>\n",
       "      <td>0</td>\n",
       "      <td>0</td>\n",
       "      <td>0</td>\n",
       "      <td>0</td>\n",
       "      <td>0</td>\n",
       "      <td>0</td>\n",
       "      <td>0</td>\n",
       "      <td>0</td>\n",
       "      <td>...</td>\n",
       "      <td>0</td>\n",
       "      <td>0</td>\n",
       "      <td>0</td>\n",
       "      <td>0</td>\n",
       "      <td>0</td>\n",
       "      <td>0</td>\n",
       "      <td>0</td>\n",
       "      <td>0</td>\n",
       "      <td>0</td>\n",
       "      <td>0</td>\n",
       "    </tr>\n",
       "    <tr>\n",
       "      <th>16988</th>\n",
       "      <td>0</td>\n",
       "      <td>0</td>\n",
       "      <td>0</td>\n",
       "      <td>0</td>\n",
       "      <td>0</td>\n",
       "      <td>0</td>\n",
       "      <td>0</td>\n",
       "      <td>0</td>\n",
       "      <td>0</td>\n",
       "      <td>0</td>\n",
       "      <td>...</td>\n",
       "      <td>0</td>\n",
       "      <td>0</td>\n",
       "      <td>0</td>\n",
       "      <td>0</td>\n",
       "      <td>0</td>\n",
       "      <td>0</td>\n",
       "      <td>0</td>\n",
       "      <td>0</td>\n",
       "      <td>0</td>\n",
       "      <td>0</td>\n",
       "    </tr>\n",
       "    <tr>\n",
       "      <th>16989</th>\n",
       "      <td>0</td>\n",
       "      <td>0</td>\n",
       "      <td>0</td>\n",
       "      <td>0</td>\n",
       "      <td>0</td>\n",
       "      <td>0</td>\n",
       "      <td>0</td>\n",
       "      <td>0</td>\n",
       "      <td>0</td>\n",
       "      <td>0</td>\n",
       "      <td>...</td>\n",
       "      <td>0</td>\n",
       "      <td>0</td>\n",
       "      <td>0</td>\n",
       "      <td>0</td>\n",
       "      <td>0</td>\n",
       "      <td>0</td>\n",
       "      <td>0</td>\n",
       "      <td>0</td>\n",
       "      <td>0</td>\n",
       "      <td>0</td>\n",
       "    </tr>\n",
       "  </tbody>\n",
       "</table>\n",
       "<p>16990 rows × 12507 columns</p>\n",
       "</div>"
      ],
      "text/plain": [
       "       00  000  000x  003  005  01  01b  01m  02  021  ...  zs  ztcsmdelqh  \\\n",
       "0       0    0     0    0    0   0    0    0   0    0  ...   0           0   \n",
       "1       0    0     0    0    0   0    0    0   0    0  ...   0           0   \n",
       "2       0    0     0    0    0   0    0    0   0    0  ...   0           0   \n",
       "3       0    0     0    0    0   0    0    0   0    0  ...   0           0   \n",
       "4       0    0     0    0    0   0    0    0   0    0  ...   0           0   \n",
       "...    ..  ...   ...  ...  ...  ..  ...  ...  ..  ...  ...  ..         ...   \n",
       "16985   0    0     0    0    0   0    0    0   0    0  ...   0           0   \n",
       "16986   0    0     0    0    0   0    0    0   0    0  ...   0           0   \n",
       "16987   0    0     0    0    0   0    0    0   0    0  ...   0           0   \n",
       "16988   0    0     0    0    0   0    0    0   0    0  ...   0           0   \n",
       "16989   0    0     0    0    0   0    0    0   0    0  ...   0           0   \n",
       "\n",
       "       zts  zuckerberg  zuo  zuora  zurich  zv7wn7ctl9  zyme  zymeworks  \n",
       "0        0           0    0      0       0           0     0          0  \n",
       "1        0           0    0      0       0           0     0          0  \n",
       "2        0           0    0      0       0           0     0          0  \n",
       "3        0           0    0      0       0           0     0          0  \n",
       "4        0           0    0      0       0           0     0          0  \n",
       "...    ...         ...  ...    ...     ...         ...   ...        ...  \n",
       "16985    0           0    0      0       0           0     0          0  \n",
       "16986    0           0    0      0       0           0     0          0  \n",
       "16987    0           0    0      0       0           0     0          0  \n",
       "16988    0           0    0      0       0           0     0          0  \n",
       "16989    0           0    0      0       0           0     0          0  \n",
       "\n",
       "[16990 rows x 12507 columns]"
      ]
     },
     "execution_count": 9,
     "metadata": {},
     "output_type": "execute_result"
    }
   ],
   "source": [
    "pd.DataFrame(count_vec.fit_transform(X_train).toarray(), columns=count_vec.get_feature_names_out())"
   ]
  },
  {
   "cell_type": "markdown",
   "id": "8ef5ed67-03bf-4902-9a62-a9968de0b0bc",
   "metadata": {},
   "source": [
    "It seems that there are a lot zero entries. That's why it is called a sparse matrix. Nevertheless, there are non-zero entries in the table, but they appear in a rare occasion. "
   ]
  },
  {
   "cell_type": "markdown",
   "id": "731474c3-144e-41bb-ac0b-3376d61d1833",
   "metadata": {},
   "source": [
    "The problem with `CountVectorizer` is that it cannot distinguish the importances of each word, because it gives an equal weight to each word. Thus, we cannot simply use `CountVectorizer` to solve our problem. We will use it with other tools later. "
   ]
  },
  {
   "cell_type": "markdown",
   "id": "7b00944b-88d4-48f9-8f06-cdfa58f2735d",
   "metadata": {},
   "source": [
    "### Tfidf Vectorizer"
   ]
  },
  {
   "cell_type": "markdown",
   "id": "070a04f1-2755-4ae3-9eb1-8f0e2ab23bf0",
   "metadata": {},
   "source": [
    "An alternative to `CountVectorizer` is `TfidfVectorizer`. TF-IDF (Term Frequency-Inverse Document Frequency) is a common technique used in natural language processing to represent text documents as numerical vectors. It is similar to `CountVectorizer`, but instead of representing the occurrence count of each word in a document, it weighs the importance of each word by taking into account how often it appears in the document and how often it appears in the entire corpus of documents. This helps to downweight the importance of common words like \"the\" and \"and\" that are likely to appear in many documents, and to upweight the importance of rare words that are more specific to a particular document or topic. The resulting TF-IDF vectors can be used as input to various machine learning models for tasks such as text classification, clustering, and information retrieval."
   ]
  },
  {
   "cell_type": "markdown",
   "id": "a9f349fb-f2b9-4129-9675-3fbe023296b3",
   "metadata": {},
   "source": [
    "Let's try to fit a `TfidfVectorizer` to our data and visualize our transformed table. "
   ]
  },
  {
   "cell_type": "code",
   "execution_count": 10,
   "id": "1b0984e6-ccb1-466f-94d6-90dd6b09ba70",
   "metadata": {},
   "outputs": [],
   "source": [
    "tfidf_vec = TfidfVectorizer(min_df=2, max_df=2500, stop_words=\"english\")"
   ]
  },
  {
   "cell_type": "code",
   "execution_count": 11,
   "id": "ebce70bc-4028-44f1-8d6a-f7f3717b964a",
   "metadata": {},
   "outputs": [
    {
     "data": {
      "text/html": [
       "<div>\n",
       "<style scoped>\n",
       "    .dataframe tbody tr th:only-of-type {\n",
       "        vertical-align: middle;\n",
       "    }\n",
       "\n",
       "    .dataframe tbody tr th {\n",
       "        vertical-align: top;\n",
       "    }\n",
       "\n",
       "    .dataframe thead th {\n",
       "        text-align: right;\n",
       "    }\n",
       "</style>\n",
       "<table border=\"1\" class=\"dataframe\">\n",
       "  <thead>\n",
       "    <tr style=\"text-align: right;\">\n",
       "      <th></th>\n",
       "      <th>00</th>\n",
       "      <th>000</th>\n",
       "      <th>000x</th>\n",
       "      <th>003</th>\n",
       "      <th>005</th>\n",
       "      <th>01</th>\n",
       "      <th>01b</th>\n",
       "      <th>01m</th>\n",
       "      <th>02</th>\n",
       "      <th>021</th>\n",
       "      <th>...</th>\n",
       "      <th>zs</th>\n",
       "      <th>ztcsmdelqh</th>\n",
       "      <th>zts</th>\n",
       "      <th>zuckerberg</th>\n",
       "      <th>zuo</th>\n",
       "      <th>zuora</th>\n",
       "      <th>zurich</th>\n",
       "      <th>zv7wn7ctl9</th>\n",
       "      <th>zyme</th>\n",
       "      <th>zymeworks</th>\n",
       "    </tr>\n",
       "  </thead>\n",
       "  <tbody>\n",
       "    <tr>\n",
       "      <th>0</th>\n",
       "      <td>0.0</td>\n",
       "      <td>0.0</td>\n",
       "      <td>0.0</td>\n",
       "      <td>0.0</td>\n",
       "      <td>0.0</td>\n",
       "      <td>0.0</td>\n",
       "      <td>0.0</td>\n",
       "      <td>0.0</td>\n",
       "      <td>0.0</td>\n",
       "      <td>0.0</td>\n",
       "      <td>...</td>\n",
       "      <td>0.0</td>\n",
       "      <td>0.0</td>\n",
       "      <td>0.0</td>\n",
       "      <td>0.0</td>\n",
       "      <td>0.0</td>\n",
       "      <td>0.0</td>\n",
       "      <td>0.0</td>\n",
       "      <td>0.0</td>\n",
       "      <td>0.0</td>\n",
       "      <td>0.0</td>\n",
       "    </tr>\n",
       "    <tr>\n",
       "      <th>1</th>\n",
       "      <td>0.0</td>\n",
       "      <td>0.0</td>\n",
       "      <td>0.0</td>\n",
       "      <td>0.0</td>\n",
       "      <td>0.0</td>\n",
       "      <td>0.0</td>\n",
       "      <td>0.0</td>\n",
       "      <td>0.0</td>\n",
       "      <td>0.0</td>\n",
       "      <td>0.0</td>\n",
       "      <td>...</td>\n",
       "      <td>0.0</td>\n",
       "      <td>0.0</td>\n",
       "      <td>0.0</td>\n",
       "      <td>0.0</td>\n",
       "      <td>0.0</td>\n",
       "      <td>0.0</td>\n",
       "      <td>0.0</td>\n",
       "      <td>0.0</td>\n",
       "      <td>0.0</td>\n",
       "      <td>0.0</td>\n",
       "    </tr>\n",
       "    <tr>\n",
       "      <th>2</th>\n",
       "      <td>0.0</td>\n",
       "      <td>0.0</td>\n",
       "      <td>0.0</td>\n",
       "      <td>0.0</td>\n",
       "      <td>0.0</td>\n",
       "      <td>0.0</td>\n",
       "      <td>0.0</td>\n",
       "      <td>0.0</td>\n",
       "      <td>0.0</td>\n",
       "      <td>0.0</td>\n",
       "      <td>...</td>\n",
       "      <td>0.0</td>\n",
       "      <td>0.0</td>\n",
       "      <td>0.0</td>\n",
       "      <td>0.0</td>\n",
       "      <td>0.0</td>\n",
       "      <td>0.0</td>\n",
       "      <td>0.0</td>\n",
       "      <td>0.0</td>\n",
       "      <td>0.0</td>\n",
       "      <td>0.0</td>\n",
       "    </tr>\n",
       "    <tr>\n",
       "      <th>3</th>\n",
       "      <td>0.0</td>\n",
       "      <td>0.0</td>\n",
       "      <td>0.0</td>\n",
       "      <td>0.0</td>\n",
       "      <td>0.0</td>\n",
       "      <td>0.0</td>\n",
       "      <td>0.0</td>\n",
       "      <td>0.0</td>\n",
       "      <td>0.0</td>\n",
       "      <td>0.0</td>\n",
       "      <td>...</td>\n",
       "      <td>0.0</td>\n",
       "      <td>0.0</td>\n",
       "      <td>0.0</td>\n",
       "      <td>0.0</td>\n",
       "      <td>0.0</td>\n",
       "      <td>0.0</td>\n",
       "      <td>0.0</td>\n",
       "      <td>0.0</td>\n",
       "      <td>0.0</td>\n",
       "      <td>0.0</td>\n",
       "    </tr>\n",
       "    <tr>\n",
       "      <th>4</th>\n",
       "      <td>0.0</td>\n",
       "      <td>0.0</td>\n",
       "      <td>0.0</td>\n",
       "      <td>0.0</td>\n",
       "      <td>0.0</td>\n",
       "      <td>0.0</td>\n",
       "      <td>0.0</td>\n",
       "      <td>0.0</td>\n",
       "      <td>0.0</td>\n",
       "      <td>0.0</td>\n",
       "      <td>...</td>\n",
       "      <td>0.0</td>\n",
       "      <td>0.0</td>\n",
       "      <td>0.0</td>\n",
       "      <td>0.0</td>\n",
       "      <td>0.0</td>\n",
       "      <td>0.0</td>\n",
       "      <td>0.0</td>\n",
       "      <td>0.0</td>\n",
       "      <td>0.0</td>\n",
       "      <td>0.0</td>\n",
       "    </tr>\n",
       "    <tr>\n",
       "      <th>...</th>\n",
       "      <td>...</td>\n",
       "      <td>...</td>\n",
       "      <td>...</td>\n",
       "      <td>...</td>\n",
       "      <td>...</td>\n",
       "      <td>...</td>\n",
       "      <td>...</td>\n",
       "      <td>...</td>\n",
       "      <td>...</td>\n",
       "      <td>...</td>\n",
       "      <td>...</td>\n",
       "      <td>...</td>\n",
       "      <td>...</td>\n",
       "      <td>...</td>\n",
       "      <td>...</td>\n",
       "      <td>...</td>\n",
       "      <td>...</td>\n",
       "      <td>...</td>\n",
       "      <td>...</td>\n",
       "      <td>...</td>\n",
       "      <td>...</td>\n",
       "    </tr>\n",
       "    <tr>\n",
       "      <th>16985</th>\n",
       "      <td>0.0</td>\n",
       "      <td>0.0</td>\n",
       "      <td>0.0</td>\n",
       "      <td>0.0</td>\n",
       "      <td>0.0</td>\n",
       "      <td>0.0</td>\n",
       "      <td>0.0</td>\n",
       "      <td>0.0</td>\n",
       "      <td>0.0</td>\n",
       "      <td>0.0</td>\n",
       "      <td>...</td>\n",
       "      <td>0.0</td>\n",
       "      <td>0.0</td>\n",
       "      <td>0.0</td>\n",
       "      <td>0.0</td>\n",
       "      <td>0.0</td>\n",
       "      <td>0.0</td>\n",
       "      <td>0.0</td>\n",
       "      <td>0.0</td>\n",
       "      <td>0.0</td>\n",
       "      <td>0.0</td>\n",
       "    </tr>\n",
       "    <tr>\n",
       "      <th>16986</th>\n",
       "      <td>0.0</td>\n",
       "      <td>0.0</td>\n",
       "      <td>0.0</td>\n",
       "      <td>0.0</td>\n",
       "      <td>0.0</td>\n",
       "      <td>0.0</td>\n",
       "      <td>0.0</td>\n",
       "      <td>0.0</td>\n",
       "      <td>0.0</td>\n",
       "      <td>0.0</td>\n",
       "      <td>...</td>\n",
       "      <td>0.0</td>\n",
       "      <td>0.0</td>\n",
       "      <td>0.0</td>\n",
       "      <td>0.0</td>\n",
       "      <td>0.0</td>\n",
       "      <td>0.0</td>\n",
       "      <td>0.0</td>\n",
       "      <td>0.0</td>\n",
       "      <td>0.0</td>\n",
       "      <td>0.0</td>\n",
       "    </tr>\n",
       "    <tr>\n",
       "      <th>16987</th>\n",
       "      <td>0.0</td>\n",
       "      <td>0.0</td>\n",
       "      <td>0.0</td>\n",
       "      <td>0.0</td>\n",
       "      <td>0.0</td>\n",
       "      <td>0.0</td>\n",
       "      <td>0.0</td>\n",
       "      <td>0.0</td>\n",
       "      <td>0.0</td>\n",
       "      <td>0.0</td>\n",
       "      <td>...</td>\n",
       "      <td>0.0</td>\n",
       "      <td>0.0</td>\n",
       "      <td>0.0</td>\n",
       "      <td>0.0</td>\n",
       "      <td>0.0</td>\n",
       "      <td>0.0</td>\n",
       "      <td>0.0</td>\n",
       "      <td>0.0</td>\n",
       "      <td>0.0</td>\n",
       "      <td>0.0</td>\n",
       "    </tr>\n",
       "    <tr>\n",
       "      <th>16988</th>\n",
       "      <td>0.0</td>\n",
       "      <td>0.0</td>\n",
       "      <td>0.0</td>\n",
       "      <td>0.0</td>\n",
       "      <td>0.0</td>\n",
       "      <td>0.0</td>\n",
       "      <td>0.0</td>\n",
       "      <td>0.0</td>\n",
       "      <td>0.0</td>\n",
       "      <td>0.0</td>\n",
       "      <td>...</td>\n",
       "      <td>0.0</td>\n",
       "      <td>0.0</td>\n",
       "      <td>0.0</td>\n",
       "      <td>0.0</td>\n",
       "      <td>0.0</td>\n",
       "      <td>0.0</td>\n",
       "      <td>0.0</td>\n",
       "      <td>0.0</td>\n",
       "      <td>0.0</td>\n",
       "      <td>0.0</td>\n",
       "    </tr>\n",
       "    <tr>\n",
       "      <th>16989</th>\n",
       "      <td>0.0</td>\n",
       "      <td>0.0</td>\n",
       "      <td>0.0</td>\n",
       "      <td>0.0</td>\n",
       "      <td>0.0</td>\n",
       "      <td>0.0</td>\n",
       "      <td>0.0</td>\n",
       "      <td>0.0</td>\n",
       "      <td>0.0</td>\n",
       "      <td>0.0</td>\n",
       "      <td>...</td>\n",
       "      <td>0.0</td>\n",
       "      <td>0.0</td>\n",
       "      <td>0.0</td>\n",
       "      <td>0.0</td>\n",
       "      <td>0.0</td>\n",
       "      <td>0.0</td>\n",
       "      <td>0.0</td>\n",
       "      <td>0.0</td>\n",
       "      <td>0.0</td>\n",
       "      <td>0.0</td>\n",
       "    </tr>\n",
       "  </tbody>\n",
       "</table>\n",
       "<p>16990 rows × 12507 columns</p>\n",
       "</div>"
      ],
      "text/plain": [
       "        00  000  000x  003  005   01  01b  01m   02  021  ...   zs  \\\n",
       "0      0.0  0.0   0.0  0.0  0.0  0.0  0.0  0.0  0.0  0.0  ...  0.0   \n",
       "1      0.0  0.0   0.0  0.0  0.0  0.0  0.0  0.0  0.0  0.0  ...  0.0   \n",
       "2      0.0  0.0   0.0  0.0  0.0  0.0  0.0  0.0  0.0  0.0  ...  0.0   \n",
       "3      0.0  0.0   0.0  0.0  0.0  0.0  0.0  0.0  0.0  0.0  ...  0.0   \n",
       "4      0.0  0.0   0.0  0.0  0.0  0.0  0.0  0.0  0.0  0.0  ...  0.0   \n",
       "...    ...  ...   ...  ...  ...  ...  ...  ...  ...  ...  ...  ...   \n",
       "16985  0.0  0.0   0.0  0.0  0.0  0.0  0.0  0.0  0.0  0.0  ...  0.0   \n",
       "16986  0.0  0.0   0.0  0.0  0.0  0.0  0.0  0.0  0.0  0.0  ...  0.0   \n",
       "16987  0.0  0.0   0.0  0.0  0.0  0.0  0.0  0.0  0.0  0.0  ...  0.0   \n",
       "16988  0.0  0.0   0.0  0.0  0.0  0.0  0.0  0.0  0.0  0.0  ...  0.0   \n",
       "16989  0.0  0.0   0.0  0.0  0.0  0.0  0.0  0.0  0.0  0.0  ...  0.0   \n",
       "\n",
       "       ztcsmdelqh  zts  zuckerberg  zuo  zuora  zurich  zv7wn7ctl9  zyme  \\\n",
       "0             0.0  0.0         0.0  0.0    0.0     0.0         0.0   0.0   \n",
       "1             0.0  0.0         0.0  0.0    0.0     0.0         0.0   0.0   \n",
       "2             0.0  0.0         0.0  0.0    0.0     0.0         0.0   0.0   \n",
       "3             0.0  0.0         0.0  0.0    0.0     0.0         0.0   0.0   \n",
       "4             0.0  0.0         0.0  0.0    0.0     0.0         0.0   0.0   \n",
       "...           ...  ...         ...  ...    ...     ...         ...   ...   \n",
       "16985         0.0  0.0         0.0  0.0    0.0     0.0         0.0   0.0   \n",
       "16986         0.0  0.0         0.0  0.0    0.0     0.0         0.0   0.0   \n",
       "16987         0.0  0.0         0.0  0.0    0.0     0.0         0.0   0.0   \n",
       "16988         0.0  0.0         0.0  0.0    0.0     0.0         0.0   0.0   \n",
       "16989         0.0  0.0         0.0  0.0    0.0     0.0         0.0   0.0   \n",
       "\n",
       "       zymeworks  \n",
       "0            0.0  \n",
       "1            0.0  \n",
       "2            0.0  \n",
       "3            0.0  \n",
       "4            0.0  \n",
       "...          ...  \n",
       "16985        0.0  \n",
       "16986        0.0  \n",
       "16987        0.0  \n",
       "16988        0.0  \n",
       "16989        0.0  \n",
       "\n",
       "[16990 rows x 12507 columns]"
      ]
     },
     "execution_count": 11,
     "metadata": {},
     "output_type": "execute_result"
    }
   ],
   "source": [
    "tfidf_df = pd.DataFrame(tfidf_vec.fit_transform(X_train).toarray(), columns=tfidf_vec.get_feature_names_out())\n",
    "tfidf_df"
   ]
  },
  {
   "cell_type": "markdown",
   "id": "7056d39a-1250-4fd5-8fa3-f66cb5cb827a",
   "metadata": {},
   "source": [
    "Let's take a closer look at one of the row entries: "
   ]
  },
  {
   "cell_type": "code",
   "execution_count": 12,
   "id": "2aad5ceb-c675-4d77-b33c-74a71e4fd9f4",
   "metadata": {},
   "outputs": [
    {
     "data": {
      "text/plain": [
       "00            0.0\n",
       "000           0.0\n",
       "000x          0.0\n",
       "003           0.0\n",
       "005           0.0\n",
       "             ... \n",
       "zuora         0.0\n",
       "zurich        0.0\n",
       "zv7wn7ctl9    0.0\n",
       "zyme          0.0\n",
       "zymeworks     0.0\n",
       "Name: 11079, Length: 12507, dtype: float64"
      ]
     },
     "execution_count": 12,
     "metadata": {},
     "output_type": "execute_result"
    }
   ],
   "source": [
    "tfidf_df.iloc[11079]"
   ]
  },
  {
   "cell_type": "markdown",
   "id": "64ffe0fe-2780-48e1-b6a5-f0860884fc92",
   "metadata": {},
   "source": [
    "We see there is a non-zero value corresponding to the appearance of the word `\"zurich\"`. "
   ]
  },
  {
   "cell_type": "markdown",
   "id": "dd1b54a7-be06-4dc0-a492-7bee5700e7b2",
   "metadata": {},
   "source": [
    "### Dimensionality Reduction"
   ]
  },
  {
   "cell_type": "markdown",
   "id": "e09b0712-9930-4b9f-b9a6-c19cf6ff9a86",
   "metadata": {},
   "source": [
    "After trying to experiment both vectorizers, we can see that there are a total of `11000` features for each example. That's a lot and probably our machine learning algorithms can work slowly in this case. "
   ]
  },
  {
   "cell_type": "markdown",
   "id": "83e07de3-6dbc-4014-9d98-180ee653253b",
   "metadata": {},
   "source": [
    "A handful tool to reduce the dimensions of the data is to use Principal Component Analysis (`PCA`). PCA is often used to reduce the number of variables or features in a dataset while retaining as much information as possible. The goal of PCA is to find the directions in the data that contain the most variation and project the data onto those directions. These directions, known as principal components, are linear combinations of the original features. By reducing the number of features, PCA can simplify data analysis, speed up computation, and improve the performance of machine learning algorithms."
   ]
  },
  {
   "cell_type": "markdown",
   "id": "69e26045-9ea3-4bb5-8613-03cfd5a4af7b",
   "metadata": {},
   "source": [
    "#### Example with PCA"
   ]
  },
  {
   "cell_type": "markdown",
   "id": "627cb1b0-ad96-48ac-8c85-07587ad43d55",
   "metadata": {},
   "source": [
    "Let's try and experiment PCA using some toy data: "
   ]
  },
  {
   "cell_type": "code",
   "execution_count": 13,
   "id": "cdf2b468-bd08-448f-b846-4cc9781be5cb",
   "metadata": {},
   "outputs": [],
   "source": [
    "X_toy, y_toy = make_blobs(n_samples=100, n_features=4, random_state=3361)"
   ]
  },
  {
   "cell_type": "code",
   "execution_count": 14,
   "id": "3583a760-b85d-4aba-959a-e740764e37bc",
   "metadata": {},
   "outputs": [
    {
     "data": {
      "text/html": [
       "<div>\n",
       "<style scoped>\n",
       "    .dataframe tbody tr th:only-of-type {\n",
       "        vertical-align: middle;\n",
       "    }\n",
       "\n",
       "    .dataframe tbody tr th {\n",
       "        vertical-align: top;\n",
       "    }\n",
       "\n",
       "    .dataframe thead th {\n",
       "        text-align: right;\n",
       "    }\n",
       "</style>\n",
       "<table border=\"1\" class=\"dataframe\">\n",
       "  <thead>\n",
       "    <tr style=\"text-align: right;\">\n",
       "      <th></th>\n",
       "      <th>Feature 1</th>\n",
       "      <th>Feature 2</th>\n",
       "      <th>Feature 3</th>\n",
       "      <th>Feature 4</th>\n",
       "    </tr>\n",
       "  </thead>\n",
       "  <tbody>\n",
       "    <tr>\n",
       "      <th>0</th>\n",
       "      <td>10.227376</td>\n",
       "      <td>2.840794</td>\n",
       "      <td>6.495020</td>\n",
       "      <td>-3.445365</td>\n",
       "    </tr>\n",
       "    <tr>\n",
       "      <th>1</th>\n",
       "      <td>8.120116</td>\n",
       "      <td>10.261880</td>\n",
       "      <td>1.256521</td>\n",
       "      <td>-5.497278</td>\n",
       "    </tr>\n",
       "    <tr>\n",
       "      <th>2</th>\n",
       "      <td>10.013606</td>\n",
       "      <td>2.455471</td>\n",
       "      <td>5.964847</td>\n",
       "      <td>-0.370574</td>\n",
       "    </tr>\n",
       "    <tr>\n",
       "      <th>3</th>\n",
       "      <td>9.923874</td>\n",
       "      <td>9.331582</td>\n",
       "      <td>-0.392457</td>\n",
       "      <td>-6.160657</td>\n",
       "    </tr>\n",
       "    <tr>\n",
       "      <th>4</th>\n",
       "      <td>6.324440</td>\n",
       "      <td>9.544804</td>\n",
       "      <td>1.538214</td>\n",
       "      <td>-4.768161</td>\n",
       "    </tr>\n",
       "    <tr>\n",
       "      <th>...</th>\n",
       "      <td>...</td>\n",
       "      <td>...</td>\n",
       "      <td>...</td>\n",
       "      <td>...</td>\n",
       "    </tr>\n",
       "    <tr>\n",
       "      <th>95</th>\n",
       "      <td>9.184771</td>\n",
       "      <td>9.342881</td>\n",
       "      <td>0.121954</td>\n",
       "      <td>-4.728039</td>\n",
       "    </tr>\n",
       "    <tr>\n",
       "      <th>96</th>\n",
       "      <td>8.987222</td>\n",
       "      <td>8.213860</td>\n",
       "      <td>0.367702</td>\n",
       "      <td>-3.531868</td>\n",
       "    </tr>\n",
       "    <tr>\n",
       "      <th>97</th>\n",
       "      <td>6.966361</td>\n",
       "      <td>-0.287266</td>\n",
       "      <td>-2.256834</td>\n",
       "      <td>-1.607946</td>\n",
       "    </tr>\n",
       "    <tr>\n",
       "      <th>98</th>\n",
       "      <td>6.977942</td>\n",
       "      <td>1.859832</td>\n",
       "      <td>-1.894130</td>\n",
       "      <td>-1.908689</td>\n",
       "    </tr>\n",
       "    <tr>\n",
       "      <th>99</th>\n",
       "      <td>6.877678</td>\n",
       "      <td>7.956680</td>\n",
       "      <td>1.081799</td>\n",
       "      <td>-3.725594</td>\n",
       "    </tr>\n",
       "  </tbody>\n",
       "</table>\n",
       "<p>100 rows × 4 columns</p>\n",
       "</div>"
      ],
      "text/plain": [
       "    Feature 1  Feature 2  Feature 3  Feature 4\n",
       "0   10.227376   2.840794   6.495020  -3.445365\n",
       "1    8.120116  10.261880   1.256521  -5.497278\n",
       "2   10.013606   2.455471   5.964847  -0.370574\n",
       "3    9.923874   9.331582  -0.392457  -6.160657\n",
       "4    6.324440   9.544804   1.538214  -4.768161\n",
       "..        ...        ...        ...        ...\n",
       "95   9.184771   9.342881   0.121954  -4.728039\n",
       "96   8.987222   8.213860   0.367702  -3.531868\n",
       "97   6.966361  -0.287266  -2.256834  -1.607946\n",
       "98   6.977942   1.859832  -1.894130  -1.908689\n",
       "99   6.877678   7.956680   1.081799  -3.725594\n",
       "\n",
       "[100 rows x 4 columns]"
      ]
     },
     "execution_count": 14,
     "metadata": {},
     "output_type": "execute_result"
    }
   ],
   "source": [
    "pd.DataFrame(X_toy, columns=[f\"Feature {i + 1}\" for i in range(4)])"
   ]
  },
  {
   "cell_type": "markdown",
   "id": "e2d1c73b-22bf-43d7-9d67-f763e6d56297",
   "metadata": {},
   "source": [
    "Well, we have 4 features and 100 samples. Probably hard to visualize anything beyond a 3-dimensional space. Let's try to reduce our data into 2 dimensions and visualize it. "
   ]
  },
  {
   "cell_type": "code",
   "execution_count": 15,
   "id": "837256bd-254a-46b4-a309-407a535da5dd",
   "metadata": {},
   "outputs": [
    {
     "data": {
      "text/html": [
       "<div>\n",
       "<style scoped>\n",
       "    .dataframe tbody tr th:only-of-type {\n",
       "        vertical-align: middle;\n",
       "    }\n",
       "\n",
       "    .dataframe tbody tr th {\n",
       "        vertical-align: top;\n",
       "    }\n",
       "\n",
       "    .dataframe thead th {\n",
       "        text-align: right;\n",
       "    }\n",
       "</style>\n",
       "<table border=\"1\" class=\"dataframe\">\n",
       "  <thead>\n",
       "    <tr style=\"text-align: right;\">\n",
       "      <th></th>\n",
       "      <th>New Feature 1</th>\n",
       "      <th>New Feature 2</th>\n",
       "    </tr>\n",
       "  </thead>\n",
       "  <tbody>\n",
       "    <tr>\n",
       "      <th>0</th>\n",
       "      <td>-3.979074</td>\n",
       "      <td>-3.770451</td>\n",
       "    </tr>\n",
       "    <tr>\n",
       "      <th>1</th>\n",
       "      <td>-3.221092</td>\n",
       "      <td>5.682596</td>\n",
       "    </tr>\n",
       "    <tr>\n",
       "      <th>2</th>\n",
       "      <td>-2.909004</td>\n",
       "      <td>-4.667639</td>\n",
       "    </tr>\n",
       "    <tr>\n",
       "      <th>3</th>\n",
       "      <td>-1.905334</td>\n",
       "      <td>5.773372</td>\n",
       "    </tr>\n",
       "    <tr>\n",
       "      <th>4</th>\n",
       "      <td>-2.573956</td>\n",
       "      <td>4.947999</td>\n",
       "    </tr>\n",
       "    <tr>\n",
       "      <th>...</th>\n",
       "      <td>...</td>\n",
       "      <td>...</td>\n",
       "    </tr>\n",
       "    <tr>\n",
       "      <th>95</th>\n",
       "      <td>-1.977350</td>\n",
       "      <td>5.188644</td>\n",
       "    </tr>\n",
       "    <tr>\n",
       "      <th>96</th>\n",
       "      <td>-1.407406</td>\n",
       "      <td>3.834736</td>\n",
       "    </tr>\n",
       "    <tr>\n",
       "      <th>97</th>\n",
       "      <td>5.776838</td>\n",
       "      <td>-1.983614</td>\n",
       "    </tr>\n",
       "    <tr>\n",
       "      <th>98</th>\n",
       "      <td>4.348774</td>\n",
       "      <td>-0.359821</td>\n",
       "    </tr>\n",
       "    <tr>\n",
       "      <th>99</th>\n",
       "      <td>-1.391372</td>\n",
       "      <td>3.547091</td>\n",
       "    </tr>\n",
       "  </tbody>\n",
       "</table>\n",
       "<p>100 rows × 2 columns</p>\n",
       "</div>"
      ],
      "text/plain": [
       "    New Feature 1  New Feature 2\n",
       "0       -3.979074      -3.770451\n",
       "1       -3.221092       5.682596\n",
       "2       -2.909004      -4.667639\n",
       "3       -1.905334       5.773372\n",
       "4       -2.573956       4.947999\n",
       "..            ...            ...\n",
       "95      -1.977350       5.188644\n",
       "96      -1.407406       3.834736\n",
       "97       5.776838      -1.983614\n",
       "98       4.348774      -0.359821\n",
       "99      -1.391372       3.547091\n",
       "\n",
       "[100 rows x 2 columns]"
      ]
     },
     "execution_count": 15,
     "metadata": {},
     "output_type": "execute_result"
    }
   ],
   "source": [
    "pca_toy = PCA(n_components=2, random_state=615) # reduce from d=4 to d=2\n",
    "X_toy_d_reduced = pca_toy.fit_transform(X_toy)\n",
    "X_toy_d_reduced_df = pd.DataFrame(X_toy_d_reduced,columns=[f\"New Feature {i + 1}\" for i in range(2)])\n",
    "X_toy_d_reduced_df"
   ]
  },
  {
   "cell_type": "code",
   "execution_count": 16,
   "id": "dfda0423-8c3d-4028-8afc-5c3877207630",
   "metadata": {},
   "outputs": [
    {
     "data": {
      "image/png": "[encoded data removed]",
      "text/plain": [
       "<Figure size 640x480 with 1 Axes>"
      ]
     },
     "metadata": {},
     "output_type": "display_data"
    }
   ],
   "source": [
    "plt.scatter(X_toy_d_reduced_df[\"New Feature 1\"], X_toy_d_reduced_df[\"New Feature 2\"])\n",
    "\n",
    "plt.show()"
   ]
  },
  {
   "cell_type": "markdown",
   "id": "1e4c98b0-ada4-4d21-8b65-ef9039516e29",
   "metadata": {},
   "source": [
    "So we are now reducing our dimensions from `4` to `2`. How much of the information we have retained? We can check with the `explained_variance_ratio_` attribute. "
   ]
  },
  {
   "cell_type": "code",
   "execution_count": 17,
   "id": "dabd5a37-ec0d-4467-9158-889ba92ac8e1",
   "metadata": {},
   "outputs": [
    {
     "data": {
      "text/plain": [
       "0.940543600754679"
      ]
     },
     "execution_count": 17,
     "metadata": {},
     "output_type": "execute_result"
    }
   ],
   "source": [
    "pca_toy.explained_variance_ratio_.sum()"
   ]
  },
  {
   "cell_type": "markdown",
   "id": "842a4597-eb96-4b19-8741-6f023d8c928d",
   "metadata": {},
   "source": [
    "Surprisingly, the two principal components explained 94% of the variance which was contained in a dataset with dimension of `4`! Hopefully you can see the power of using PCA here. "
   ]
  },
  {
   "cell_type": "markdown",
   "id": "bd6cd503-c3c2-4c16-956d-e12907331040",
   "metadata": {},
   "source": [
    "#### Using PCA in our example"
   ]
  },
  {
   "cell_type": "markdown",
   "id": "b2ef480e-81bc-4c53-83de-2e0108f687d1",
   "metadata": {},
   "source": [
    "Back to our example, probably we will need to choose how many principal components to include for our dataset. Let's try experiment this on the transformed features using `TfidfVectorizer`. Let's see how many prinicipal components are needed to explain 25% of the variance in our data. "
   ]
  },
  {
   "cell_type": "code",
   "execution_count": 18,
   "id": "18411a65-e545-4c3d-a5e5-b3e282c8974e",
   "metadata": {},
   "outputs": [
    {
     "name": "stdout",
     "output_type": "stream",
     "text": [
      "With 233 principal components, explained variance ratio = 24.95%\n",
      "With 234 principal components, explained variance ratio = 25.02%\n"
     ]
    }
   ],
   "source": [
    "k = 233\n",
    "explained_variance = 0\n",
    "while explained_variance <= 0.25:\n",
    "    pca = PCA(n_components=k, random_state=4904)\n",
    "    pca.fit_transform(tfidf_df)\n",
    "    explained_variance = pca.explained_variance_ratio_.sum()\n",
    "    print(f\"With {k} principal component{'s' if k > 1 else ''}, explained variance ratio = {round(explained_variance*100, 2)}%\")\n",
    "    k += 1"
   ]
  },
  {
   "cell_type": "markdown",
   "id": "2e0a999f-7d2c-4586-89df-35829d1effc8",
   "metadata": {},
   "source": [
    "Seems that a minimum of `234` principal components is needed. Round up to the nearest `5`, we will use `235` principal components. "
   ]
  },
  {
   "cell_type": "markdown",
   "id": "cc42113e-e138-4754-803f-321ee0b78cd7",
   "metadata": {
    "tags": []
   },
   "source": [
    "### Modelling"
   ]
  },
  {
   "cell_type": "markdown",
   "id": "5e537e44-7b1c-4c82-8145-4f2cfc73a888",
   "metadata": {},
   "source": [
    "Let's begin building our model. First, our text features will pass into a `TfidfVectorizer`. Next, we will use `TruncatedSVD` (which is similar to `PCA` but specifically designed for sparse data) to reduce the dimensionality of the features. Then, we will try out the following classifiers to model our outcomes: \n",
    "\n",
    "1.  `LogisticRegression`\n",
    "2.  `RandomForestClassifier`\n",
    "3.  Naive Bayes Classifier (`MultinomialNB`)"
   ]
  },
  {
   "cell_type": "markdown",
   "id": "21a59598-c091-41eb-bd7b-1d909d1575dc",
   "metadata": {},
   "source": [
    "#### 1. Classification using `LogisticRegression`"
   ]
  },
  {
   "cell_type": "markdown",
   "id": "c9e1ba4e-37ca-4979-8b97-382be4dc3a91",
   "metadata": {},
   "source": [
    "Let's build a pipeline with `LogisticRegression` as our estimator. "
   ]
  },
  {
   "cell_type": "code",
   "execution_count": 19,
   "id": "a10d259f-a9d8-44c8-a9b7-f5308bcb72ba",
   "metadata": {},
   "outputs": [],
   "source": [
    "pipe_lr = make_pipeline(\n",
    "    FunctionTransformer(remove_hyperlinks), \n",
    "    TfidfVectorizer(min_df=2, max_df=2500, stop_words=\"english\"), \n",
    "    TruncatedSVD(n_components=235, random_state=228), \n",
    "    LogisticRegression(random_state=391)\n",
    ")"
   ]
  },
  {
   "cell_type": "code",
   "execution_count": 20,
   "id": "6fd641d6-c116-41f7-bd92-a92b033598f2",
   "metadata": {},
   "outputs": [
    {
     "name": "stderr",
     "output_type": "stream",
     "text": [
      "/Users/adrianli375/miniconda3/envs/cpsc330/lib/python3.10/site-packages/sklearn/linear_model/_logistic.py:444: ConvergenceWarning: lbfgs failed to converge (status=1):\n",
      "STOP: TOTAL NO. of ITERATIONS REACHED LIMIT.\n",
      "\n",
      "Increase the number of iterations (max_iter) or scale the data as shown in:\n",
      "    https://scikit-learn.org/stable/modules/preprocessing.html\n",
      "Please also refer to the documentation for alternative solver options:\n",
      "    https://scikit-learn.org/stable/modules/linear_model.html#logistic-regression\n",
      "  n_iter_i = _check_optimize_result(\n"
     ]
    },
    {
     "data": {
      "text/html": [
       "<style>#sk-container-id-1 {color: black;background-color: white;}#sk-container-id-1 pre{padding: 0;}#sk-container-id-1 div.sk-toggleable {background-color: white;}#sk-container-id-1 label.sk-toggleable__label {cursor: pointer;display: block;width: 100%;margin-bottom: 0;padding: 0.3em;box-sizing: border-box;text-align: center;}#sk-container-id-1 label.sk-toggleable__label-arrow:before {content: \"▸\";float: left;margin-right: 0.25em;color: #696969;}#sk-container-id-1 label.sk-toggleable__label-arrow:hover:before {color: black;}#sk-container-id-1 div.sk-estimator:hover label.sk-toggleable__label-arrow:before {color: black;}#sk-container-id-1 div.sk-toggleable__content {max-height: 0;max-width: 0;overflow: hidden;text-align: left;background-color: #f0f8ff;}#sk-container-id-1 div.sk-toggleable__content pre {margin: 0.2em;color: black;border-radius: 0.25em;background-color: #f0f8ff;}#sk-container-id-1 input.sk-toggleable__control:checked~div.sk-toggleable__content {max-height: 200px;max-width: 100%;overflow: auto;}#sk-container-id-1 input.sk-toggleable__control:checked~label.sk-toggleable__label-arrow:before {content: \"▾\";}#sk-container-id-1 div.sk-estimator input.sk-toggleable__control:checked~label.sk-toggleable__label {background-color: #d4ebff;}#sk-container-id-1 div.sk-label input.sk-toggleable__control:checked~label.sk-toggleable__label {background-color: #d4ebff;}#sk-container-id-1 input.sk-hidden--visually {border: 0;clip: rect(1px 1px 1px 1px);clip: rect(1px, 1px, 1px, 1px);height: 1px;margin: -1px;overflow: hidden;padding: 0;position: absolute;width: 1px;}#sk-container-id-1 div.sk-estimator {font-family: monospace;background-color: #f0f8ff;border: 1px dotted black;border-radius: 0.25em;box-sizing: border-box;margin-bottom: 0.5em;}#sk-container-id-1 div.sk-estimator:hover {background-color: #d4ebff;}#sk-container-id-1 div.sk-parallel-item::after {content: \"\";width: 100%;border-bottom: 1px solid gray;flex-grow: 1;}#sk-container-id-1 div.sk-label:hover label.sk-toggleable__label {background-color: #d4ebff;}#sk-container-id-1 div.sk-serial::before {content: \"\";position: absolute;border-left: 1px solid gray;box-sizing: border-box;top: 0;bottom: 0;left: 50%;z-index: 0;}#sk-container-id-1 div.sk-serial {display: flex;flex-direction: column;align-items: center;background-color: white;padding-right: 0.2em;padding-left: 0.2em;position: relative;}#sk-container-id-1 div.sk-item {position: relative;z-index: 1;}#sk-container-id-1 div.sk-parallel {display: flex;align-items: stretch;justify-content: center;background-color: white;position: relative;}#sk-container-id-1 div.sk-item::before, #sk-container-id-1 div.sk-parallel-item::before {content: \"\";position: absolute;border-left: 1px solid gray;box-sizing: border-box;top: 0;bottom: 0;left: 50%;z-index: -1;}#sk-container-id-1 div.sk-parallel-item {display: flex;flex-direction: column;z-index: 1;position: relative;background-color: white;}#sk-container-id-1 div.sk-parallel-item:first-child::after {align-self: flex-end;width: 50%;}#sk-container-id-1 div.sk-parallel-item:last-child::after {align-self: flex-start;width: 50%;}#sk-container-id-1 div.sk-parallel-item:only-child::after {width: 0;}#sk-container-id-1 div.sk-dashed-wrapped {border: 1px dashed gray;margin: 0 0.4em 0.5em 0.4em;box-sizing: border-box;padding-bottom: 0.4em;background-color: white;}#sk-container-id-1 div.sk-label label {font-family: monospace;font-weight: bold;display: inline-block;line-height: 1.2em;}#sk-container-id-1 div.sk-label-container {text-align: center;}#sk-container-id-1 div.sk-container {/* jupyter's `normalize.less` sets `[hidden] { display: none; }` but bootstrap.min.css set `[hidden] { display: none !important; }` so we also need the `!important` here to be able to override the default hidden behavior on the sphinx rendered scikit-learn.org. See: https://github.com/scikit-learn/scikit-learn/issues/21755 */display: inline-block !important;position: relative;}#sk-container-id-1 div.sk-text-repr-fallback {display: none;}</style><div id=\"sk-container-id-1\" class=\"sk-top-container\"><div class=\"sk-text-repr-fallback\"><pre>Pipeline(steps=[(&#x27;functiontransformer&#x27;,\n",
       "                 FunctionTransformer(func=&lt;function remove_hyperlinks at 0x16f55d750&gt;)),\n",
       "                (&#x27;tfidfvectorizer&#x27;,\n",
       "                 TfidfVectorizer(max_df=2500, min_df=2, stop_words=&#x27;english&#x27;)),\n",
       "                (&#x27;truncatedsvd&#x27;,\n",
       "                 TruncatedSVD(n_components=235, random_state=228)),\n",
       "                (&#x27;logisticregression&#x27;, LogisticRegression(random_state=391))])</pre><b>In a Jupyter environment, please rerun this cell to show the HTML representation or trust the notebook. <br />On GitHub, the HTML representation is unable to render, please try loading this page with nbviewer.org.</b></div><div class=\"sk-container\" hidden><div class=\"sk-item sk-dashed-wrapped\"><div class=\"sk-label-container\"><div class=\"sk-label sk-toggleable\"><input class=\"sk-toggleable__control sk-hidden--visually\" id=\"sk-estimator-id-1\" type=\"checkbox\" ><label for=\"sk-estimator-id-1\" class=\"sk-toggleable__label sk-toggleable__label-arrow\">Pipeline</label><div class=\"sk-toggleable__content\"><pre>Pipeline(steps=[(&#x27;functiontransformer&#x27;,\n",
       "                 FunctionTransformer(func=&lt;function remove_hyperlinks at 0x16f55d750&gt;)),\n",
       "                (&#x27;tfidfvectorizer&#x27;,\n",
       "                 TfidfVectorizer(max_df=2500, min_df=2, stop_words=&#x27;english&#x27;)),\n",
       "                (&#x27;truncatedsvd&#x27;,\n",
       "                 TruncatedSVD(n_components=235, random_state=228)),\n",
       "                (&#x27;logisticregression&#x27;, LogisticRegression(random_state=391))])</pre></div></div></div><div class=\"sk-serial\"><div class=\"sk-item\"><div class=\"sk-estimator sk-toggleable\"><input class=\"sk-toggleable__control sk-hidden--visually\" id=\"sk-estimator-id-2\" type=\"checkbox\" ><label for=\"sk-estimator-id-2\" class=\"sk-toggleable__label sk-toggleable__label-arrow\">FunctionTransformer</label><div class=\"sk-toggleable__content\"><pre>FunctionTransformer(func=&lt;function remove_hyperlinks at 0x16f55d750&gt;)</pre></div></div></div><div class=\"sk-item\"><div class=\"sk-estimator sk-toggleable\"><input class=\"sk-toggleable__control sk-hidden--visually\" id=\"sk-estimator-id-3\" type=\"checkbox\" ><label for=\"sk-estimator-id-3\" class=\"sk-toggleable__label sk-toggleable__label-arrow\">TfidfVectorizer</label><div class=\"sk-toggleable__content\"><pre>TfidfVectorizer(max_df=2500, min_df=2, stop_words=&#x27;english&#x27;)</pre></div></div></div><div class=\"sk-item\"><div class=\"sk-estimator sk-toggleable\"><input class=\"sk-toggleable__control sk-hidden--visually\" id=\"sk-estimator-id-4\" type=\"checkbox\" ><label for=\"sk-estimator-id-4\" class=\"sk-toggleable__label sk-toggleable__label-arrow\">TruncatedSVD</label><div class=\"sk-toggleable__content\"><pre>TruncatedSVD(n_components=235, random_state=228)</pre></div></div></div><div class=\"sk-item\"><div class=\"sk-estimator sk-toggleable\"><input class=\"sk-toggleable__control sk-hidden--visually\" id=\"sk-estimator-id-5\" type=\"checkbox\" ><label for=\"sk-estimator-id-5\" class=\"sk-toggleable__label sk-toggleable__label-arrow\">LogisticRegression</label><div class=\"sk-toggleable__content\"><pre>LogisticRegression(random_state=391)</pre></div></div></div></div></div></div></div>"
      ],
      "text/plain": [
       "Pipeline(steps=[('functiontransformer',\n",
       "                 FunctionTransformer(func=<function remove_hyperlinks at 0x16f55d750>)),\n",
       "                ('tfidfvectorizer',\n",
       "                 TfidfVectorizer(max_df=2500, min_df=2, stop_words='english')),\n",
       "                ('truncatedsvd',\n",
       "                 TruncatedSVD(n_components=235, random_state=228)),\n",
       "                ('logisticregression', LogisticRegression(random_state=391))])"
      ]
     },
     "execution_count": 20,
     "metadata": {},
     "output_type": "execute_result"
    }
   ],
   "source": [
    "pipe_lr.fit(X_train, y_train)"
   ]
  },
  {
   "cell_type": "code",
   "execution_count": 21,
   "id": "a451db6b-5c01-4e2f-9f23-3c7dbb0c4119",
   "metadata": {},
   "outputs": [
    {
     "name": "stderr",
     "output_type": "stream",
     "text": [
      "/Users/adrianli375/miniconda3/envs/cpsc330/lib/python3.10/site-packages/sklearn/linear_model/_logistic.py:444: ConvergenceWarning: lbfgs failed to converge (status=1):\n",
      "STOP: TOTAL NO. of ITERATIONS REACHED LIMIT.\n",
      "\n",
      "Increase the number of iterations (max_iter) or scale the data as shown in:\n",
      "    https://scikit-learn.org/stable/modules/preprocessing.html\n",
      "Please also refer to the documentation for alternative solver options:\n",
      "    https://scikit-learn.org/stable/modules/linear_model.html#logistic-regression\n",
      "  n_iter_i = _check_optimize_result(\n",
      "/Users/adrianli375/miniconda3/envs/cpsc330/lib/python3.10/site-packages/sklearn/linear_model/_logistic.py:444: ConvergenceWarning: lbfgs failed to converge (status=1):\n",
      "STOP: TOTAL NO. of ITERATIONS REACHED LIMIT.\n",
      "\n",
      "Increase the number of iterations (max_iter) or scale the data as shown in:\n",
      "    https://scikit-learn.org/stable/modules/preprocessing.html\n",
      "Please also refer to the documentation for alternative solver options:\n",
      "    https://scikit-learn.org/stable/modules/linear_model.html#logistic-regression\n",
      "  n_iter_i = _check_optimize_result(\n",
      "/Users/adrianli375/miniconda3/envs/cpsc330/lib/python3.10/site-packages/sklearn/linear_model/_logistic.py:444: ConvergenceWarning: lbfgs failed to converge (status=1):\n",
      "STOP: TOTAL NO. of ITERATIONS REACHED LIMIT.\n",
      "\n",
      "Increase the number of iterations (max_iter) or scale the data as shown in:\n",
      "    https://scikit-learn.org/stable/modules/preprocessing.html\n",
      "Please also refer to the documentation for alternative solver options:\n",
      "    https://scikit-learn.org/stable/modules/linear_model.html#logistic-regression\n",
      "  n_iter_i = _check_optimize_result(\n"
     ]
    },
    {
     "data": {
      "text/plain": [
       "{'fit_time': array([6.72679305, 6.82280922, 7.23188114]),\n",
       " 'score_time': array([0.30202484, 0.22146487, 0.29176807]),\n",
       " 'test_score': array([0.59675141, 0.63588204, 0.55094473]),\n",
       " 'train_score': array([0.68815116, 0.69983226, 0.73708837])}"
      ]
     },
     "execution_count": 21,
     "metadata": {},
     "output_type": "execute_result"
    }
   ],
   "source": [
    "pipe_lr_cv_dict = cross_validate(pipe_lr, X_train, y_train, cv=3, return_train_score=True)\n",
    "pipe_lr_cv_dict"
   ]
  },
  {
   "cell_type": "markdown",
   "id": "130b9e0a-5da7-4260-ae3f-baaeff077ebd",
   "metadata": {},
   "source": [
    "#### 2. Classification using `RandomForestClassifier`"
   ]
  },
  {
   "cell_type": "markdown",
   "id": "26a45e46-ff3b-4f1e-9462-fa28aa61507c",
   "metadata": {},
   "source": [
    "Now, we repeat using `RandomForestClassifier`. "
   ]
  },
  {
   "cell_type": "code",
   "execution_count": 22,
   "id": "66f72845-44f2-4b46-ab5f-e26f6c7cddf6",
   "metadata": {},
   "outputs": [],
   "source": [
    "pipe_rf = make_pipeline(\n",
    "    FunctionTransformer(remove_hyperlinks), \n",
    "    TfidfVectorizer(min_df=2, max_df=2500, stop_words=\"english\"), \n",
    "    TruncatedSVD(n_components=235, random_state=228), \n",
    "    RandomForestClassifier(random_state=612)\n",
    ")"
   ]
  },
  {
   "cell_type": "code",
   "execution_count": 23,
   "id": "90f0ecd4-83be-4ca9-9c8a-a8ff9bcf5147",
   "metadata": {},
   "outputs": [
    {
     "data": {
      "text/html": [
       "<style>#sk-container-id-2 {color: black;background-color: white;}#sk-container-id-2 pre{padding: 0;}#sk-container-id-2 div.sk-toggleable {background-color: white;}#sk-container-id-2 label.sk-toggleable__label {cursor: pointer;display: block;width: 100%;margin-bottom: 0;padding: 0.3em;box-sizing: border-box;text-align: center;}#sk-container-id-2 label.sk-toggleable__label-arrow:before {content: \"▸\";float: left;margin-right: 0.25em;color: #696969;}#sk-container-id-2 label.sk-toggleable__label-arrow:hover:before {color: black;}#sk-container-id-2 div.sk-estimator:hover label.sk-toggleable__label-arrow:before {color: black;}#sk-container-id-2 div.sk-toggleable__content {max-height: 0;max-width: 0;overflow: hidden;text-align: left;background-color: #f0f8ff;}#sk-container-id-2 div.sk-toggleable__content pre {margin: 0.2em;color: black;border-radius: 0.25em;background-color: #f0f8ff;}#sk-container-id-2 input.sk-toggleable__control:checked~div.sk-toggleable__content {max-height: 200px;max-width: 100%;overflow: auto;}#sk-container-id-2 input.sk-toggleable__control:checked~label.sk-toggleable__label-arrow:before {content: \"▾\";}#sk-container-id-2 div.sk-estimator input.sk-toggleable__control:checked~label.sk-toggleable__label {background-color: #d4ebff;}#sk-container-id-2 div.sk-label input.sk-toggleable__control:checked~label.sk-toggleable__label {background-color: #d4ebff;}#sk-container-id-2 input.sk-hidden--visually {border: 0;clip: rect(1px 1px 1px 1px);clip: rect(1px, 1px, 1px, 1px);height: 1px;margin: -1px;overflow: hidden;padding: 0;position: absolute;width: 1px;}#sk-container-id-2 div.sk-estimator {font-family: monospace;background-color: #f0f8ff;border: 1px dotted black;border-radius: 0.25em;box-sizing: border-box;margin-bottom: 0.5em;}#sk-container-id-2 div.sk-estimator:hover {background-color: #d4ebff;}#sk-container-id-2 div.sk-parallel-item::after {content: \"\";width: 100%;border-bottom: 1px solid gray;flex-grow: 1;}#sk-container-id-2 div.sk-label:hover label.sk-toggleable__label {background-color: #d4ebff;}#sk-container-id-2 div.sk-serial::before {content: \"\";position: absolute;border-left: 1px solid gray;box-sizing: border-box;top: 0;bottom: 0;left: 50%;z-index: 0;}#sk-container-id-2 div.sk-serial {display: flex;flex-direction: column;align-items: center;background-color: white;padding-right: 0.2em;padding-left: 0.2em;position: relative;}#sk-container-id-2 div.sk-item {position: relative;z-index: 1;}#sk-container-id-2 div.sk-parallel {display: flex;align-items: stretch;justify-content: center;background-color: white;position: relative;}#sk-container-id-2 div.sk-item::before, #sk-container-id-2 div.sk-parallel-item::before {content: \"\";position: absolute;border-left: 1px solid gray;box-sizing: border-box;top: 0;bottom: 0;left: 50%;z-index: -1;}#sk-container-id-2 div.sk-parallel-item {display: flex;flex-direction: column;z-index: 1;position: relative;background-color: white;}#sk-container-id-2 div.sk-parallel-item:first-child::after {align-self: flex-end;width: 50%;}#sk-container-id-2 div.sk-parallel-item:last-child::after {align-self: flex-start;width: 50%;}#sk-container-id-2 div.sk-parallel-item:only-child::after {width: 0;}#sk-container-id-2 div.sk-dashed-wrapped {border: 1px dashed gray;margin: 0 0.4em 0.5em 0.4em;box-sizing: border-box;padding-bottom: 0.4em;background-color: white;}#sk-container-id-2 div.sk-label label {font-family: monospace;font-weight: bold;display: inline-block;line-height: 1.2em;}#sk-container-id-2 div.sk-label-container {text-align: center;}#sk-container-id-2 div.sk-container {/* jupyter's `normalize.less` sets `[hidden] { display: none; }` but bootstrap.min.css set `[hidden] { display: none !important; }` so we also need the `!important` here to be able to override the default hidden behavior on the sphinx rendered scikit-learn.org. See: https://github.com/scikit-learn/scikit-learn/issues/21755 */display: inline-block !important;position: relative;}#sk-container-id-2 div.sk-text-repr-fallback {display: none;}</style><div id=\"sk-container-id-2\" class=\"sk-top-container\"><div class=\"sk-text-repr-fallback\"><pre>Pipeline(steps=[(&#x27;functiontransformer&#x27;,\n",
       "                 FunctionTransformer(func=&lt;function remove_hyperlinks at 0x16f55d750&gt;)),\n",
       "                (&#x27;tfidfvectorizer&#x27;,\n",
       "                 TfidfVectorizer(max_df=2500, min_df=2, stop_words=&#x27;english&#x27;)),\n",
       "                (&#x27;truncatedsvd&#x27;,\n",
       "                 TruncatedSVD(n_components=235, random_state=228)),\n",
       "                (&#x27;randomforestclassifier&#x27;,\n",
       "                 RandomForestClassifier(random_state=612))])</pre><b>In a Jupyter environment, please rerun this cell to show the HTML representation or trust the notebook. <br />On GitHub, the HTML representation is unable to render, please try loading this page with nbviewer.org.</b></div><div class=\"sk-container\" hidden><div class=\"sk-item sk-dashed-wrapped\"><div class=\"sk-label-container\"><div class=\"sk-label sk-toggleable\"><input class=\"sk-toggleable__control sk-hidden--visually\" id=\"sk-estimator-id-6\" type=\"checkbox\" ><label for=\"sk-estimator-id-6\" class=\"sk-toggleable__label sk-toggleable__label-arrow\">Pipeline</label><div class=\"sk-toggleable__content\"><pre>Pipeline(steps=[(&#x27;functiontransformer&#x27;,\n",
       "                 FunctionTransformer(func=&lt;function remove_hyperlinks at 0x16f55d750&gt;)),\n",
       "                (&#x27;tfidfvectorizer&#x27;,\n",
       "                 TfidfVectorizer(max_df=2500, min_df=2, stop_words=&#x27;english&#x27;)),\n",
       "                (&#x27;truncatedsvd&#x27;,\n",
       "                 TruncatedSVD(n_components=235, random_state=228)),\n",
       "                (&#x27;randomforestclassifier&#x27;,\n",
       "                 RandomForestClassifier(random_state=612))])</pre></div></div></div><div class=\"sk-serial\"><div class=\"sk-item\"><div class=\"sk-estimator sk-toggleable\"><input class=\"sk-toggleable__control sk-hidden--visually\" id=\"sk-estimator-id-7\" type=\"checkbox\" ><label for=\"sk-estimator-id-7\" class=\"sk-toggleable__label sk-toggleable__label-arrow\">FunctionTransformer</label><div class=\"sk-toggleable__content\"><pre>FunctionTransformer(func=&lt;function remove_hyperlinks at 0x16f55d750&gt;)</pre></div></div></div><div class=\"sk-item\"><div class=\"sk-estimator sk-toggleable\"><input class=\"sk-toggleable__control sk-hidden--visually\" id=\"sk-estimator-id-8\" type=\"checkbox\" ><label for=\"sk-estimator-id-8\" class=\"sk-toggleable__label sk-toggleable__label-arrow\">TfidfVectorizer</label><div class=\"sk-toggleable__content\"><pre>TfidfVectorizer(max_df=2500, min_df=2, stop_words=&#x27;english&#x27;)</pre></div></div></div><div class=\"sk-item\"><div class=\"sk-estimator sk-toggleable\"><input class=\"sk-toggleable__control sk-hidden--visually\" id=\"sk-estimator-id-9\" type=\"checkbox\" ><label for=\"sk-estimator-id-9\" class=\"sk-toggleable__label sk-toggleable__label-arrow\">TruncatedSVD</label><div class=\"sk-toggleable__content\"><pre>TruncatedSVD(n_components=235, random_state=228)</pre></div></div></div><div class=\"sk-item\"><div class=\"sk-estimator sk-toggleable\"><input class=\"sk-toggleable__control sk-hidden--visually\" id=\"sk-estimator-id-10\" type=\"checkbox\" ><label for=\"sk-estimator-id-10\" class=\"sk-toggleable__label sk-toggleable__label-arrow\">RandomForestClassifier</label><div class=\"sk-toggleable__content\"><pre>RandomForestClassifier(random_state=612)</pre></div></div></div></div></div></div></div>"
      ],
      "text/plain": [
       "Pipeline(steps=[('functiontransformer',\n",
       "                 FunctionTransformer(func=<function remove_hyperlinks at 0x16f55d750>)),\n",
       "                ('tfidfvectorizer',\n",
       "                 TfidfVectorizer(max_df=2500, min_df=2, stop_words='english')),\n",
       "                ('truncatedsvd',\n",
       "                 TruncatedSVD(n_components=235, random_state=228)),\n",
       "                ('randomforestclassifier',\n",
       "                 RandomForestClassifier(random_state=612))])"
      ]
     },
     "execution_count": 23,
     "metadata": {},
     "output_type": "execute_result"
    }
   ],
   "source": [
    "pipe_rf.fit(X_train, y_train)"
   ]
  },
  {
   "cell_type": "code",
   "execution_count": 24,
   "id": "d863440b-4aad-430e-bdff-d7b8c5925655",
   "metadata": {},
   "outputs": [
    {
     "data": {
      "text/plain": [
       "{'fit_time': array([31.18404913, 32.32782316, 32.93078089]),\n",
       " 'score_time': array([0.32329297, 0.51061583, 0.32618713]),\n",
       " 'test_score': array([0.6154661 , 0.63217376, 0.56736712]),\n",
       " 'train_score': array([0.99902878, 0.99849916, 0.99938201])}"
      ]
     },
     "execution_count": 24,
     "metadata": {},
     "output_type": "execute_result"
    }
   ],
   "source": [
    "pipe_rf_cv_dict = cross_validate(pipe_rf, X_train, y_train, cv=3, return_train_score=True)\n",
    "pipe_rf_cv_dict"
   ]
  },
  {
   "cell_type": "markdown",
   "id": "b9d7e9d5-182b-4733-bfd9-55c1d2a22612",
   "metadata": {},
   "source": [
    "#### 3. Classification using `MultinomialNB` (Naive Bayes Classifier)"
   ]
  },
  {
   "cell_type": "markdown",
   "id": "0f7154bc-f02c-44ee-8d31-ae611a67a795",
   "metadata": {},
   "source": [
    "Now, we repeat using `MultinomialNB`. "
   ]
  },
  {
   "cell_type": "code",
   "execution_count": 25,
   "id": "7937f87b-ba13-410d-b3bb-489115dcdc10",
   "metadata": {},
   "outputs": [],
   "source": [
    "pipe_nb = make_pipeline(\n",
    "    FunctionTransformer(remove_hyperlinks), \n",
    "    TfidfVectorizer(min_df=2, max_df=2500, stop_words=\"english\"), \n",
    "    MultinomialNB()\n",
    ")"
   ]
  },
  {
   "cell_type": "code",
   "execution_count": 26,
   "id": "e8efcd19-55a0-4c63-a584-75deb18878f4",
   "metadata": {},
   "outputs": [
    {
     "data": {
      "text/plain": [
       "{'fit_time': array([0.30495214, 0.26359105, 0.26585793]),\n",
       " 'score_time': array([0.13213372, 0.11555719, 0.1304841 ]),\n",
       " 'test_score': array([0.59039548, 0.61575137, 0.55624227]),\n",
       " 'train_score': array([0.73609394, 0.7352344 , 0.7806127 ])}"
      ]
     },
     "execution_count": 26,
     "metadata": {},
     "output_type": "execute_result"
    }
   ],
   "source": [
    "pipe_nb_cv_dict = cross_validate(pipe_nb, X_train, y_train, cv=3, return_train_score=True)\n",
    "pipe_nb_cv_dict"
   ]
  },
  {
   "cell_type": "markdown",
   "id": "b69e2556-5a6c-45df-901e-9f44cac4e0d0",
   "metadata": {},
   "source": [
    "Seems `RandomForestClassifier` is better than both `LogisticRegression` and `MultinomialNB`. Let's use `RandomForestClassifier` and tune hyperparameters. "
   ]
  },
  {
   "cell_type": "markdown",
   "id": "27be6ee2-510e-4244-ba7e-3d6915a90628",
   "metadata": {},
   "source": [
    "#### Hyperparameter tuning"
   ]
  },
  {
   "cell_type": "markdown",
   "id": "aa39fbaa-bbbe-4ee2-b121-4ed790ef16d6",
   "metadata": {},
   "source": [
    "It is notable that our `RandomForestClassifier` is seriously overfitting. Let's tune hyperparameters to generalize the model well. "
   ]
  },
  {
   "cell_type": "code",
   "execution_count": 27,
   "id": "3a62c2e4-bb1a-49e2-b04d-28a53aec12a4",
   "metadata": {},
   "outputs": [],
   "source": [
    "param_grid = {\n",
    "    \"randomforestclassifier__n_estimators\": [32, 64], \n",
    "    \"randomforestclassifier__max_depth\": [8, 12, 16]\n",
    "}"
   ]
  },
  {
   "cell_type": "code",
   "execution_count": 28,
   "id": "fbffd102-69af-4281-8d03-9bc3c4426b3a",
   "metadata": {},
   "outputs": [
    {
     "data": {
      "text/html": [
       "<style>#sk-container-id-3 {color: black;background-color: white;}#sk-container-id-3 pre{padding: 0;}#sk-container-id-3 div.sk-toggleable {background-color: white;}#sk-container-id-3 label.sk-toggleable__label {cursor: pointer;display: block;width: 100%;margin-bottom: 0;padding: 0.3em;box-sizing: border-box;text-align: center;}#sk-container-id-3 label.sk-toggleable__label-arrow:before {content: \"▸\";float: left;margin-right: 0.25em;color: #696969;}#sk-container-id-3 label.sk-toggleable__label-arrow:hover:before {color: black;}#sk-container-id-3 div.sk-estimator:hover label.sk-toggleable__label-arrow:before {color: black;}#sk-container-id-3 div.sk-toggleable__content {max-height: 0;max-width: 0;overflow: hidden;text-align: left;background-color: #f0f8ff;}#sk-container-id-3 div.sk-toggleable__content pre {margin: 0.2em;color: black;border-radius: 0.25em;background-color: #f0f8ff;}#sk-container-id-3 input.sk-toggleable__control:checked~div.sk-toggleable__content {max-height: 200px;max-width: 100%;overflow: auto;}#sk-container-id-3 input.sk-toggleable__control:checked~label.sk-toggleable__label-arrow:before {content: \"▾\";}#sk-container-id-3 div.sk-estimator input.sk-toggleable__control:checked~label.sk-toggleable__label {background-color: #d4ebff;}#sk-container-id-3 div.sk-label input.sk-toggleable__control:checked~label.sk-toggleable__label {background-color: #d4ebff;}#sk-container-id-3 input.sk-hidden--visually {border: 0;clip: rect(1px 1px 1px 1px);clip: rect(1px, 1px, 1px, 1px);height: 1px;margin: -1px;overflow: hidden;padding: 0;position: absolute;width: 1px;}#sk-container-id-3 div.sk-estimator {font-family: monospace;background-color: #f0f8ff;border: 1px dotted black;border-radius: 0.25em;box-sizing: border-box;margin-bottom: 0.5em;}#sk-container-id-3 div.sk-estimator:hover {background-color: #d4ebff;}#sk-container-id-3 div.sk-parallel-item::after {content: \"\";width: 100%;border-bottom: 1px solid gray;flex-grow: 1;}#sk-container-id-3 div.sk-label:hover label.sk-toggleable__label {background-color: #d4ebff;}#sk-container-id-3 div.sk-serial::before {content: \"\";position: absolute;border-left: 1px solid gray;box-sizing: border-box;top: 0;bottom: 0;left: 50%;z-index: 0;}#sk-container-id-3 div.sk-serial {display: flex;flex-direction: column;align-items: center;background-color: white;padding-right: 0.2em;padding-left: 0.2em;position: relative;}#sk-container-id-3 div.sk-item {position: relative;z-index: 1;}#sk-container-id-3 div.sk-parallel {display: flex;align-items: stretch;justify-content: center;background-color: white;position: relative;}#sk-container-id-3 div.sk-item::before, #sk-container-id-3 div.sk-parallel-item::before {content: \"\";position: absolute;border-left: 1px solid gray;box-sizing: border-box;top: 0;bottom: 0;left: 50%;z-index: -1;}#sk-container-id-3 div.sk-parallel-item {display: flex;flex-direction: column;z-index: 1;position: relative;background-color: white;}#sk-container-id-3 div.sk-parallel-item:first-child::after {align-self: flex-end;width: 50%;}#sk-container-id-3 div.sk-parallel-item:last-child::after {align-self: flex-start;width: 50%;}#sk-container-id-3 div.sk-parallel-item:only-child::after {width: 0;}#sk-container-id-3 div.sk-dashed-wrapped {border: 1px dashed gray;margin: 0 0.4em 0.5em 0.4em;box-sizing: border-box;padding-bottom: 0.4em;background-color: white;}#sk-container-id-3 div.sk-label label {font-family: monospace;font-weight: bold;display: inline-block;line-height: 1.2em;}#sk-container-id-3 div.sk-label-container {text-align: center;}#sk-container-id-3 div.sk-container {/* jupyter's `normalize.less` sets `[hidden] { display: none; }` but bootstrap.min.css set `[hidden] { display: none !important; }` so we also need the `!important` here to be able to override the default hidden behavior on the sphinx rendered scikit-learn.org. See: https://github.com/scikit-learn/scikit-learn/issues/21755 */display: inline-block !important;position: relative;}#sk-container-id-3 div.sk-text-repr-fallback {display: none;}</style><div id=\"sk-container-id-3\" class=\"sk-top-container\"><div class=\"sk-text-repr-fallback\"><pre>GridSearchCV(estimator=Pipeline(steps=[(&#x27;functiontransformer&#x27;,\n",
       "                                        FunctionTransformer(func=&lt;function remove_hyperlinks at 0x16f55d750&gt;)),\n",
       "                                       (&#x27;tfidfvectorizer&#x27;,\n",
       "                                        TfidfVectorizer(max_df=2500, min_df=2,\n",
       "                                                        stop_words=&#x27;english&#x27;)),\n",
       "                                       (&#x27;truncatedsvd&#x27;,\n",
       "                                        TruncatedSVD(n_components=235,\n",
       "                                                     random_state=228)),\n",
       "                                       (&#x27;randomforestclassifier&#x27;,\n",
       "                                        RandomForestClassifier(random_state=612))]),\n",
       "             n_jobs=-1,\n",
       "             param_grid={&#x27;randomforestclassifier__max_depth&#x27;: [8, 12, 16],\n",
       "                         &#x27;randomforestclassifier__n_estimators&#x27;: [32, 64]},\n",
       "             return_train_score=True)</pre><b>In a Jupyter environment, please rerun this cell to show the HTML representation or trust the notebook. <br />On GitHub, the HTML representation is unable to render, please try loading this page with nbviewer.org.</b></div><div class=\"sk-container\" hidden><div class=\"sk-item sk-dashed-wrapped\"><div class=\"sk-label-container\"><div class=\"sk-label sk-toggleable\"><input class=\"sk-toggleable__control sk-hidden--visually\" id=\"sk-estimator-id-11\" type=\"checkbox\" ><label for=\"sk-estimator-id-11\" class=\"sk-toggleable__label sk-toggleable__label-arrow\">GridSearchCV</label><div class=\"sk-toggleable__content\"><pre>GridSearchCV(estimator=Pipeline(steps=[(&#x27;functiontransformer&#x27;,\n",
       "                                        FunctionTransformer(func=&lt;function remove_hyperlinks at 0x16f55d750&gt;)),\n",
       "                                       (&#x27;tfidfvectorizer&#x27;,\n",
       "                                        TfidfVectorizer(max_df=2500, min_df=2,\n",
       "                                                        stop_words=&#x27;english&#x27;)),\n",
       "                                       (&#x27;truncatedsvd&#x27;,\n",
       "                                        TruncatedSVD(n_components=235,\n",
       "                                                     random_state=228)),\n",
       "                                       (&#x27;randomforestclassifier&#x27;,\n",
       "                                        RandomForestClassifier(random_state=612))]),\n",
       "             n_jobs=-1,\n",
       "             param_grid={&#x27;randomforestclassifier__max_depth&#x27;: [8, 12, 16],\n",
       "                         &#x27;randomforestclassifier__n_estimators&#x27;: [32, 64]},\n",
       "             return_train_score=True)</pre></div></div></div><div class=\"sk-parallel\"><div class=\"sk-parallel-item\"><div class=\"sk-item\"><div class=\"sk-label-container\"><div class=\"sk-label sk-toggleable\"><input class=\"sk-toggleable__control sk-hidden--visually\" id=\"sk-estimator-id-12\" type=\"checkbox\" ><label for=\"sk-estimator-id-12\" class=\"sk-toggleable__label sk-toggleable__label-arrow\">estimator: Pipeline</label><div class=\"sk-toggleable__content\"><pre>Pipeline(steps=[(&#x27;functiontransformer&#x27;,\n",
       "                 FunctionTransformer(func=&lt;function remove_hyperlinks at 0x16f55d750&gt;)),\n",
       "                (&#x27;tfidfvectorizer&#x27;,\n",
       "                 TfidfVectorizer(max_df=2500, min_df=2, stop_words=&#x27;english&#x27;)),\n",
       "                (&#x27;truncatedsvd&#x27;,\n",
       "                 TruncatedSVD(n_components=235, random_state=228)),\n",
       "                (&#x27;randomforestclassifier&#x27;,\n",
       "                 RandomForestClassifier(random_state=612))])</pre></div></div></div><div class=\"sk-serial\"><div class=\"sk-item\"><div class=\"sk-serial\"><div class=\"sk-item\"><div class=\"sk-estimator sk-toggleable\"><input class=\"sk-toggleable__control sk-hidden--visually\" id=\"sk-estimator-id-13\" type=\"checkbox\" ><label for=\"sk-estimator-id-13\" class=\"sk-toggleable__label sk-toggleable__label-arrow\">FunctionTransformer</label><div class=\"sk-toggleable__content\"><pre>FunctionTransformer(func=&lt;function remove_hyperlinks at 0x16f55d750&gt;)</pre></div></div></div><div class=\"sk-item\"><div class=\"sk-estimator sk-toggleable\"><input class=\"sk-toggleable__control sk-hidden--visually\" id=\"sk-estimator-id-14\" type=\"checkbox\" ><label for=\"sk-estimator-id-14\" class=\"sk-toggleable__label sk-toggleable__label-arrow\">TfidfVectorizer</label><div class=\"sk-toggleable__content\"><pre>TfidfVectorizer(max_df=2500, min_df=2, stop_words=&#x27;english&#x27;)</pre></div></div></div><div class=\"sk-item\"><div class=\"sk-estimator sk-toggleable\"><input class=\"sk-toggleable__control sk-hidden--visually\" id=\"sk-estimator-id-15\" type=\"checkbox\" ><label for=\"sk-estimator-id-15\" class=\"sk-toggleable__label sk-toggleable__label-arrow\">TruncatedSVD</label><div class=\"sk-toggleable__content\"><pre>TruncatedSVD(n_components=235, random_state=228)</pre></div></div></div><div class=\"sk-item\"><div class=\"sk-estimator sk-toggleable\"><input class=\"sk-toggleable__control sk-hidden--visually\" id=\"sk-estimator-id-16\" type=\"checkbox\" ><label for=\"sk-estimator-id-16\" class=\"sk-toggleable__label sk-toggleable__label-arrow\">RandomForestClassifier</label><div class=\"sk-toggleable__content\"><pre>RandomForestClassifier(random_state=612)</pre></div></div></div></div></div></div></div></div></div></div></div></div>"
      ],
      "text/plain": [
       "GridSearchCV(estimator=Pipeline(steps=[('functiontransformer',\n",
       "                                        FunctionTransformer(func=<function remove_hyperlinks at 0x16f55d750>)),\n",
       "                                       ('tfidfvectorizer',\n",
       "                                        TfidfVectorizer(max_df=2500, min_df=2,\n",
       "                                                        stop_words='english')),\n",
       "                                       ('truncatedsvd',\n",
       "                                        TruncatedSVD(n_components=235,\n",
       "                                                     random_state=228)),\n",
       "                                       ('randomforestclassifier',\n",
       "                                        RandomForestClassifier(random_state=612))]),\n",
       "             n_jobs=-1,\n",
       "             param_grid={'randomforestclassifier__max_depth': [8, 12, 16],\n",
       "                         'randomforestclassifier__n_estimators': [32, 64]},\n",
       "             return_train_score=True)"
      ]
     },
     "execution_count": 28,
     "metadata": {},
     "output_type": "execute_result"
    }
   ],
   "source": [
    "grid_search = GridSearchCV(\n",
    "    pipe_rf, param_grid, n_jobs=-1, return_train_score=True\n",
    ")\n",
    "grid_search.fit(X_train, y_train)"
   ]
  },
  {
   "cell_type": "code",
   "execution_count": 29,
   "id": "1c73e051-422d-45b2-8482-32caae3b1700",
   "metadata": {},
   "outputs": [
    {
     "data": {
      "text/html": [
       "<div>\n",
       "<style scoped>\n",
       "    .dataframe tbody tr th:only-of-type {\n",
       "        vertical-align: middle;\n",
       "    }\n",
       "\n",
       "    .dataframe tbody tr th {\n",
       "        vertical-align: top;\n",
       "    }\n",
       "\n",
       "    .dataframe thead th {\n",
       "        text-align: right;\n",
       "    }\n",
       "</style>\n",
       "<table border=\"1\" class=\"dataframe\">\n",
       "  <thead>\n",
       "    <tr style=\"text-align: right;\">\n",
       "      <th></th>\n",
       "      <th>mean_fit_time</th>\n",
       "      <th>std_fit_time</th>\n",
       "      <th>mean_score_time</th>\n",
       "      <th>std_score_time</th>\n",
       "      <th>param_randomforestclassifier__max_depth</th>\n",
       "      <th>param_randomforestclassifier__n_estimators</th>\n",
       "      <th>params</th>\n",
       "      <th>split0_test_score</th>\n",
       "      <th>split1_test_score</th>\n",
       "      <th>split2_test_score</th>\n",
       "      <th>...</th>\n",
       "      <th>mean_test_score</th>\n",
       "      <th>std_test_score</th>\n",
       "      <th>rank_test_score</th>\n",
       "      <th>split0_train_score</th>\n",
       "      <th>split1_train_score</th>\n",
       "      <th>split2_train_score</th>\n",
       "      <th>split3_train_score</th>\n",
       "      <th>split4_train_score</th>\n",
       "      <th>mean_train_score</th>\n",
       "      <th>std_train_score</th>\n",
       "    </tr>\n",
       "  </thead>\n",
       "  <tbody>\n",
       "    <tr>\n",
       "      <th>0</th>\n",
       "      <td>39.642213</td>\n",
       "      <td>0.155446</td>\n",
       "      <td>0.506184</td>\n",
       "      <td>0.014601</td>\n",
       "      <td>8</td>\n",
       "      <td>32</td>\n",
       "      <td>{'randomforestclassifier__max_depth': 8, 'rand...</td>\n",
       "      <td>0.513243</td>\n",
       "      <td>0.500000</td>\n",
       "      <td>0.540612</td>\n",
       "      <td>...</td>\n",
       "      <td>0.522248</td>\n",
       "      <td>0.031534</td>\n",
       "      <td>6</td>\n",
       "      <td>0.624117</td>\n",
       "      <td>0.614185</td>\n",
       "      <td>0.621027</td>\n",
       "      <td>0.630518</td>\n",
       "      <td>0.662154</td>\n",
       "      <td>0.630400</td>\n",
       "      <td>0.016725</td>\n",
       "    </tr>\n",
       "    <tr>\n",
       "      <th>1</th>\n",
       "      <td>64.054297</td>\n",
       "      <td>1.419087</td>\n",
       "      <td>0.555055</td>\n",
       "      <td>0.036894</td>\n",
       "      <td>8</td>\n",
       "      <td>64</td>\n",
       "      <td>{'randomforestclassifier__max_depth': 8, 'rand...</td>\n",
       "      <td>0.515597</td>\n",
       "      <td>0.507063</td>\n",
       "      <td>0.544144</td>\n",
       "      <td>...</td>\n",
       "      <td>0.525544</td>\n",
       "      <td>0.033576</td>\n",
       "      <td>5</td>\n",
       "      <td>0.634123</td>\n",
       "      <td>0.619482</td>\n",
       "      <td>0.624191</td>\n",
       "      <td>0.633976</td>\n",
       "      <td>0.660683</td>\n",
       "      <td>0.634491</td>\n",
       "      <td>0.014267</td>\n",
       "    </tr>\n",
       "    <tr>\n",
       "      <th>2</th>\n",
       "      <td>45.651280</td>\n",
       "      <td>1.853146</td>\n",
       "      <td>0.605009</td>\n",
       "      <td>0.089085</td>\n",
       "      <td>12</td>\n",
       "      <td>32</td>\n",
       "      <td>{'randomforestclassifier__max_depth': 12, 'ran...</td>\n",
       "      <td>0.556210</td>\n",
       "      <td>0.588582</td>\n",
       "      <td>0.591819</td>\n",
       "      <td>...</td>\n",
       "      <td>0.576280</td>\n",
       "      <td>0.033291</td>\n",
       "      <td>4</td>\n",
       "      <td>0.810992</td>\n",
       "      <td>0.777958</td>\n",
       "      <td>0.803634</td>\n",
       "      <td>0.813640</td>\n",
       "      <td>0.842628</td>\n",
       "      <td>0.809770</td>\n",
       "      <td>0.020716</td>\n",
       "    </tr>\n",
       "    <tr>\n",
       "      <th>3</th>\n",
       "      <td>71.612655</td>\n",
       "      <td>1.062703</td>\n",
       "      <td>0.683546</td>\n",
       "      <td>0.170213</td>\n",
       "      <td>12</td>\n",
       "      <td>64</td>\n",
       "      <td>{'randomforestclassifier__max_depth': 12, 'ran...</td>\n",
       "      <td>0.563273</td>\n",
       "      <td>0.588582</td>\n",
       "      <td>0.600647</td>\n",
       "      <td>...</td>\n",
       "      <td>0.582578</td>\n",
       "      <td>0.033832</td>\n",
       "      <td>3</td>\n",
       "      <td>0.819526</td>\n",
       "      <td>0.784873</td>\n",
       "      <td>0.814597</td>\n",
       "      <td>0.821733</td>\n",
       "      <td>0.845939</td>\n",
       "      <td>0.817334</td>\n",
       "      <td>0.019512</td>\n",
       "    </tr>\n",
       "    <tr>\n",
       "      <th>4</th>\n",
       "      <td>43.933254</td>\n",
       "      <td>1.920404</td>\n",
       "      <td>0.441667</td>\n",
       "      <td>0.080603</td>\n",
       "      <td>16</td>\n",
       "      <td>32</td>\n",
       "      <td>{'randomforestclassifier__max_depth': 16, 'ran...</td>\n",
       "      <td>0.599765</td>\n",
       "      <td>0.647440</td>\n",
       "      <td>0.629488</td>\n",
       "      <td>...</td>\n",
       "      <td>0.619247</td>\n",
       "      <td>0.042485</td>\n",
       "      <td>2</td>\n",
       "      <td>0.948720</td>\n",
       "      <td>0.933196</td>\n",
       "      <td>0.952693</td>\n",
       "      <td>0.954017</td>\n",
       "      <td>0.960565</td>\n",
       "      <td>0.949838</td>\n",
       "      <td>0.009153</td>\n",
       "    </tr>\n",
       "    <tr>\n",
       "      <th>5</th>\n",
       "      <td>56.050106</td>\n",
       "      <td>1.234390</td>\n",
       "      <td>0.427328</td>\n",
       "      <td>0.024133</td>\n",
       "      <td>16</td>\n",
       "      <td>64</td>\n",
       "      <td>{'randomforestclassifier__max_depth': 16, 'ran...</td>\n",
       "      <td>0.613891</td>\n",
       "      <td>0.658623</td>\n",
       "      <td>0.636551</td>\n",
       "      <td>...</td>\n",
       "      <td>0.629135</td>\n",
       "      <td>0.042327</td>\n",
       "      <td>1</td>\n",
       "      <td>0.951442</td>\n",
       "      <td>0.938935</td>\n",
       "      <td>0.956004</td>\n",
       "      <td>0.959535</td>\n",
       "      <td>0.966672</td>\n",
       "      <td>0.954517</td>\n",
       "      <td>0.009245</td>\n",
       "    </tr>\n",
       "  </tbody>\n",
       "</table>\n",
       "<p>6 rows × 22 columns</p>\n",
       "</div>"
      ],
      "text/plain": [
       "   mean_fit_time  std_fit_time  mean_score_time  std_score_time  \\\n",
       "0      39.642213      0.155446         0.506184        0.014601   \n",
       "1      64.054297      1.419087         0.555055        0.036894   \n",
       "2      45.651280      1.853146         0.605009        0.089085   \n",
       "3      71.612655      1.062703         0.683546        0.170213   \n",
       "4      43.933254      1.920404         0.441667        0.080603   \n",
       "5      56.050106      1.234390         0.427328        0.024133   \n",
       "\n",
       "  param_randomforestclassifier__max_depth  \\\n",
       "0                                       8   \n",
       "1                                       8   \n",
       "2                                      12   \n",
       "3                                      12   \n",
       "4                                      16   \n",
       "5                                      16   \n",
       "\n",
       "  param_randomforestclassifier__n_estimators  \\\n",
       "0                                         32   \n",
       "1                                         64   \n",
       "2                                         32   \n",
       "3                                         64   \n",
       "4                                         32   \n",
       "5                                         64   \n",
       "\n",
       "                                              params  split0_test_score  \\\n",
       "0  {'randomforestclassifier__max_depth': 8, 'rand...           0.513243   \n",
       "1  {'randomforestclassifier__max_depth': 8, 'rand...           0.515597   \n",
       "2  {'randomforestclassifier__max_depth': 12, 'ran...           0.556210   \n",
       "3  {'randomforestclassifier__max_depth': 12, 'ran...           0.563273   \n",
       "4  {'randomforestclassifier__max_depth': 16, 'ran...           0.599765   \n",
       "5  {'randomforestclassifier__max_depth': 16, 'ran...           0.613891   \n",
       "\n",
       "   split1_test_score  split2_test_score  ...  mean_test_score  std_test_score  \\\n",
       "0           0.500000           0.540612  ...         0.522248        0.031534   \n",
       "1           0.507063           0.544144  ...         0.525544        0.033576   \n",
       "2           0.588582           0.591819  ...         0.576280        0.033291   \n",
       "3           0.588582           0.600647  ...         0.582578        0.033832   \n",
       "4           0.647440           0.629488  ...         0.619247        0.042485   \n",
       "5           0.658623           0.636551  ...         0.629135        0.042327   \n",
       "\n",
       "   rank_test_score  split0_train_score  split1_train_score  \\\n",
       "0                6            0.624117            0.614185   \n",
       "1                5            0.634123            0.619482   \n",
       "2                4            0.810992            0.777958   \n",
       "3                3            0.819526            0.784873   \n",
       "4                2            0.948720            0.933196   \n",
       "5                1            0.951442            0.938935   \n",
       "\n",
       "   split2_train_score  split3_train_score  split4_train_score  \\\n",
       "0            0.621027            0.630518            0.662154   \n",
       "1            0.624191            0.633976            0.660683   \n",
       "2            0.803634            0.813640            0.842628   \n",
       "3            0.814597            0.821733            0.845939   \n",
       "4            0.952693            0.954017            0.960565   \n",
       "5            0.956004            0.959535            0.966672   \n",
       "\n",
       "   mean_train_score  std_train_score  \n",
       "0          0.630400         0.016725  \n",
       "1          0.634491         0.014267  \n",
       "2          0.809770         0.020716  \n",
       "3          0.817334         0.019512  \n",
       "4          0.949838         0.009153  \n",
       "5          0.954517         0.009245  \n",
       "\n",
       "[6 rows x 22 columns]"
      ]
     },
     "execution_count": 29,
     "metadata": {},
     "output_type": "execute_result"
    }
   ],
   "source": [
    "grid_search_cv_results = pd.DataFrame(grid_search.cv_results_)\n",
    "grid_search_cv_results"
   ]
  },
  {
   "cell_type": "markdown",
   "id": "847d5582-cfdc-4915-8427-59c86e81f3c0",
   "metadata": {},
   "source": [
    "Let's see which model performs the best!"
   ]
  },
  {
   "cell_type": "code",
   "execution_count": 30,
   "id": "61929cf7-0888-408f-adbb-15dd8767147d",
   "metadata": {},
   "outputs": [
    {
     "data": {
      "text/plain": [
       "{'randomforestclassifier__max_depth': 16,\n",
       " 'randomforestclassifier__n_estimators': 64}"
      ]
     },
     "execution_count": 30,
     "metadata": {},
     "output_type": "execute_result"
    }
   ],
   "source": [
    "best_params = grid_search.best_params_\n",
    "best_params"
   ]
  },
  {
   "cell_type": "markdown",
   "id": "71e72528-6ba3-4ffd-846f-e582d267ef0e",
   "metadata": {},
   "source": [
    "Let's find out the validation score of this best performing model:"
   ]
  },
  {
   "cell_type": "code",
   "execution_count": 31,
   "id": "f860796a-9c96-49a8-9b26-578dd0f4662d",
   "metadata": {},
   "outputs": [
    {
     "data": {
      "text/plain": [
       "0.6291347851677458"
      ]
     },
     "execution_count": 31,
     "metadata": {},
     "output_type": "execute_result"
    }
   ],
   "source": [
    "model_index = grid_search_cv_results[\n",
    "    grid_search_cv_results[\"params\"] == best_params\n",
    "].index.tolist()[0]\n",
    "grid_search_cv_results.at[model_index, \"mean_test_score\"]"
   ]
  },
  {
   "cell_type": "markdown",
   "id": "e02f578f-d20d-4bda-9194-0707b7844e94",
   "metadata": {},
   "source": [
    "The validation score (accuracy) of our best performing model is `0.629`. "
   ]
  },
  {
   "cell_type": "markdown",
   "id": "ce012133-e38d-490a-93a8-4866df5e1de6",
   "metadata": {},
   "source": [
    "## Evaluate model results on test data"
   ]
  },
  {
   "cell_type": "code",
   "execution_count": 32,
   "id": "0ccf710f-af1c-4882-a4c6-3aa32bea37b1",
   "metadata": {},
   "outputs": [],
   "source": [
    "best_model = make_pipeline(\n",
    "    FunctionTransformer(remove_hyperlinks), \n",
    "    TfidfVectorizer(min_df=2, max_df=2500, stop_words=\"english\"), \n",
    "    TruncatedSVD(n_components=235, random_state=228), \n",
    "    RandomForestClassifier(random_state=612, max_depth=16, n_estimators=64)\n",
    ")"
   ]
  },
  {
   "cell_type": "code",
   "execution_count": 33,
   "id": "79a3b0e1-4518-4877-ae3f-b3b54aa94b19",
   "metadata": {},
   "outputs": [
    {
     "data": {
      "text/html": [
       "<style>#sk-container-id-4 {color: black;background-color: white;}#sk-container-id-4 pre{padding: 0;}#sk-container-id-4 div.sk-toggleable {background-color: white;}#sk-container-id-4 label.sk-toggleable__label {cursor: pointer;display: block;width: 100%;margin-bottom: 0;padding: 0.3em;box-sizing: border-box;text-align: center;}#sk-container-id-4 label.sk-toggleable__label-arrow:before {content: \"▸\";float: left;margin-right: 0.25em;color: #696969;}#sk-container-id-4 label.sk-toggleable__label-arrow:hover:before {color: black;}#sk-container-id-4 div.sk-estimator:hover label.sk-toggleable__label-arrow:before {color: black;}#sk-container-id-4 div.sk-toggleable__content {max-height: 0;max-width: 0;overflow: hidden;text-align: left;background-color: #f0f8ff;}#sk-container-id-4 div.sk-toggleable__content pre {margin: 0.2em;color: black;border-radius: 0.25em;background-color: #f0f8ff;}#sk-container-id-4 input.sk-toggleable__control:checked~div.sk-toggleable__content {max-height: 200px;max-width: 100%;overflow: auto;}#sk-container-id-4 input.sk-toggleable__control:checked~label.sk-toggleable__label-arrow:before {content: \"▾\";}#sk-container-id-4 div.sk-estimator input.sk-toggleable__control:checked~label.sk-toggleable__label {background-color: #d4ebff;}#sk-container-id-4 div.sk-label input.sk-toggleable__control:checked~label.sk-toggleable__label {background-color: #d4ebff;}#sk-container-id-4 input.sk-hidden--visually {border: 0;clip: rect(1px 1px 1px 1px);clip: rect(1px, 1px, 1px, 1px);height: 1px;margin: -1px;overflow: hidden;padding: 0;position: absolute;width: 1px;}#sk-container-id-4 div.sk-estimator {font-family: monospace;background-color: #f0f8ff;border: 1px dotted black;border-radius: 0.25em;box-sizing: border-box;margin-bottom: 0.5em;}#sk-container-id-4 div.sk-estimator:hover {background-color: #d4ebff;}#sk-container-id-4 div.sk-parallel-item::after {content: \"\";width: 100%;border-bottom: 1px solid gray;flex-grow: 1;}#sk-container-id-4 div.sk-label:hover label.sk-toggleable__label {background-color: #d4ebff;}#sk-container-id-4 div.sk-serial::before {content: \"\";position: absolute;border-left: 1px solid gray;box-sizing: border-box;top: 0;bottom: 0;left: 50%;z-index: 0;}#sk-container-id-4 div.sk-serial {display: flex;flex-direction: column;align-items: center;background-color: white;padding-right: 0.2em;padding-left: 0.2em;position: relative;}#sk-container-id-4 div.sk-item {position: relative;z-index: 1;}#sk-container-id-4 div.sk-parallel {display: flex;align-items: stretch;justify-content: center;background-color: white;position: relative;}#sk-container-id-4 div.sk-item::before, #sk-container-id-4 div.sk-parallel-item::before {content: \"\";position: absolute;border-left: 1px solid gray;box-sizing: border-box;top: 0;bottom: 0;left: 50%;z-index: -1;}#sk-container-id-4 div.sk-parallel-item {display: flex;flex-direction: column;z-index: 1;position: relative;background-color: white;}#sk-container-id-4 div.sk-parallel-item:first-child::after {align-self: flex-end;width: 50%;}#sk-container-id-4 div.sk-parallel-item:last-child::after {align-self: flex-start;width: 50%;}#sk-container-id-4 div.sk-parallel-item:only-child::after {width: 0;}#sk-container-id-4 div.sk-dashed-wrapped {border: 1px dashed gray;margin: 0 0.4em 0.5em 0.4em;box-sizing: border-box;padding-bottom: 0.4em;background-color: white;}#sk-container-id-4 div.sk-label label {font-family: monospace;font-weight: bold;display: inline-block;line-height: 1.2em;}#sk-container-id-4 div.sk-label-container {text-align: center;}#sk-container-id-4 div.sk-container {/* jupyter's `normalize.less` sets `[hidden] { display: none; }` but bootstrap.min.css set `[hidden] { display: none !important; }` so we also need the `!important` here to be able to override the default hidden behavior on the sphinx rendered scikit-learn.org. See: https://github.com/scikit-learn/scikit-learn/issues/21755 */display: inline-block !important;position: relative;}#sk-container-id-4 div.sk-text-repr-fallback {display: none;}</style><div id=\"sk-container-id-4\" class=\"sk-top-container\"><div class=\"sk-text-repr-fallback\"><pre>Pipeline(steps=[(&#x27;functiontransformer&#x27;,\n",
       "                 FunctionTransformer(func=&lt;function remove_hyperlinks at 0x16f55d750&gt;)),\n",
       "                (&#x27;tfidfvectorizer&#x27;,\n",
       "                 TfidfVectorizer(max_df=2500, min_df=2, stop_words=&#x27;english&#x27;)),\n",
       "                (&#x27;truncatedsvd&#x27;,\n",
       "                 TruncatedSVD(n_components=235, random_state=228)),\n",
       "                (&#x27;randomforestclassifier&#x27;,\n",
       "                 RandomForestClassifier(max_depth=16, n_estimators=64,\n",
       "                                        random_state=612))])</pre><b>In a Jupyter environment, please rerun this cell to show the HTML representation or trust the notebook. <br />On GitHub, the HTML representation is unable to render, please try loading this page with nbviewer.org.</b></div><div class=\"sk-container\" hidden><div class=\"sk-item sk-dashed-wrapped\"><div class=\"sk-label-container\"><div class=\"sk-label sk-toggleable\"><input class=\"sk-toggleable__control sk-hidden--visually\" id=\"sk-estimator-id-17\" type=\"checkbox\" ><label for=\"sk-estimator-id-17\" class=\"sk-toggleable__label sk-toggleable__label-arrow\">Pipeline</label><div class=\"sk-toggleable__content\"><pre>Pipeline(steps=[(&#x27;functiontransformer&#x27;,\n",
       "                 FunctionTransformer(func=&lt;function remove_hyperlinks at 0x16f55d750&gt;)),\n",
       "                (&#x27;tfidfvectorizer&#x27;,\n",
       "                 TfidfVectorizer(max_df=2500, min_df=2, stop_words=&#x27;english&#x27;)),\n",
       "                (&#x27;truncatedsvd&#x27;,\n",
       "                 TruncatedSVD(n_components=235, random_state=228)),\n",
       "                (&#x27;randomforestclassifier&#x27;,\n",
       "                 RandomForestClassifier(max_depth=16, n_estimators=64,\n",
       "                                        random_state=612))])</pre></div></div></div><div class=\"sk-serial\"><div class=\"sk-item\"><div class=\"sk-estimator sk-toggleable\"><input class=\"sk-toggleable__control sk-hidden--visually\" id=\"sk-estimator-id-18\" type=\"checkbox\" ><label for=\"sk-estimator-id-18\" class=\"sk-toggleable__label sk-toggleable__label-arrow\">FunctionTransformer</label><div class=\"sk-toggleable__content\"><pre>FunctionTransformer(func=&lt;function remove_hyperlinks at 0x16f55d750&gt;)</pre></div></div></div><div class=\"sk-item\"><div class=\"sk-estimator sk-toggleable\"><input class=\"sk-toggleable__control sk-hidden--visually\" id=\"sk-estimator-id-19\" type=\"checkbox\" ><label for=\"sk-estimator-id-19\" class=\"sk-toggleable__label sk-toggleable__label-arrow\">TfidfVectorizer</label><div class=\"sk-toggleable__content\"><pre>TfidfVectorizer(max_df=2500, min_df=2, stop_words=&#x27;english&#x27;)</pre></div></div></div><div class=\"sk-item\"><div class=\"sk-estimator sk-toggleable\"><input class=\"sk-toggleable__control sk-hidden--visually\" id=\"sk-estimator-id-20\" type=\"checkbox\" ><label for=\"sk-estimator-id-20\" class=\"sk-toggleable__label sk-toggleable__label-arrow\">TruncatedSVD</label><div class=\"sk-toggleable__content\"><pre>TruncatedSVD(n_components=235, random_state=228)</pre></div></div></div><div class=\"sk-item\"><div class=\"sk-estimator sk-toggleable\"><input class=\"sk-toggleable__control sk-hidden--visually\" id=\"sk-estimator-id-21\" type=\"checkbox\" ><label for=\"sk-estimator-id-21\" class=\"sk-toggleable__label sk-toggleable__label-arrow\">RandomForestClassifier</label><div class=\"sk-toggleable__content\"><pre>RandomForestClassifier(max_depth=16, n_estimators=64, random_state=612)</pre></div></div></div></div></div></div></div>"
      ],
      "text/plain": [
       "Pipeline(steps=[('functiontransformer',\n",
       "                 FunctionTransformer(func=<function remove_hyperlinks at 0x16f55d750>)),\n",
       "                ('tfidfvectorizer',\n",
       "                 TfidfVectorizer(max_df=2500, min_df=2, stop_words='english')),\n",
       "                ('truncatedsvd',\n",
       "                 TruncatedSVD(n_components=235, random_state=228)),\n",
       "                ('randomforestclassifier',\n",
       "                 RandomForestClassifier(max_depth=16, n_estimators=64,\n",
       "                                        random_state=612))])"
      ]
     },
     "execution_count": 33,
     "metadata": {},
     "output_type": "execute_result"
    }
   ],
   "source": [
    "best_model.fit(X_train, y_train)"
   ]
  },
  {
   "cell_type": "code",
   "execution_count": 34,
   "id": "6a5f7049-e220-4182-9df6-a0bc728ca7aa",
   "metadata": {},
   "outputs": [],
   "source": [
    "y_pred = best_model.predict(X_test)"
   ]
  },
  {
   "cell_type": "code",
   "execution_count": 35,
   "id": "0d9ad800-f66e-4728-b43a-ca0281854d7c",
   "metadata": {},
   "outputs": [
    {
     "name": "stdout",
     "output_type": "stream",
     "text": [
      "              precision    recall  f1-score   support\n",
      "\n",
      "           0       1.00      0.10      0.17        73\n",
      "           1       0.81      0.75      0.78       214\n",
      "           2       0.56      0.88      0.69       852\n",
      "           3       0.96      0.31      0.47        77\n",
      "           4       0.99      0.95      0.97        97\n",
      "           5       0.86      0.94      0.90       242\n",
      "           6       0.84      0.68      0.75       146\n",
      "           7       0.91      0.71      0.80       160\n",
      "           8       0.85      0.53      0.65        32\n",
      "           9       0.72      0.55      0.62       336\n",
      "          10       0.75      0.23      0.35        13\n",
      "          11       0.00      0.00      0.00        14\n",
      "          12       0.97      0.50      0.66       119\n",
      "          13       0.96      0.19      0.32       116\n",
      "          14       0.66      0.75      0.70       415\n",
      "          15       0.89      0.57      0.69       125\n",
      "          16       0.89      0.81      0.85       249\n",
      "          17       0.88      0.56      0.68       112\n",
      "          18       0.73      0.85      0.79       528\n",
      "          19       0.79      0.47      0.59       197\n",
      "\n",
      "    accuracy                           0.72      4117\n",
      "   macro avg       0.80      0.57      0.62      4117\n",
      "weighted avg       0.76      0.72      0.70      4117\n",
      "\n"
     ]
    },
    {
     "name": "stderr",
     "output_type": "stream",
     "text": [
      "/Users/adrianli375/miniconda3/envs/cpsc330/lib/python3.10/site-packages/sklearn/metrics/_classification.py:1334: UndefinedMetricWarning: Precision and F-score are ill-defined and being set to 0.0 in labels with no predicted samples. Use `zero_division` parameter to control this behavior.\n",
      "  _warn_prf(average, modifier, msg_start, len(result))\n",
      "/Users/adrianli375/miniconda3/envs/cpsc330/lib/python3.10/site-packages/sklearn/metrics/_classification.py:1334: UndefinedMetricWarning: Precision and F-score are ill-defined and being set to 0.0 in labels with no predicted samples. Use `zero_division` parameter to control this behavior.\n",
      "  _warn_prf(average, modifier, msg_start, len(result))\n",
      "/Users/adrianli375/miniconda3/envs/cpsc330/lib/python3.10/site-packages/sklearn/metrics/_classification.py:1334: UndefinedMetricWarning: Precision and F-score are ill-defined and being set to 0.0 in labels with no predicted samples. Use `zero_division` parameter to control this behavior.\n",
      "  _warn_prf(average, modifier, msg_start, len(result))\n"
     ]
    }
   ],
   "source": [
    "print(classification_report(y_test, y_pred))"
   ]
  },
  {
   "cell_type": "markdown",
   "id": "ee12654f-cc09-4313-899b-04608ff4e928",
   "metadata": {},
   "source": [
    "Our weighted average f1-score is only `0.70`. Seems we are not really doing a good job in classifying titles into categories all the time. "
   ]
  },
  {
   "cell_type": "markdown",
   "id": "edafd062-2fa2-4e48-8cee-93abee5d8a86",
   "metadata": {},
   "source": [
    "In conclusion, using the Bag of Words (BoW) representation summarizes the counts of each word in a sentence. This effectively transforms original, raw text into machine-readable numerical features, but the performance may not as be good as expected. "
   ]
  },
  {
   "cell_type": "code",
   "execution_count": null,
   "id": "a6662f1c-0f20-4ef3-975d-1a786e9df8c8",
   "metadata": {},
   "outputs": [],
   "source": []
  }
 ],
 "metadata": {
  "kernelspec": {
   "display_name": "Python [conda env:cpsc330]",
   "language": "python",
   "name": "conda-env-cpsc330-py"
  },
  "language_info": {
   "codemirror_mode": {
    "name": "ipython",
    "version": 3
   },
   "file_extension": ".py",
   "mimetype": "text/x-python",
   "name": "python",
   "nbconvert_exporter": "python",
   "pygments_lexer": "ipython3",
   "version": "3.10.8"
  }
 },
 "nbformat": 4,
 "nbformat_minor": 5
}
