{
 "cells": [
  {
   "cell_type": "markdown",
   "id": "e566e4fc-9820-43c2-8e04-8905358578b1",
   "metadata": {},
   "source": [
    "# Demo 5: Predicting Gold Futures prices"
   ]
  },
  {
   "cell_type": "markdown",
   "id": "4fccb7b0-5cc9-485f-b1c8-9cae65521928",
   "metadata": {},
   "source": [
    "## Imports"
   ]
  },
  {
   "cell_type": "code",
   "execution_count": 1,
   "id": "e495d29d-d256-43e5-84dc-b37afe022110",
   "metadata": {},
   "outputs": [],
   "source": [
    "from datetime import datetime, timedelta\n",
    "import matplotlib.pyplot as plt\n",
    "import numpy as np\n",
    "from statsmodels.graphics.tsaplots import plot_acf, plot_pacf\n",
    "from statsmodels.tsa.arima.model import ARIMA\n",
    "from tzlocal import get_localzone_name\n",
    "import yfinance as yf"
   ]
  },
  {
   "cell_type": "markdown",
   "id": "b22b70f5-3236-4d61-8fc3-4756fc3a9a3c",
   "metadata": {},
   "source": [
    "## Introduction"
   ]
  },
  {
   "cell_type": "markdown",
   "id": "34d17b7e-aa3e-4d47-9859-8990a327f35a",
   "metadata": {},
   "source": [
    "Gold futures are contracts that allow investors to purchase or sell gold at a predetermined price on a specific future date. As such, gold futures can be used as a tool for hedging against inflation and currency risks, as well as for speculating on the future price of gold. In the context of predicting a recession, gold futures can provide valuable insights into the state of the economy. Historically, gold prices have tended to rise during times of economic uncertainty and market volatility, as investors flock to safe-haven assets like gold. Therefore, changes in gold futures prices can be used as a leading indicator of economic trends and recessions. By analyzing the relationship between gold futures and other economic indicators, such as GDP growth, inflation, and unemployment, it is possible to build predictive models that can forecast the likelihood of a recession.\n",
    "\n",
    "In this demo, we will explore the use of different predictive techniques to predict gold futures prices and evaluate the accuracy of our predictions."
   ]
  },
  {
   "cell_type": "markdown",
   "id": "6b1a607f-569f-4474-a765-fe717580efaa",
   "metadata": {},
   "source": [
    "Let's try downloading our data from Yahoo Finance API. "
   ]
  },
  {
   "cell_type": "code",
   "execution_count": 2,
   "id": "1ef224ce-9c20-4809-94d0-b87e49cee202",
   "metadata": {},
   "outputs": [
    {
     "name": "stdout",
     "output_type": "stream",
     "text": [
      "2021-04-09\n"
     ]
    }
   ],
   "source": [
    "ticker = f\"MGC=F\"\n",
    "time_diff = 365 * 2\n",
    "end_date = datetime.today().strftime(\"%Y-%m-%d\")\n",
    "start_date = (datetime.today() - timedelta(days=time_diff)).strftime(\"%Y-%m-%d\")\n",
    "print(start_date)"
   ]
  },
  {
   "cell_type": "code",
   "execution_count": 3,
   "id": "84643ecc-55f9-4ad1-a5a4-9064e08fc2e2",
   "metadata": {},
   "outputs": [
    {
     "name": "stdout",
     "output_type": "stream",
     "text": [
      "[*********************100%***********************]  1 of 1 completed\n"
     ]
    }
   ],
   "source": [
    "data = yf.download(ticker, start=start_date, end=end_date)"
   ]
  },
  {
   "cell_type": "markdown",
   "id": "b5ad056c-b63c-4e30-a273-381fe150b567",
   "metadata": {},
   "source": [
    "## Train test split"
   ]
  },
  {
   "cell_type": "markdown",
   "id": "9d78e6b5-c99f-4f21-87d6-894931f563a6",
   "metadata": {},
   "source": [
    "I am going to split the data into training and test portions. "
   ]
  },
  {
   "cell_type": "code",
   "execution_count": 4,
   "id": "971c1fb6-2b3d-44c7-8c8c-e8ed8e1b5a8c",
   "metadata": {},
   "outputs": [],
   "source": [
    "test_size = 0.01"
   ]
  },
  {
   "cell_type": "code",
   "execution_count": 5,
   "id": "a6635a60-57e1-475c-b887-37d46c3307a8",
   "metadata": {},
   "outputs": [],
   "source": [
    "n = len(data)\n",
    "\n",
    "n_test = int(n * test_size // 1)\n",
    "n_train = n - n_test"
   ]
  },
  {
   "cell_type": "code",
   "execution_count": 6,
   "id": "c362ef8e-9729-42ee-bc0c-b7bcbb776ca1",
   "metadata": {},
   "outputs": [
    {
     "data": {
      "text/html": [
       "<div>\n",
       "<style scoped>\n",
       "    .dataframe tbody tr th:only-of-type {\n",
       "        vertical-align: middle;\n",
       "    }\n",
       "\n",
       "    .dataframe tbody tr th {\n",
       "        vertical-align: top;\n",
       "    }\n",
       "\n",
       "    .dataframe thead th {\n",
       "        text-align: right;\n",
       "    }\n",
       "</style>\n",
       "<table border=\"1\" class=\"dataframe\">\n",
       "  <thead>\n",
       "    <tr style=\"text-align: right;\">\n",
       "      <th></th>\n",
       "      <th>Open</th>\n",
       "      <th>High</th>\n",
       "      <th>Low</th>\n",
       "      <th>Close</th>\n",
       "      <th>Adj Close</th>\n",
       "      <th>Volume</th>\n",
       "    </tr>\n",
       "    <tr>\n",
       "      <th>Date</th>\n",
       "      <th></th>\n",
       "      <th></th>\n",
       "      <th></th>\n",
       "      <th></th>\n",
       "      <th></th>\n",
       "      <th></th>\n",
       "    </tr>\n",
       "  </thead>\n",
       "  <tbody>\n",
       "    <tr>\n",
       "      <th>2021-04-09</th>\n",
       "      <td>1755.300049</td>\n",
       "      <td>1755.300049</td>\n",
       "      <td>1730.099976</td>\n",
       "      <td>1743.300049</td>\n",
       "      <td>1743.300049</td>\n",
       "      <td>30</td>\n",
       "    </tr>\n",
       "    <tr>\n",
       "      <th>2021-04-12</th>\n",
       "      <td>1739.599976</td>\n",
       "      <td>1742.199951</td>\n",
       "      <td>1730.300049</td>\n",
       "      <td>1731.199951</td>\n",
       "      <td>1731.199951</td>\n",
       "      <td>20</td>\n",
       "    </tr>\n",
       "    <tr>\n",
       "      <th>2021-04-13</th>\n",
       "      <td>1747.199951</td>\n",
       "      <td>1747.199951</td>\n",
       "      <td>1746.199951</td>\n",
       "      <td>1746.199951</td>\n",
       "      <td>1746.199951</td>\n",
       "      <td>18</td>\n",
       "    </tr>\n",
       "    <tr>\n",
       "      <th>2021-04-14</th>\n",
       "      <td>1735.800049</td>\n",
       "      <td>1735.800049</td>\n",
       "      <td>1734.900024</td>\n",
       "      <td>1734.900024</td>\n",
       "      <td>1734.900024</td>\n",
       "      <td>1</td>\n",
       "    </tr>\n",
       "    <tr>\n",
       "      <th>2021-04-15</th>\n",
       "      <td>1752.599976</td>\n",
       "      <td>1765.400024</td>\n",
       "      <td>1752.599976</td>\n",
       "      <td>1765.400024</td>\n",
       "      <td>1765.400024</td>\n",
       "      <td>7</td>\n",
       "    </tr>\n",
       "    <tr>\n",
       "      <th>...</th>\n",
       "      <td>...</td>\n",
       "      <td>...</td>\n",
       "      <td>...</td>\n",
       "      <td>...</td>\n",
       "      <td>...</td>\n",
       "      <td>...</td>\n",
       "    </tr>\n",
       "    <tr>\n",
       "      <th>2023-03-24</th>\n",
       "      <td>1996.199951</td>\n",
       "      <td>2006.300049</td>\n",
       "      <td>1977.800049</td>\n",
       "      <td>1983.800049</td>\n",
       "      <td>1983.800049</td>\n",
       "      <td>104386</td>\n",
       "    </tr>\n",
       "    <tr>\n",
       "      <th>2023-03-27</th>\n",
       "      <td>1982.000000</td>\n",
       "      <td>1983.400024</td>\n",
       "      <td>1944.699951</td>\n",
       "      <td>1953.800049</td>\n",
       "      <td>1953.800049</td>\n",
       "      <td>68192</td>\n",
       "    </tr>\n",
       "    <tr>\n",
       "      <th>2023-03-28</th>\n",
       "      <td>1958.500000</td>\n",
       "      <td>1977.199951</td>\n",
       "      <td>1949.800049</td>\n",
       "      <td>1973.500000</td>\n",
       "      <td>1973.500000</td>\n",
       "      <td>56333</td>\n",
       "    </tr>\n",
       "    <tr>\n",
       "      <th>2023-03-29</th>\n",
       "      <td>1975.300049</td>\n",
       "      <td>1976.099976</td>\n",
       "      <td>1959.500000</td>\n",
       "      <td>1966.900024</td>\n",
       "      <td>1966.900024</td>\n",
       "      <td>38674</td>\n",
       "    </tr>\n",
       "    <tr>\n",
       "      <th>2023-03-30</th>\n",
       "      <td>1964.400024</td>\n",
       "      <td>1983.900024</td>\n",
       "      <td>1955.800049</td>\n",
       "      <td>1980.300049</td>\n",
       "      <td>1980.300049</td>\n",
       "      <td>4390</td>\n",
       "    </tr>\n",
       "  </tbody>\n",
       "</table>\n",
       "<p>500 rows × 6 columns</p>\n",
       "</div>"
      ],
      "text/plain": [
       "                   Open         High          Low        Close    Adj Close  \\\n",
       "Date                                                                          \n",
       "2021-04-09  1755.300049  1755.300049  1730.099976  1743.300049  1743.300049   \n",
       "2021-04-12  1739.599976  1742.199951  1730.300049  1731.199951  1731.199951   \n",
       "2021-04-13  1747.199951  1747.199951  1746.199951  1746.199951  1746.199951   \n",
       "2021-04-14  1735.800049  1735.800049  1734.900024  1734.900024  1734.900024   \n",
       "2021-04-15  1752.599976  1765.400024  1752.599976  1765.400024  1765.400024   \n",
       "...                 ...          ...          ...          ...          ...   \n",
       "2023-03-24  1996.199951  2006.300049  1977.800049  1983.800049  1983.800049   \n",
       "2023-03-27  1982.000000  1983.400024  1944.699951  1953.800049  1953.800049   \n",
       "2023-03-28  1958.500000  1977.199951  1949.800049  1973.500000  1973.500000   \n",
       "2023-03-29  1975.300049  1976.099976  1959.500000  1966.900024  1966.900024   \n",
       "2023-03-30  1964.400024  1983.900024  1955.800049  1980.300049  1980.300049   \n",
       "\n",
       "            Volume  \n",
       "Date                \n",
       "2021-04-09      30  \n",
       "2021-04-12      20  \n",
       "2021-04-13      18  \n",
       "2021-04-14       1  \n",
       "2021-04-15       7  \n",
       "...            ...  \n",
       "2023-03-24  104386  \n",
       "2023-03-27   68192  \n",
       "2023-03-28   56333  \n",
       "2023-03-29   38674  \n",
       "2023-03-30    4390  \n",
       "\n",
       "[500 rows x 6 columns]"
      ]
     },
     "execution_count": 6,
     "metadata": {},
     "output_type": "execute_result"
    }
   ],
   "source": [
    "train_data, test_data = data[:n_train], data[n_train:]\n",
    "train_data"
   ]
  },
  {
   "cell_type": "markdown",
   "id": "7d016a33-2bf2-4196-9d78-251badb8f7cc",
   "metadata": {},
   "source": [
    "## Exploratory Data Analysis (EDA)"
   ]
  },
  {
   "cell_type": "markdown",
   "id": "92cde8f2-db3d-40db-bb74-9596f9304992",
   "metadata": {},
   "source": [
    "Check if any missing values of the data: "
   ]
  },
  {
   "cell_type": "code",
   "execution_count": 7,
   "id": "2af5fc5b-949c-49bf-acdc-2393da46bdcb",
   "metadata": {},
   "outputs": [
    {
     "name": "stdout",
     "output_type": "stream",
     "text": [
      "<class 'pandas.core.frame.DataFrame'>\n",
      "DatetimeIndex: 500 entries, 2021-04-09 to 2023-03-30\n",
      "Data columns (total 6 columns):\n",
      " #   Column     Non-Null Count  Dtype  \n",
      "---  ------     --------------  -----  \n",
      " 0   Open       500 non-null    float64\n",
      " 1   High       500 non-null    float64\n",
      " 2   Low        500 non-null    float64\n",
      " 3   Close      500 non-null    float64\n",
      " 4   Adj Close  500 non-null    float64\n",
      " 5   Volume     500 non-null    int64  \n",
      "dtypes: float64(5), int64(1)\n",
      "memory usage: 27.3 KB\n"
     ]
    }
   ],
   "source": [
    "train_data.info()"
   ]
  },
  {
   "cell_type": "markdown",
   "id": "5b323424-6180-47ba-a4dd-9196eb8f6b58",
   "metadata": {},
   "source": [
    "Check columns of the data: "
   ]
  },
  {
   "cell_type": "code",
   "execution_count": 8,
   "id": "1a3b9628-9f8c-4f9c-9c65-7dd010e9fe7d",
   "metadata": {},
   "outputs": [
    {
     "data": {
      "text/html": [
       "<div>\n",
       "<style scoped>\n",
       "    .dataframe tbody tr th:only-of-type {\n",
       "        vertical-align: middle;\n",
       "    }\n",
       "\n",
       "    .dataframe tbody tr th {\n",
       "        vertical-align: top;\n",
       "    }\n",
       "\n",
       "    .dataframe thead th {\n",
       "        text-align: right;\n",
       "    }\n",
       "</style>\n",
       "<table border=\"1\" class=\"dataframe\">\n",
       "  <thead>\n",
       "    <tr style=\"text-align: right;\">\n",
       "      <th></th>\n",
       "      <th>Open</th>\n",
       "      <th>High</th>\n",
       "      <th>Low</th>\n",
       "      <th>Close</th>\n",
       "      <th>Adj Close</th>\n",
       "      <th>Volume</th>\n",
       "    </tr>\n",
       "  </thead>\n",
       "  <tbody>\n",
       "    <tr>\n",
       "      <th>count</th>\n",
       "      <td>500.000000</td>\n",
       "      <td>500.000000</td>\n",
       "      <td>500.000000</td>\n",
       "      <td>500.000000</td>\n",
       "      <td>500.000000</td>\n",
       "      <td>500.000000</td>\n",
       "    </tr>\n",
       "    <tr>\n",
       "      <th>mean</th>\n",
       "      <td>1812.475201</td>\n",
       "      <td>1822.089401</td>\n",
       "      <td>1802.438998</td>\n",
       "      <td>1812.370600</td>\n",
       "      <td>1812.370600</td>\n",
       "      <td>24608.610000</td>\n",
       "    </tr>\n",
       "    <tr>\n",
       "      <th>std</th>\n",
       "      <td>78.542302</td>\n",
       "      <td>80.106003</td>\n",
       "      <td>76.596920</td>\n",
       "      <td>78.341739</td>\n",
       "      <td>78.341739</td>\n",
       "      <td>30946.753537</td>\n",
       "    </tr>\n",
       "    <tr>\n",
       "      <th>min</th>\n",
       "      <td>1619.500000</td>\n",
       "      <td>1627.500000</td>\n",
       "      <td>1613.800049</td>\n",
       "      <td>1623.599976</td>\n",
       "      <td>1623.599976</td>\n",
       "      <td>0.000000</td>\n",
       "    </tr>\n",
       "    <tr>\n",
       "      <th>25%</th>\n",
       "      <td>1768.450012</td>\n",
       "      <td>1776.725006</td>\n",
       "      <td>1759.899994</td>\n",
       "      <td>1767.850006</td>\n",
       "      <td>1767.850006</td>\n",
       "      <td>11.000000</td>\n",
       "    </tr>\n",
       "    <tr>\n",
       "      <th>50%</th>\n",
       "      <td>1806.950012</td>\n",
       "      <td>1814.799988</td>\n",
       "      <td>1795.850037</td>\n",
       "      <td>1805.950012</td>\n",
       "      <td>1805.950012</td>\n",
       "      <td>3126.000000</td>\n",
       "    </tr>\n",
       "    <tr>\n",
       "      <th>75%</th>\n",
       "      <td>1860.024994</td>\n",
       "      <td>1868.900024</td>\n",
       "      <td>1847.600006</td>\n",
       "      <td>1861.750031</td>\n",
       "      <td>1861.750031</td>\n",
       "      <td>46698.250000</td>\n",
       "    </tr>\n",
       "    <tr>\n",
       "      <th>max</th>\n",
       "      <td>2058.199951</td>\n",
       "      <td>2078.500000</td>\n",
       "      <td>1985.900024</td>\n",
       "      <td>2043.300049</td>\n",
       "      <td>2043.300049</td>\n",
       "      <td>198968.000000</td>\n",
       "    </tr>\n",
       "  </tbody>\n",
       "</table>\n",
       "</div>"
      ],
      "text/plain": [
       "              Open         High          Low        Close    Adj Close  \\\n",
       "count   500.000000   500.000000   500.000000   500.000000   500.000000   \n",
       "mean   1812.475201  1822.089401  1802.438998  1812.370600  1812.370600   \n",
       "std      78.542302    80.106003    76.596920    78.341739    78.341739   \n",
       "min    1619.500000  1627.500000  1613.800049  1623.599976  1623.599976   \n",
       "25%    1768.450012  1776.725006  1759.899994  1767.850006  1767.850006   \n",
       "50%    1806.950012  1814.799988  1795.850037  1805.950012  1805.950012   \n",
       "75%    1860.024994  1868.900024  1847.600006  1861.750031  1861.750031   \n",
       "max    2058.199951  2078.500000  1985.900024  2043.300049  2043.300049   \n",
       "\n",
       "              Volume  \n",
       "count     500.000000  \n",
       "mean    24608.610000  \n",
       "std     30946.753537  \n",
       "min         0.000000  \n",
       "25%        11.000000  \n",
       "50%      3126.000000  \n",
       "75%     46698.250000  \n",
       "max    198968.000000  "
      ]
     },
     "execution_count": 8,
     "metadata": {},
     "output_type": "execute_result"
    }
   ],
   "source": [
    "train_data.describe()"
   ]
  },
  {
   "cell_type": "markdown",
   "id": "fabb4e0b-bbac-4534-9c4d-9a87b16a7bc9",
   "metadata": {},
   "source": [
    "We will use the `Adj Close` (adjusted close) price as our input data and the price to be predicted. "
   ]
  },
  {
   "cell_type": "markdown",
   "id": "b0c1c84f-737d-49ae-b77c-1bb8555e9489",
   "metadata": {},
   "source": [
    "## First Visualization of the Data"
   ]
  },
  {
   "cell_type": "code",
   "execution_count": 9,
   "id": "05b96222-8e40-486c-bc81-b700aaeedb47",
   "metadata": {},
   "outputs": [],
   "source": [
    "dates = train_data.index"
   ]
  },
  {
   "cell_type": "code",
   "execution_count": 10,
   "id": "42437474-4f2f-42d6-a872-8331fe97bc3f",
   "metadata": {},
   "outputs": [],
   "source": [
    "X_raw = train_data[\"Adj Close\"].values"
   ]
  },
  {
   "cell_type": "markdown",
   "id": "f9e35c94-6eba-4d2b-a71a-d78dafc40c31",
   "metadata": {},
   "source": [
    "Let's plot the data and observe patterns: "
   ]
  },
  {
   "cell_type": "code",
   "execution_count": 11,
   "id": "68cfefde-79b6-4c83-ae3b-f4c93469fe77",
   "metadata": {},
   "outputs": [],
   "source": [
    "train_end_timestamp = train_data.iloc[-1].name\n",
    "train_end_date = datetime(train_end_timestamp.year, train_end_timestamp.month, train_end_timestamp.day).strftime(\"%Y-%m-%d\")"
   ]
  },
  {
   "cell_type": "code",
   "execution_count": 12,
   "id": "6dab0675-e639-4644-8fa7-70937539157f",
   "metadata": {},
   "outputs": [
    {
     "data": {
      "image/png": "[encoded data removed]",
      "text/plain": [
       "<Figure size 640x480 with 1 Axes>"
      ]
     },
     "metadata": {},
     "output_type": "display_data"
    }
   ],
   "source": [
    "plt.plot(dates, X_raw)\n",
    "plt.title(f\"Daily data for Gold Futures MGC=F from {start_date} to {train_end_date}\")\n",
    "plt.xticks(rotation=20)\n",
    "plt.show()"
   ]
  },
  {
   "cell_type": "markdown",
   "id": "4b0b5a87-03da-4f81-a727-547a3300a95f",
   "metadata": {},
   "source": [
    "## Time-series modelling"
   ]
  },
  {
   "cell_type": "markdown",
   "id": "be1618ac-b70a-4d4e-a219-b0334422f40b",
   "metadata": {},
   "source": [
    "Let's try time-series modelling on this data, similar to the previous demo. "
   ]
  },
  {
   "cell_type": "markdown",
   "id": "544be2c0-cb92-4981-bc91-d20a13b9c448",
   "metadata": {},
   "source": [
    "### Autocorrelation"
   ]
  },
  {
   "cell_type": "markdown",
   "id": "d5cf24c8-cb5d-4454-9394-60daab124712",
   "metadata": {},
   "source": [
    "Autocorrelation is a measure of the degree of similarity between a time series and a lagged version of itself. It quantifies the relationship between observations of a time series that are separated by a given time lag, and can be used to identify patterns and dependencies in the data. A time series with high autocorrelation implies that there is a strong relationship between adjacent observations, while a time series with low autocorrelation suggests that there is no significant relationship between adjacent observations."
   ]
  },
  {
   "cell_type": "markdown",
   "id": "b602cc7c-8ff8-4adf-99c1-15cb2d97f3b5",
   "metadata": {},
   "source": [
    "Let's try to plot the autocorrelation function (acf) of the series: "
   ]
  },
  {
   "cell_type": "code",
   "execution_count": 13,
   "id": "38d5d4c6-202d-4362-b254-1d71438f611b",
   "metadata": {},
   "outputs": [
    {
     "data": {
      "image/png": "[encoded data removed]",
      "text/plain": [
       "<Figure size 640x480 with 1 Axes>"
      ]
     },
     "metadata": {},
     "output_type": "display_data"
    }
   ],
   "source": [
    "fig, ax = plt.subplots()\n",
    "\n",
    "n = len(X_raw)\n",
    "lower_signi_bound = -2 / np.sqrt(n)\n",
    "upper_signi_bound = 2 / np.sqrt(n)\n",
    "\n",
    "# Add the horizontal lines showing the significant bounds\n",
    "ax.axhline(y=lower_signi_bound, linestyle=':', color='gray')\n",
    "ax.axhline(y=upper_signi_bound, linestyle=':', color='gray')\n",
    "\n",
    "plot_acf(X_raw, ax=ax)\n",
    "plt.title(\"Autocorrelation function plot of the series\")\n",
    "plt.ylim(-0.25, 1.05)\n",
    "\n",
    "plt.show()"
   ]
  },
  {
   "cell_type": "markdown",
   "id": "e037bd1f-3b09-4cf2-9e90-c5a8ca620d01",
   "metadata": {},
   "source": [
    "The acf plot suggests that the acf decays slowlt, meaning that fitting an autoregressive (AR) process is plausible. "
   ]
  },
  {
   "cell_type": "markdown",
   "id": "90c689db-dbe6-4c2f-bfd7-7d99ac5761c7",
   "metadata": {},
   "source": [
    "### Partial Autocorrelation"
   ]
  },
  {
   "cell_type": "markdown",
   "id": "ea7c8916-a04d-4c71-8a77-b8d7a3b83c5f",
   "metadata": {},
   "source": [
    "Partial autocorrelation refers to the correlation between a time series variable and a lagged version of itself, after removing the linear dependence of this lagged version on all the intermediate lagged versions. In other words, it measures the correlation between a time series and its lagged version, after accounting for the correlation of the time series with all the intermediate lags between them. The partial autocorrelation function (PACF) is a tool used in time series analysis to identify the order of the autoregressive (AR) model, which helps in forecasting future values of the series."
   ]
  },
  {
   "cell_type": "markdown",
   "id": "0b517b24-7289-402f-b187-ebe85afcb404",
   "metadata": {},
   "source": [
    "Let's try to plot the pacf of our series obtained: "
   ]
  },
  {
   "cell_type": "code",
   "execution_count": 14,
   "id": "6cd3b660-5b94-4bbb-b95c-e059ecaacf9e",
   "metadata": {},
   "outputs": [
    {
     "name": "stderr",
     "output_type": "stream",
     "text": [
      "/Users/adrianli375/miniconda3/envs/cpsc330/lib/python3.10/site-packages/statsmodels/graphics/tsaplots.py:348: FutureWarning: The default method 'yw' can produce PACF values outside of the [-1,1] interval. After 0.13, the default will change tounadjusted Yule-Walker ('ywm'). You can use this method now by setting method='ywm'.\n",
      "  warnings.warn(\n"
     ]
    },
    {
     "data": {
      "image/png": "[encoded data removed]",
      "text/plain": [
       "<Figure size 640x480 with 1 Axes>"
      ]
     },
     "metadata": {},
     "output_type": "display_data"
    }
   ],
   "source": [
    "fig, ax = plt.subplots()\n",
    "\n",
    "n = len(X_raw)\n",
    "lower_signi_bound = -2 / np.sqrt(n)\n",
    "upper_signi_bound = 2 / np.sqrt(n)\n",
    "\n",
    "# Add the horizontal lines showing the significant bounds\n",
    "ax.axhline(y=lower_signi_bound, linestyle=':', color='gray')\n",
    "ax.axhline(y=upper_signi_bound, linestyle=':', color='gray')\n",
    "\n",
    "plot_pacf(X_raw, ax=ax)\n",
    "plt.title(\"Partial autocorrelation function plot of the series\")\n",
    "plt.ylim(-0.25, 1.05)\n",
    "\n",
    "plt.show()"
   ]
  },
  {
   "cell_type": "markdown",
   "id": "52e5d356-73dc-49dc-8f8d-b82a92ff988c",
   "metadata": {},
   "source": [
    "The PACF plot cuts off a lag 1, meaning that an $AR(1)$ process is suitable. "
   ]
  },
  {
   "cell_type": "markdown",
   "id": "d7c68f68-9809-4c17-8926-c87033b77f90",
   "metadata": {},
   "source": [
    "### Fitting an AR(1) process to the data"
   ]
  },
  {
   "cell_type": "code",
   "execution_count": 15,
   "id": "0ffabf28-9a91-486d-a9d2-0ac2cf514baa",
   "metadata": {},
   "outputs": [],
   "source": [
    "arima = ARIMA(X_raw, order=(1, 0, 0))"
   ]
  },
  {
   "cell_type": "code",
   "execution_count": 16,
   "id": "520d61f2-223f-4316-8162-ce287f38a139",
   "metadata": {},
   "outputs": [],
   "source": [
    "model = arima.fit()"
   ]
  },
  {
   "cell_type": "code",
   "execution_count": 17,
   "id": "6f39a0e6-6474-4f61-b3a6-e4c93bc27f2a",
   "metadata": {},
   "outputs": [
    {
     "data": {
      "text/html": [
       "<table class=\"simpletable\">\n",
       "<caption>SARIMAX Results</caption>\n",
       "<tr>\n",
       "  <th>Dep. Variable:</th>           <td>y</td>        <th>  No. Observations:  </th>    <td>500</td>   \n",
       "</tr>\n",
       "<tr>\n",
       "  <th>Model:</th>            <td>ARIMA(1, 0, 0)</td>  <th>  Log Likelihood     </th> <td>-2127.627</td>\n",
       "</tr>\n",
       "<tr>\n",
       "  <th>Date:</th>            <td>Sun, 09 Apr 2023</td> <th>  AIC                </th> <td>4261.254</td> \n",
       "</tr>\n",
       "<tr>\n",
       "  <th>Time:</th>                <td>22:44:31</td>     <th>  BIC                </th> <td>4273.897</td> \n",
       "</tr>\n",
       "<tr>\n",
       "  <th>Sample:</th>                  <td>0</td>        <th>  HQIC               </th> <td>4266.215</td> \n",
       "</tr>\n",
       "<tr>\n",
       "  <th></th>                      <td> - 500</td>      <th>                     </th>     <td> </td>    \n",
       "</tr>\n",
       "<tr>\n",
       "  <th>Covariance Type:</th>        <td>opg</td>       <th>                     </th>     <td> </td>    \n",
       "</tr>\n",
       "</table>\n",
       "<table class=\"simpletable\">\n",
       "<tr>\n",
       "     <td></td>       <th>coef</th>     <th>std err</th>      <th>z</th>      <th>P>|z|</th>  <th>[0.025</th>    <th>0.975]</th>  \n",
       "</tr>\n",
       "<tr>\n",
       "  <th>const</th>  <td> 1820.2121</td> <td>   34.287</td> <td>   53.087</td> <td> 0.000</td> <td> 1753.011</td> <td> 1887.414</td>\n",
       "</tr>\n",
       "<tr>\n",
       "  <th>ar.L1</th>  <td>    0.9792</td> <td>    0.008</td> <td>  116.346</td> <td> 0.000</td> <td>    0.963</td> <td>    0.996</td>\n",
       "</tr>\n",
       "<tr>\n",
       "  <th>sigma2</th> <td>  288.9569</td> <td>   13.500</td> <td>   21.403</td> <td> 0.000</td> <td>  262.496</td> <td>  315.417</td>\n",
       "</tr>\n",
       "</table>\n",
       "<table class=\"simpletable\">\n",
       "<tr>\n",
       "  <th>Ljung-Box (L1) (Q):</th>     <td>0.07</td> <th>  Jarque-Bera (JB):  </th> <td>69.22</td>\n",
       "</tr>\n",
       "<tr>\n",
       "  <th>Prob(Q):</th>                <td>0.79</td> <th>  Prob(JB):          </th> <td>0.00</td> \n",
       "</tr>\n",
       "<tr>\n",
       "  <th>Heteroskedasticity (H):</th> <td>1.27</td> <th>  Skew:              </th> <td>-0.25</td>\n",
       "</tr>\n",
       "<tr>\n",
       "  <th>Prob(H) (two-sided):</th>    <td>0.13</td> <th>  Kurtosis:          </th> <td>4.75</td> \n",
       "</tr>\n",
       "</table><br/><br/>Warnings:<br/>[1] Covariance matrix calculated using the outer product of gradients (complex-step)."
      ],
      "text/plain": [
       "<class 'statsmodels.iolib.summary.Summary'>\n",
       "\"\"\"\n",
       "                               SARIMAX Results                                \n",
       "==============================================================================\n",
       "Dep. Variable:                      y   No. Observations:                  500\n",
       "Model:                 ARIMA(1, 0, 0)   Log Likelihood               -2127.627\n",
       "Date:                Sun, 09 Apr 2023   AIC                           4261.254\n",
       "Time:                        22:44:31   BIC                           4273.897\n",
       "Sample:                             0   HQIC                          4266.215\n",
       "                                - 500                                         \n",
       "Covariance Type:                  opg                                         \n",
       "==============================================================================\n",
       "                 coef    std err          z      P>|z|      [0.025      0.975]\n",
       "------------------------------------------------------------------------------\n",
       "const       1820.2121     34.287     53.087      0.000    1753.011    1887.414\n",
       "ar.L1          0.9792      0.008    116.346      0.000       0.963       0.996\n",
       "sigma2       288.9569     13.500     21.403      0.000     262.496     315.417\n",
       "===================================================================================\n",
       "Ljung-Box (L1) (Q):                   0.07   Jarque-Bera (JB):                69.22\n",
       "Prob(Q):                              0.79   Prob(JB):                         0.00\n",
       "Heteroskedasticity (H):               1.27   Skew:                            -0.25\n",
       "Prob(H) (two-sided):                  0.13   Kurtosis:                         4.75\n",
       "===================================================================================\n",
       "\n",
       "Warnings:\n",
       "[1] Covariance matrix calculated using the outer product of gradients (complex-step).\n",
       "\"\"\""
      ]
     },
     "execution_count": 17,
     "metadata": {},
     "output_type": "execute_result"
    }
   ],
   "source": [
    "model.summary()"
   ]
  },
  {
   "cell_type": "markdown",
   "id": "98babd7f-0db6-499e-baaa-2fd4ecd50731",
   "metadata": {},
   "source": [
    "### Forecast our results"
   ]
  },
  {
   "cell_type": "code",
   "execution_count": 18,
   "id": "baff91ec-86e8-40a4-8b9d-fe113bbcd603",
   "metadata": {},
   "outputs": [],
   "source": [
    "percent_ci = 0.95"
   ]
  },
  {
   "cell_type": "code",
   "execution_count": 19,
   "id": "c0cc3a1d-dad4-4b31-9077-5ed0315e7df2",
   "metadata": {},
   "outputs": [],
   "source": [
    "forecast = model.get_forecast(steps=n_test)\n",
    "ci = forecast.conf_int(alpha=1-percent_ci)"
   ]
  },
  {
   "cell_type": "code",
   "execution_count": 20,
   "id": "0c16137e-feb9-4b9c-b65a-821e5df39d17",
   "metadata": {},
   "outputs": [],
   "source": [
    "lower_bound = ci[:, 0]\n",
    "upper_bound = ci[:, 1]"
   ]
  },
  {
   "cell_type": "markdown",
   "id": "c4ed201d-9c07-42e3-96c5-d201e71967f7",
   "metadata": {},
   "source": [
    "### Plot our results"
   ]
  },
  {
   "cell_type": "code",
   "execution_count": 21,
   "id": "79895e31-0bd0-40c4-8746-95a9a3b37079",
   "metadata": {},
   "outputs": [],
   "source": [
    "test_dates = test_data.index"
   ]
  },
  {
   "cell_type": "code",
   "execution_count": 22,
   "id": "d10930ed-7faa-4724-a4d8-c639dd50504c",
   "metadata": {},
   "outputs": [
    {
     "data": {
      "image/png": "[encoded data removed]",
      "text/plain": [
       "<Figure size 640x480 with 1 Axes>"
      ]
     },
     "metadata": {},
     "output_type": "display_data"
    }
   ],
   "source": [
    "plt.plot(dates[-50:], X_raw[-50:]) # plot of training data\n",
    "plt.plot(test_dates, test_data[\"Adj Close\"].values, color=\"purple\") # plot of test data\n",
    "plt.plot(test_dates, lower_bound, linestyle=\"--\", color=\"red\") # plot of lower bound\n",
    "plt.plot(test_dates, upper_bound, linestyle=\"--\", color=\"green\") # plot of upper bound\n",
    "\n",
    "plot_start_date = dates[-50:][0].strftime(\"%Y-%m-%d\")\n",
    "\n",
    "plt.title(f\"Hourly data for Gold Futures MGC=F from {plot_start_date} to {train_end_date}, \\n with predictions following until {end_date}\")\n",
    "plt.xticks(rotation=20)\n",
    "plt.show()"
   ]
  },
  {
   "cell_type": "code",
   "execution_count": null,
   "id": "26206451-bb8c-43ac-9022-23201bfac3ca",
   "metadata": {},
   "outputs": [],
   "source": []
  }
 ],
 "metadata": {
  "kernelspec": {
   "display_name": "Python [conda env:cpsc330]",
   "language": "python",
   "name": "conda-env-cpsc330-py"
  },
  "language_info": {
   "codemirror_mode": {
    "name": "ipython",
    "version": 3
   },
   "file_extension": ".py",
   "mimetype": "text/x-python",
   "name": "python",
   "nbconvert_exporter": "python",
   "pygments_lexer": "ipython3",
   "version": "3.10.8"
  }
 },
 "nbformat": 4,
 "nbformat_minor": 5
}
