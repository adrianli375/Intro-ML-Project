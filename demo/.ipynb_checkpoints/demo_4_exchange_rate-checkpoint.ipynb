{
 "cells": [
  {
   "cell_type": "markdown",
   "id": "e566e4fc-9820-43c2-8e04-8905358578b1",
   "metadata": {},
   "source": [
    "# Demo 4: Predicting Foreign Exchange prices using Time Series Models"
   ]
  },
  {
   "cell_type": "markdown",
   "id": "4fccb7b0-5cc9-485f-b1c8-9cae65521928",
   "metadata": {},
   "source": [
    "## Imports"
   ]
  },
  {
   "cell_type": "code",
   "execution_count": 1,
   "id": "e495d29d-d256-43e5-84dc-b37afe022110",
   "metadata": {},
   "outputs": [],
   "source": [
    "from datetime import datetime, timedelta\n",
    "import matplotlib.pyplot as plt\n",
    "import numpy as np\n",
    "from statsmodels.graphics.tsaplots import plot_acf\n",
    "from statsmodels.tsa.arima.model import ARIMA\n",
    "from tzlocal import get_localzone_name\n",
    "import yfinance as yf"
   ]
  },
  {
   "cell_type": "markdown",
   "id": "b22b70f5-3236-4d61-8fc3-4756fc3a9a3c",
   "metadata": {},
   "source": [
    "## Introduction"
   ]
  },
  {
   "cell_type": "markdown",
   "id": "34d17b7e-aa3e-4d47-9859-8990a327f35a",
   "metadata": {},
   "source": [
    "The foreign exchange (forex) market is one of the most widely traded financial markets in the world. As the value of currencies fluctuate constantly, predicting the future movement of exchange rates can be highly lucrative. However, predicting these movements is a complex task as it depends on a multitude of factors, including geopolitical events, economic indicators, and investor sentiment. In this demo, we will explore the use of time series techniques to predict forex prices and evaluate the accuracy of our predictions."
   ]
  },
  {
   "cell_type": "markdown",
   "id": "42e00d1b-3754-4bc4-ab4e-39f9c9f1ff5b",
   "metadata": {},
   "source": [
    "Pick one currency that you like. Replace it in the variable `currency`. For details, you may refer to the currency ticker names in [Yahoo Finance](https://finance.yahoo.com/). "
   ]
  },
  {
   "cell_type": "code",
   "execution_count": 2,
   "id": "5efddc94-50bc-415c-a119-1f9d079e5218",
   "metadata": {},
   "outputs": [],
   "source": [
    "currency = \"CADHKD\""
   ]
  },
  {
   "cell_type": "markdown",
   "id": "6b1a607f-569f-4474-a765-fe717580efaa",
   "metadata": {},
   "source": [
    "Let's try downloading our data from Yahoo Finance API. "
   ]
  },
  {
   "cell_type": "code",
   "execution_count": 3,
   "id": "1ef224ce-9c20-4809-94d0-b87e49cee202",
   "metadata": {},
   "outputs": [
    {
     "name": "stdout",
     "output_type": "stream",
     "text": [
      "2021-04-11\n"
     ]
    }
   ],
   "source": [
    "ticker = f\"{currency}=X\"\n",
    "time_diff = 365 * 2 - 2\n",
    "end_date = datetime.today().strftime(\"%Y-%m-%d\")\n",
    "start_date = (datetime.today() - timedelta(days=time_diff)).strftime(\"%Y-%m-%d\")\n",
    "print(start_date)\n",
    "interval = \"1h\""
   ]
  },
  {
   "cell_type": "code",
   "execution_count": 4,
   "id": "84643ecc-55f9-4ad1-a5a4-9064e08fc2e2",
   "metadata": {},
   "outputs": [
    {
     "name": "stdout",
     "output_type": "stream",
     "text": [
      "[*********************100%***********************]  1 of 1 completed\n"
     ]
    }
   ],
   "source": [
    "data = yf.download(ticker, start=start_date, end=end_date, interval=interval)"
   ]
  },
  {
   "cell_type": "markdown",
   "id": "b5ad056c-b63c-4e30-a273-381fe150b567",
   "metadata": {},
   "source": [
    "## Train test split"
   ]
  },
  {
   "cell_type": "markdown",
   "id": "9d78e6b5-c99f-4f21-87d6-894931f563a6",
   "metadata": {},
   "source": [
    "I am going to split the data into training and test portions. "
   ]
  },
  {
   "cell_type": "code",
   "execution_count": 5,
   "id": "971c1fb6-2b3d-44c7-8c8c-e8ed8e1b5a8c",
   "metadata": {},
   "outputs": [],
   "source": [
    "test_size = 0.01"
   ]
  },
  {
   "cell_type": "code",
   "execution_count": 6,
   "id": "a6635a60-57e1-475c-b887-37d46c3307a8",
   "metadata": {},
   "outputs": [],
   "source": [
    "n = len(data)\n",
    "\n",
    "n_test = int(n * test_size // 1)\n",
    "n_train = n - n_test"
   ]
  },
  {
   "cell_type": "code",
   "execution_count": 7,
   "id": "c362ef8e-9729-42ee-bc0c-b7bcbb776ca1",
   "metadata": {},
   "outputs": [
    {
     "data": {
      "text/html": [
       "<div>\n",
       "<style scoped>\n",
       "    .dataframe tbody tr th:only-of-type {\n",
       "        vertical-align: middle;\n",
       "    }\n",
       "\n",
       "    .dataframe tbody tr th {\n",
       "        vertical-align: top;\n",
       "    }\n",
       "\n",
       "    .dataframe thead th {\n",
       "        text-align: right;\n",
       "    }\n",
       "</style>\n",
       "<table border=\"1\" class=\"dataframe\">\n",
       "  <thead>\n",
       "    <tr style=\"text-align: right;\">\n",
       "      <th></th>\n",
       "      <th>Open</th>\n",
       "      <th>High</th>\n",
       "      <th>Low</th>\n",
       "      <th>Close</th>\n",
       "      <th>Adj Close</th>\n",
       "      <th>Volume</th>\n",
       "    </tr>\n",
       "    <tr>\n",
       "      <th>Datetime</th>\n",
       "      <th></th>\n",
       "      <th></th>\n",
       "      <th></th>\n",
       "      <th></th>\n",
       "      <th></th>\n",
       "      <th></th>\n",
       "    </tr>\n",
       "  </thead>\n",
       "  <tbody>\n",
       "    <tr>\n",
       "      <th>2021-04-12 00:00:00+01:00</th>\n",
       "      <td>6.20323</td>\n",
       "      <td>6.20701</td>\n",
       "      <td>6.19583</td>\n",
       "      <td>6.20448</td>\n",
       "      <td>6.20448</td>\n",
       "      <td>0</td>\n",
       "    </tr>\n",
       "    <tr>\n",
       "      <th>2021-04-12 01:00:00+01:00</th>\n",
       "      <td>6.20456</td>\n",
       "      <td>6.20564</td>\n",
       "      <td>6.18500</td>\n",
       "      <td>6.20382</td>\n",
       "      <td>6.20382</td>\n",
       "      <td>0</td>\n",
       "    </tr>\n",
       "    <tr>\n",
       "      <th>2021-04-12 02:00:00+01:00</th>\n",
       "      <td>6.20357</td>\n",
       "      <td>6.20409</td>\n",
       "      <td>6.18000</td>\n",
       "      <td>6.19794</td>\n",
       "      <td>6.19794</td>\n",
       "      <td>0</td>\n",
       "    </tr>\n",
       "    <tr>\n",
       "      <th>2021-04-12 03:00:00+01:00</th>\n",
       "      <td>6.19800</td>\n",
       "      <td>6.19843</td>\n",
       "      <td>6.17700</td>\n",
       "      <td>6.19570</td>\n",
       "      <td>6.19570</td>\n",
       "      <td>0</td>\n",
       "    </tr>\n",
       "    <tr>\n",
       "      <th>2021-04-12 04:00:00+01:00</th>\n",
       "      <td>6.19565</td>\n",
       "      <td>6.19567</td>\n",
       "      <td>6.17650</td>\n",
       "      <td>6.19490</td>\n",
       "      <td>6.19490</td>\n",
       "      <td>0</td>\n",
       "    </tr>\n",
       "    <tr>\n",
       "      <th>...</th>\n",
       "      <td>...</td>\n",
       "      <td>...</td>\n",
       "      <td>...</td>\n",
       "      <td>...</td>\n",
       "      <td>...</td>\n",
       "      <td>...</td>\n",
       "    </tr>\n",
       "    <tr>\n",
       "      <th>2023-03-31 14:00:00+01:00</th>\n",
       "      <td>5.79479</td>\n",
       "      <td>5.80529</td>\n",
       "      <td>5.77750</td>\n",
       "      <td>5.79968</td>\n",
       "      <td>5.79968</td>\n",
       "      <td>0</td>\n",
       "    </tr>\n",
       "    <tr>\n",
       "      <th>2023-03-31 15:00:00+01:00</th>\n",
       "      <td>5.79956</td>\n",
       "      <td>5.80560</td>\n",
       "      <td>5.77900</td>\n",
       "      <td>5.79980</td>\n",
       "      <td>5.79980</td>\n",
       "      <td>0</td>\n",
       "    </tr>\n",
       "    <tr>\n",
       "      <th>2023-03-31 16:00:00+01:00</th>\n",
       "      <td>5.79977</td>\n",
       "      <td>5.80533</td>\n",
       "      <td>5.78100</td>\n",
       "      <td>5.80369</td>\n",
       "      <td>5.80369</td>\n",
       "      <td>0</td>\n",
       "    </tr>\n",
       "    <tr>\n",
       "      <th>2023-03-31 17:00:00+01:00</th>\n",
       "      <td>5.80364</td>\n",
       "      <td>5.80527</td>\n",
       "      <td>5.79890</td>\n",
       "      <td>5.80488</td>\n",
       "      <td>5.80488</td>\n",
       "      <td>0</td>\n",
       "    </tr>\n",
       "    <tr>\n",
       "      <th>2023-03-31 18:00:00+01:00</th>\n",
       "      <td>5.80491</td>\n",
       "      <td>5.80606</td>\n",
       "      <td>5.79610</td>\n",
       "      <td>5.79871</td>\n",
       "      <td>5.79871</td>\n",
       "      <td>0</td>\n",
       "    </tr>\n",
       "  </tbody>\n",
       "</table>\n",
       "<p>12291 rows × 6 columns</p>\n",
       "</div>"
      ],
      "text/plain": [
       "                              Open     High      Low    Close  Adj Close  \\\n",
       "Datetime                                                                   \n",
       "2021-04-12 00:00:00+01:00  6.20323  6.20701  6.19583  6.20448    6.20448   \n",
       "2021-04-12 01:00:00+01:00  6.20456  6.20564  6.18500  6.20382    6.20382   \n",
       "2021-04-12 02:00:00+01:00  6.20357  6.20409  6.18000  6.19794    6.19794   \n",
       "2021-04-12 03:00:00+01:00  6.19800  6.19843  6.17700  6.19570    6.19570   \n",
       "2021-04-12 04:00:00+01:00  6.19565  6.19567  6.17650  6.19490    6.19490   \n",
       "...                            ...      ...      ...      ...        ...   \n",
       "2023-03-31 14:00:00+01:00  5.79479  5.80529  5.77750  5.79968    5.79968   \n",
       "2023-03-31 15:00:00+01:00  5.79956  5.80560  5.77900  5.79980    5.79980   \n",
       "2023-03-31 16:00:00+01:00  5.79977  5.80533  5.78100  5.80369    5.80369   \n",
       "2023-03-31 17:00:00+01:00  5.80364  5.80527  5.79890  5.80488    5.80488   \n",
       "2023-03-31 18:00:00+01:00  5.80491  5.80606  5.79610  5.79871    5.79871   \n",
       "\n",
       "                           Volume  \n",
       "Datetime                           \n",
       "2021-04-12 00:00:00+01:00       0  \n",
       "2021-04-12 01:00:00+01:00       0  \n",
       "2021-04-12 02:00:00+01:00       0  \n",
       "2021-04-12 03:00:00+01:00       0  \n",
       "2021-04-12 04:00:00+01:00       0  \n",
       "...                           ...  \n",
       "2023-03-31 14:00:00+01:00       0  \n",
       "2023-03-31 15:00:00+01:00       0  \n",
       "2023-03-31 16:00:00+01:00       0  \n",
       "2023-03-31 17:00:00+01:00       0  \n",
       "2023-03-31 18:00:00+01:00       0  \n",
       "\n",
       "[12291 rows x 6 columns]"
      ]
     },
     "execution_count": 7,
     "metadata": {},
     "output_type": "execute_result"
    }
   ],
   "source": [
    "train_data, test_data = data[:n_train], data[n_train:]\n",
    "train_data"
   ]
  },
  {
   "cell_type": "markdown",
   "id": "7d016a33-2bf2-4196-9d78-251badb8f7cc",
   "metadata": {},
   "source": [
    "## Exploratory Data Analysis (EDA)"
   ]
  },
  {
   "cell_type": "markdown",
   "id": "92cde8f2-db3d-40db-bb74-9596f9304992",
   "metadata": {},
   "source": [
    "Check if any missing values of the data: "
   ]
  },
  {
   "cell_type": "code",
   "execution_count": 8,
   "id": "2af5fc5b-949c-49bf-acdc-2393da46bdcb",
   "metadata": {},
   "outputs": [
    {
     "name": "stdout",
     "output_type": "stream",
     "text": [
      "<class 'pandas.core.frame.DataFrame'>\n",
      "DatetimeIndex: 12291 entries, 2021-04-12 00:00:00+01:00 to 2023-03-31 18:00:00+01:00\n",
      "Data columns (total 6 columns):\n",
      " #   Column     Non-Null Count  Dtype  \n",
      "---  ------     --------------  -----  \n",
      " 0   Open       12291 non-null  float64\n",
      " 1   High       12291 non-null  float64\n",
      " 2   Low        12291 non-null  float64\n",
      " 3   Close      12291 non-null  float64\n",
      " 4   Adj Close  12291 non-null  float64\n",
      " 5   Volume     12291 non-null  int64  \n",
      "dtypes: float64(5), int64(1)\n",
      "memory usage: 672.2 KB\n"
     ]
    }
   ],
   "source": [
    "train_data.info()"
   ]
  },
  {
   "cell_type": "markdown",
   "id": "5b323424-6180-47ba-a4dd-9196eb8f6b58",
   "metadata": {},
   "source": [
    "Check columns of the data: "
   ]
  },
  {
   "cell_type": "code",
   "execution_count": 9,
   "id": "1a3b9628-9f8c-4f9c-9c65-7dd010e9fe7d",
   "metadata": {},
   "outputs": [
    {
     "data": {
      "text/html": [
       "<div>\n",
       "<style scoped>\n",
       "    .dataframe tbody tr th:only-of-type {\n",
       "        vertical-align: middle;\n",
       "    }\n",
       "\n",
       "    .dataframe tbody tr th {\n",
       "        vertical-align: top;\n",
       "    }\n",
       "\n",
       "    .dataframe thead th {\n",
       "        text-align: right;\n",
       "    }\n",
       "</style>\n",
       "<table border=\"1\" class=\"dataframe\">\n",
       "  <thead>\n",
       "    <tr style=\"text-align: right;\">\n",
       "      <th></th>\n",
       "      <th>Open</th>\n",
       "      <th>High</th>\n",
       "      <th>Low</th>\n",
       "      <th>Close</th>\n",
       "      <th>Adj Close</th>\n",
       "      <th>Volume</th>\n",
       "    </tr>\n",
       "  </thead>\n",
       "  <tbody>\n",
       "    <tr>\n",
       "      <th>count</th>\n",
       "      <td>12291.000000</td>\n",
       "      <td>12291.000000</td>\n",
       "      <td>12291.000000</td>\n",
       "      <td>12291.000000</td>\n",
       "      <td>12291.000000</td>\n",
       "      <td>12291.0</td>\n",
       "    </tr>\n",
       "    <tr>\n",
       "      <th>mean</th>\n",
       "      <td>6.067837</td>\n",
       "      <td>6.072117</td>\n",
       "      <td>6.052256</td>\n",
       "      <td>6.067799</td>\n",
       "      <td>6.067799</td>\n",
       "      <td>0.0</td>\n",
       "    </tr>\n",
       "    <tr>\n",
       "      <th>std</th>\n",
       "      <td>0.200216</td>\n",
       "      <td>0.199978</td>\n",
       "      <td>0.200636</td>\n",
       "      <td>0.200269</td>\n",
       "      <td>0.200269</td>\n",
       "      <td>0.0</td>\n",
       "    </tr>\n",
       "    <tr>\n",
       "      <th>min</th>\n",
       "      <td>5.636540</td>\n",
       "      <td>5.646100</td>\n",
       "      <td>5.601500</td>\n",
       "      <td>5.620500</td>\n",
       "      <td>5.620500</td>\n",
       "      <td>0.0</td>\n",
       "    </tr>\n",
       "    <tr>\n",
       "      <th>25%</th>\n",
       "      <td>5.876285</td>\n",
       "      <td>5.880655</td>\n",
       "      <td>5.860450</td>\n",
       "      <td>5.876200</td>\n",
       "      <td>5.876200</td>\n",
       "      <td>0.0</td>\n",
       "    </tr>\n",
       "    <tr>\n",
       "      <th>50%</th>\n",
       "      <td>6.118600</td>\n",
       "      <td>6.122760</td>\n",
       "      <td>6.102000</td>\n",
       "      <td>6.118430</td>\n",
       "      <td>6.118430</td>\n",
       "      <td>0.0</td>\n",
       "    </tr>\n",
       "    <tr>\n",
       "      <th>75%</th>\n",
       "      <td>6.206515</td>\n",
       "      <td>6.210675</td>\n",
       "      <td>6.191665</td>\n",
       "      <td>6.206590</td>\n",
       "      <td>6.206590</td>\n",
       "      <td>0.0</td>\n",
       "    </tr>\n",
       "    <tr>\n",
       "      <th>max</th>\n",
       "      <td>6.457300</td>\n",
       "      <td>6.463510</td>\n",
       "      <td>6.444200</td>\n",
       "      <td>6.457370</td>\n",
       "      <td>6.457370</td>\n",
       "      <td>0.0</td>\n",
       "    </tr>\n",
       "  </tbody>\n",
       "</table>\n",
       "</div>"
      ],
      "text/plain": [
       "               Open          High           Low         Close     Adj Close  \\\n",
       "count  12291.000000  12291.000000  12291.000000  12291.000000  12291.000000   \n",
       "mean       6.067837      6.072117      6.052256      6.067799      6.067799   \n",
       "std        0.200216      0.199978      0.200636      0.200269      0.200269   \n",
       "min        5.636540      5.646100      5.601500      5.620500      5.620500   \n",
       "25%        5.876285      5.880655      5.860450      5.876200      5.876200   \n",
       "50%        6.118600      6.122760      6.102000      6.118430      6.118430   \n",
       "75%        6.206515      6.210675      6.191665      6.206590      6.206590   \n",
       "max        6.457300      6.463510      6.444200      6.457370      6.457370   \n",
       "\n",
       "        Volume  \n",
       "count  12291.0  \n",
       "mean       0.0  \n",
       "std        0.0  \n",
       "min        0.0  \n",
       "25%        0.0  \n",
       "50%        0.0  \n",
       "75%        0.0  \n",
       "max        0.0  "
      ]
     },
     "execution_count": 9,
     "metadata": {},
     "output_type": "execute_result"
    }
   ],
   "source": [
    "train_data.describe()"
   ]
  },
  {
   "cell_type": "markdown",
   "id": "fabb4e0b-bbac-4534-9c4d-9a87b16a7bc9",
   "metadata": {},
   "source": [
    "Seems `Volume` is unavailable for foreign exchange data. Moreover, we will use the `Adj Close` (adjusted close) price as our input data and the price to be predicted. "
   ]
  },
  {
   "cell_type": "markdown",
   "id": "50c5e59a-73a1-4209-b2d1-81593d82a9cb",
   "metadata": {},
   "source": [
    "## Preprocessing"
   ]
  },
  {
   "cell_type": "markdown",
   "id": "02e2e415-591a-4f17-9afe-d760ac146cce",
   "metadata": {},
   "source": [
    "Let's preprocessing the datetime indices. We need to encounter for the needs of different time zones. "
   ]
  },
  {
   "cell_type": "code",
   "execution_count": 10,
   "id": "04c57c2f-51e4-47e6-9071-5abd41f008a2",
   "metadata": {},
   "outputs": [
    {
     "data": {
      "text/plain": [
       "DatetimeIndex(['2021-04-12 00:00:00+01:00', '2021-04-12 01:00:00+01:00',\n",
       "               '2021-04-12 02:00:00+01:00', '2021-04-12 03:00:00+01:00',\n",
       "               '2021-04-12 04:00:00+01:00', '2021-04-12 05:00:00+01:00',\n",
       "               '2021-04-12 06:00:00+01:00', '2021-04-12 07:00:00+01:00',\n",
       "               '2021-04-12 08:00:00+01:00', '2021-04-12 09:00:00+01:00',\n",
       "               ...\n",
       "               '2023-03-31 09:00:00+01:00', '2023-03-31 10:00:00+01:00',\n",
       "               '2023-03-31 11:00:00+01:00', '2023-03-31 12:00:00+01:00',\n",
       "               '2023-03-31 13:00:00+01:00', '2023-03-31 14:00:00+01:00',\n",
       "               '2023-03-31 15:00:00+01:00', '2023-03-31 16:00:00+01:00',\n",
       "               '2023-03-31 17:00:00+01:00', '2023-03-31 18:00:00+01:00'],\n",
       "              dtype='datetime64[ns, Europe/London]', name='Datetime', length=12291, freq=None)"
      ]
     },
     "execution_count": 10,
     "metadata": {},
     "output_type": "execute_result"
    }
   ],
   "source": [
    "dates = train_data.index\n",
    "dates"
   ]
  },
  {
   "cell_type": "code",
   "execution_count": 11,
   "id": "8785c89d-c187-4005-a1a9-fec11628ede6",
   "metadata": {},
   "outputs": [
    {
     "data": {
      "text/plain": [
       "'America/Vancouver'"
      ]
     },
     "execution_count": 11,
     "metadata": {},
     "output_type": "execute_result"
    }
   ],
   "source": [
    "local_tz = get_localzone_name()\n",
    "local_tz"
   ]
  },
  {
   "cell_type": "code",
   "execution_count": 12,
   "id": "bdbce53c-c487-4676-aa0b-57bd23134772",
   "metadata": {},
   "outputs": [
    {
     "data": {
      "text/plain": [
       "DatetimeIndex(['2021-04-11 16:00:00-07:00', '2021-04-11 17:00:00-07:00',\n",
       "               '2021-04-11 18:00:00-07:00', '2021-04-11 19:00:00-07:00',\n",
       "               '2021-04-11 20:00:00-07:00', '2021-04-11 21:00:00-07:00',\n",
       "               '2021-04-11 22:00:00-07:00', '2021-04-11 23:00:00-07:00',\n",
       "               '2021-04-12 00:00:00-07:00', '2021-04-12 01:00:00-07:00',\n",
       "               ...\n",
       "               '2023-03-31 01:00:00-07:00', '2023-03-31 02:00:00-07:00',\n",
       "               '2023-03-31 03:00:00-07:00', '2023-03-31 04:00:00-07:00',\n",
       "               '2023-03-31 05:00:00-07:00', '2023-03-31 06:00:00-07:00',\n",
       "               '2023-03-31 07:00:00-07:00', '2023-03-31 08:00:00-07:00',\n",
       "               '2023-03-31 09:00:00-07:00', '2023-03-31 10:00:00-07:00'],\n",
       "              dtype='datetime64[ns, America/Vancouver]', name='Datetime', length=12291, freq=None)"
      ]
     },
     "execution_count": 12,
     "metadata": {},
     "output_type": "execute_result"
    }
   ],
   "source": [
    "dates = dates.tz_convert(local_tz)\n",
    "dates"
   ]
  },
  {
   "cell_type": "code",
   "execution_count": 13,
   "id": "42437474-4f2f-42d6-a872-8331fe97bc3f",
   "metadata": {},
   "outputs": [
    {
     "data": {
      "text/plain": [
       "array([6.20448017, 6.20382023, 6.19793987, ..., 5.80368996, 5.80488014,\n",
       "       5.79870987])"
      ]
     },
     "execution_count": 13,
     "metadata": {},
     "output_type": "execute_result"
    }
   ],
   "source": [
    "X_raw = train_data[\"Adj Close\"].values\n",
    "X_raw"
   ]
  },
  {
   "cell_type": "markdown",
   "id": "b0c1c84f-737d-49ae-b77c-1bb8555e9489",
   "metadata": {},
   "source": [
    "## First Visualization of the Data"
   ]
  },
  {
   "cell_type": "markdown",
   "id": "f9e35c94-6eba-4d2b-a71a-d78dafc40c31",
   "metadata": {},
   "source": [
    "Let's plot the data and observe patterns: "
   ]
  },
  {
   "cell_type": "code",
   "execution_count": 14,
   "id": "68cfefde-79b6-4c83-ae3b-f4c93469fe77",
   "metadata": {},
   "outputs": [],
   "source": [
    "train_end_timestamp = train_data.iloc[-1].name\n",
    "train_end_date = datetime(train_end_timestamp.year, train_end_timestamp.month, train_end_timestamp.day).strftime(\"%Y-%m-%d\")"
   ]
  },
  {
   "cell_type": "code",
   "execution_count": 15,
   "id": "6dab0675-e639-4644-8fa7-70937539157f",
   "metadata": {},
   "outputs": [
    {
     "data": {
      "image/png": "[encoded data removed]",
      "text/plain": [
       "<Figure size 640x480 with 1 Axes>"
      ]
     },
     "metadata": {},
     "output_type": "display_data"
    }
   ],
   "source": [
    "plt.plot(dates, X_raw)\n",
    "plt.title(f\"Hourly data for currency {currency} from {start_date} to {train_end_date}\")\n",
    "plt.xticks(rotation=20)\n",
    "plt.show()"
   ]
  },
  {
   "cell_type": "markdown",
   "id": "b3a60196-dd73-4ab3-844d-89b9cbc24ff7",
   "metadata": {},
   "source": [
    "## Differencing"
   ]
  },
  {
   "cell_type": "markdown",
   "id": "cd9fd09e-9a1d-4b2d-a2ad-d6e8602d6b74",
   "metadata": {},
   "source": [
    "Differencing the data is necessary because it removes the trend found in the data. This is a useful technique when conducting time-series forecasting and analyses. "
   ]
  },
  {
   "cell_type": "markdown",
   "id": "8544183c-7f9a-43e7-a32a-dad0f1ba6b97",
   "metadata": {},
   "source": [
    "Let's create a differenced series of `X_raw`. Also, we adjust the dates such that the latest datetime is gone. "
   ]
  },
  {
   "cell_type": "code",
   "execution_count": 16,
   "id": "8967cac2-a0f1-40cf-97e1-c844651f14ab",
   "metadata": {},
   "outputs": [
    {
     "data": {
      "text/plain": [
       "array([-0.00065994, -0.00588036, -0.0022397 , ...,  0.00389004,\n",
       "        0.00119019, -0.00617027])"
      ]
     },
     "execution_count": 16,
     "metadata": {},
     "output_type": "execute_result"
    }
   ],
   "source": [
    "X_diff = np.diff(X_raw)\n",
    "X_diff"
   ]
  },
  {
   "cell_type": "code",
   "execution_count": 17,
   "id": "41be6578-f4d0-4e46-bdf6-3f0db035c1a5",
   "metadata": {},
   "outputs": [
    {
     "data": {
      "text/plain": [
       "DatetimeIndex(['2021-04-11 16:00:00-07:00', '2021-04-11 17:00:00-07:00',\n",
       "               '2021-04-11 18:00:00-07:00', '2021-04-11 19:00:00-07:00',\n",
       "               '2021-04-11 20:00:00-07:00', '2021-04-11 21:00:00-07:00',\n",
       "               '2021-04-11 22:00:00-07:00', '2021-04-11 23:00:00-07:00',\n",
       "               '2021-04-12 00:00:00-07:00', '2021-04-12 01:00:00-07:00',\n",
       "               ...\n",
       "               '2023-03-31 00:00:00-07:00', '2023-03-31 01:00:00-07:00',\n",
       "               '2023-03-31 02:00:00-07:00', '2023-03-31 03:00:00-07:00',\n",
       "               '2023-03-31 04:00:00-07:00', '2023-03-31 05:00:00-07:00',\n",
       "               '2023-03-31 06:00:00-07:00', '2023-03-31 07:00:00-07:00',\n",
       "               '2023-03-31 08:00:00-07:00', '2023-03-31 09:00:00-07:00'],\n",
       "              dtype='datetime64[ns, America/Vancouver]', name='Datetime', length=12290, freq=None)"
      ]
     },
     "execution_count": 17,
     "metadata": {},
     "output_type": "execute_result"
    }
   ],
   "source": [
    "dates_diff = dates[:-1]\n",
    "dates_diff"
   ]
  },
  {
   "cell_type": "markdown",
   "id": "507a21ec-d102-4b46-a308-541b02570e7f",
   "metadata": {},
   "source": [
    "## Visulization on differenced series"
   ]
  },
  {
   "cell_type": "markdown",
   "id": "1858198e-16b0-4d19-82dd-86fa6bf0d355",
   "metadata": {},
   "source": [
    "Let's visualize our differenced data: "
   ]
  },
  {
   "cell_type": "code",
   "execution_count": 18,
   "id": "8963d4e3-12d8-4335-a6bf-2cd45e5575c6",
   "metadata": {},
   "outputs": [
    {
     "data": {
      "image/png": "[encoded data removed]",
      "text/plain": [
       "<Figure size 640x480 with 1 Axes>"
      ]
     },
     "metadata": {},
     "output_type": "display_data"
    }
   ],
   "source": [
    "plt.plot(dates_diff, X_diff)\n",
    "plt.title(f\"Differenced hourly data for currency {currency} in the past two years from {start_date} to {train_end_date}\")\n",
    "plt.xticks(rotation=20)\n",
    "plt.show()"
   ]
  },
  {
   "cell_type": "markdown",
   "id": "7dcc2268-e1ad-46d5-9f74-80febf541b52",
   "metadata": {},
   "source": [
    "See the power of differencing? We have successfully made the series a stationary one. It is more easier to work with. "
   ]
  },
  {
   "cell_type": "markdown",
   "id": "544be2c0-cb92-4981-bc91-d20a13b9c448",
   "metadata": {},
   "source": [
    "## Autocorrelation"
   ]
  },
  {
   "cell_type": "markdown",
   "id": "d5cf24c8-cb5d-4454-9394-60daab124712",
   "metadata": {},
   "source": [
    "Autocorrelation is a measure of the degree of similarity between a time series and a lagged version of itself. It quantifies the relationship between observations of a time series that are separated by a given time lag, and can be used to identify patterns and dependencies in the data. A time series with high autocorrelation implies that there is a strong relationship between adjacent observations, while a time series with low autocorrelation suggests that there is no significant relationship between adjacent observations."
   ]
  },
  {
   "cell_type": "markdown",
   "id": "b602cc7c-8ff8-4adf-99c1-15cb2d97f3b5",
   "metadata": {},
   "source": [
    "Let's try to plot the autocorrelation function (acf) of the differenced series: "
   ]
  },
  {
   "cell_type": "code",
   "execution_count": 19,
   "id": "38d5d4c6-202d-4362-b254-1d71438f611b",
   "metadata": {},
   "outputs": [
    {
     "data": {
      "image/png": "[encoded data removed]",
      "text/plain": [
       "<Figure size 640x480 with 1 Axes>"
      ]
     },
     "metadata": {},
     "output_type": "display_data"
    }
   ],
   "source": [
    "fig, ax = plt.subplots()\n",
    "\n",
    "n = len(X_diff)\n",
    "lower_signi_bound = -2 / np.sqrt(n)\n",
    "upper_signi_bound = 2 / np.sqrt(n)\n",
    "\n",
    "# Add the horizontal lines showing the significant bounds\n",
    "ax.axhline(y=lower_signi_bound, linestyle=':', color='gray')\n",
    "ax.axhline(y=upper_signi_bound, linestyle=':', color='gray')\n",
    "\n",
    "plot_acf(X_diff, ax=ax)\n",
    "plt.title(\"Autocorrelation function plot of the differenced series\")\n",
    "plt.ylim(-0.25, 1.05)\n",
    "\n",
    "plt.show()"
   ]
  },
  {
   "cell_type": "markdown",
   "id": "e037bd1f-3b09-4cf2-9e90-c5a8ca620d01",
   "metadata": {},
   "source": [
    "The acf plot suggests that the acf cuts off at lag 1, meaning that fitting an $MA(1)$ process to the differenced series is sufficient.\n",
    "\n",
    "Therefore, we try to fit an $ARIMA(0, 1, 1)$ process. "
   ]
  },
  {
   "cell_type": "markdown",
   "id": "d7c68f68-9809-4c17-8926-c87033b77f90",
   "metadata": {},
   "source": [
    "## ARIMA Models"
   ]
  },
  {
   "cell_type": "markdown",
   "id": "3b936b44-0d2e-44d9-a2d0-00721718c78f",
   "metadata": {},
   "source": [
    "ARIMA (Auto Regressive Integrated Moving Average) is a widely used time series analysis technique for forecasting future values based on historical data. It is a statistical model that takes into account the autoregressive, moving average, and differencing properties of a time series. ARIMA models can be used to model and predict various types of time series data, including foreign currency data (which is our primary source of interest). The ARIMA model assumes that the future values of a time series are a function of its previous values, and that the series can be made stationary through differencing. ARIMA models are widely used in finance, economics, and other fields where accurate forecasting is critical."
   ]
  },
  {
   "cell_type": "markdown",
   "id": "d3b20b49-e7ca-4fbe-abd0-5e657862d3d5",
   "metadata": {},
   "source": [
    "Mathematically, a process $\\{X_t\\}$ belongs to the family of $ARIMA(p, d, q)$ process if the $d$-differenced series $Y_t := \\nabla^d X_t$ satisfy the following equation: \n",
    "\n",
    "$$\\phi(B) Y_t = \\theta(B) Z_t$$\n",
    "\n",
    "for some characteristic polynomial $\\phi(B) = 1 - \\alpha_1 B - \\cdots - \\alpha_p B^p$, $\\theta(B) = 1 + \\beta_1 B + \\cdots + \\beta_q B^q$, and some constants $p$ and $q$. \n",
    "\n",
    "Here, $\\{Z_t\\}$ is a white noise process (i.e. a sequence of uncorrelated random variables with zero mean and constant variance), which means $\\{Z_t\\} \\sim WN(0, \\sigma^2)$. "
   ]
  },
  {
   "cell_type": "markdown",
   "id": "ef2b96c5-5c88-4a96-8163-d60e7915b4f9",
   "metadata": {},
   "source": [
    "Enough with math! Let's try to fit a ARIMA model to our differenced foreign currency data: "
   ]
  },
  {
   "cell_type": "code",
   "execution_count": 20,
   "id": "0ffabf28-9a91-486d-a9d2-0ac2cf514baa",
   "metadata": {},
   "outputs": [],
   "source": [
    "arima = ARIMA(X_raw, order=(0, 1, 1))"
   ]
  },
  {
   "cell_type": "code",
   "execution_count": 21,
   "id": "520d61f2-223f-4316-8162-ce287f38a139",
   "metadata": {},
   "outputs": [],
   "source": [
    "model = arima.fit()"
   ]
  },
  {
   "cell_type": "code",
   "execution_count": 22,
   "id": "6f39a0e6-6474-4f61-b3a6-e4c93bc27f2a",
   "metadata": {},
   "outputs": [
    {
     "data": {
      "text/html": [
       "<table class=\"simpletable\">\n",
       "<caption>SARIMAX Results</caption>\n",
       "<tr>\n",
       "  <th>Dep. Variable:</th>           <td>y</td>        <th>  No. Observations:  </th>    <td>12291</td>  \n",
       "</tr>\n",
       "<tr>\n",
       "  <th>Model:</th>            <td>ARIMA(0, 1, 1)</td>  <th>  Log Likelihood     </th>  <td>44659.917</td>\n",
       "</tr>\n",
       "<tr>\n",
       "  <th>Date:</th>            <td>Sun, 09 Apr 2023</td> <th>  AIC                </th> <td>-89315.833</td>\n",
       "</tr>\n",
       "<tr>\n",
       "  <th>Time:</th>                <td>21:37:25</td>     <th>  BIC                </th> <td>-89301.000</td>\n",
       "</tr>\n",
       "<tr>\n",
       "  <th>Sample:</th>                  <td>0</td>        <th>  HQIC               </th> <td>-89310.863</td>\n",
       "</tr>\n",
       "<tr>\n",
       "  <th></th>                     <td> - 12291</td>     <th>                     </th>      <td> </td>    \n",
       "</tr>\n",
       "<tr>\n",
       "  <th>Covariance Type:</th>        <td>opg</td>       <th>                     </th>      <td> </td>    \n",
       "</tr>\n",
       "</table>\n",
       "<table class=\"simpletable\">\n",
       "<tr>\n",
       "     <td></td>       <th>coef</th>     <th>std err</th>      <th>z</th>      <th>P>|z|</th>  <th>[0.025</th>    <th>0.975]</th>  \n",
       "</tr>\n",
       "<tr>\n",
       "  <th>ma.L1</th>  <td>   -0.0690</td> <td>    0.006</td> <td>  -11.216</td> <td> 0.000</td> <td>   -0.081</td> <td>   -0.057</td>\n",
       "</tr>\n",
       "<tr>\n",
       "  <th>sigma2</th> <td> 4.085e-05</td> <td> 2.33e-07</td> <td>  175.552</td> <td> 0.000</td> <td> 4.04e-05</td> <td> 4.13e-05</td>\n",
       "</tr>\n",
       "</table>\n",
       "<table class=\"simpletable\">\n",
       "<tr>\n",
       "  <th>Ljung-Box (L1) (Q):</th>     <td>0.00</td> <th>  Jarque-Bera (JB):  </th> <td>33746.66</td>\n",
       "</tr>\n",
       "<tr>\n",
       "  <th>Prob(Q):</th>                <td>0.98</td> <th>  Prob(JB):          </th>   <td>0.00</td>  \n",
       "</tr>\n",
       "<tr>\n",
       "  <th>Heteroskedasticity (H):</th> <td>1.35</td> <th>  Skew:              </th>   <td>0.17</td>  \n",
       "</tr>\n",
       "<tr>\n",
       "  <th>Prob(H) (two-sided):</th>    <td>0.00</td> <th>  Kurtosis:          </th>   <td>11.11</td> \n",
       "</tr>\n",
       "</table><br/><br/>Warnings:<br/>[1] Covariance matrix calculated using the outer product of gradients (complex-step)."
      ],
      "text/plain": [
       "<class 'statsmodels.iolib.summary.Summary'>\n",
       "\"\"\"\n",
       "                               SARIMAX Results                                \n",
       "==============================================================================\n",
       "Dep. Variable:                      y   No. Observations:                12291\n",
       "Model:                 ARIMA(0, 1, 1)   Log Likelihood               44659.917\n",
       "Date:                Sun, 09 Apr 2023   AIC                         -89315.833\n",
       "Time:                        21:37:25   BIC                         -89301.000\n",
       "Sample:                             0   HQIC                        -89310.863\n",
       "                              - 12291                                         \n",
       "Covariance Type:                  opg                                         \n",
       "==============================================================================\n",
       "                 coef    std err          z      P>|z|      [0.025      0.975]\n",
       "------------------------------------------------------------------------------\n",
       "ma.L1         -0.0690      0.006    -11.216      0.000      -0.081      -0.057\n",
       "sigma2      4.085e-05   2.33e-07    175.552      0.000    4.04e-05    4.13e-05\n",
       "===================================================================================\n",
       "Ljung-Box (L1) (Q):                   0.00   Jarque-Bera (JB):             33746.66\n",
       "Prob(Q):                              0.98   Prob(JB):                         0.00\n",
       "Heteroskedasticity (H):               1.35   Skew:                             0.17\n",
       "Prob(H) (two-sided):                  0.00   Kurtosis:                        11.11\n",
       "===================================================================================\n",
       "\n",
       "Warnings:\n",
       "[1] Covariance matrix calculated using the outer product of gradients (complex-step).\n",
       "\"\"\""
      ]
     },
     "execution_count": 22,
     "metadata": {},
     "output_type": "execute_result"
    }
   ],
   "source": [
    "model.summary()"
   ]
  },
  {
   "cell_type": "markdown",
   "id": "98babd7f-0db6-499e-baaa-2fd4ecd50731",
   "metadata": {},
   "source": [
    "## Forecast our results"
   ]
  },
  {
   "cell_type": "code",
   "execution_count": 23,
   "id": "baff91ec-86e8-40a4-8b9d-fe113bbcd603",
   "metadata": {},
   "outputs": [],
   "source": [
    "percent_ci = 0.8"
   ]
  },
  {
   "cell_type": "code",
   "execution_count": 24,
   "id": "c0cc3a1d-dad4-4b31-9077-5ed0315e7df2",
   "metadata": {},
   "outputs": [],
   "source": [
    "forecast = model.get_forecast(steps=n_test)\n",
    "ci = forecast.conf_int(alpha=1-percent_ci)"
   ]
  },
  {
   "cell_type": "code",
   "execution_count": 25,
   "id": "0c16137e-feb9-4b9c-b65a-821e5df39d17",
   "metadata": {},
   "outputs": [],
   "source": [
    "lower_bound = ci[:, 0]\n",
    "upper_bound = ci[:, 1]"
   ]
  },
  {
   "cell_type": "markdown",
   "id": "c4ed201d-9c07-42e3-96c5-d201e71967f7",
   "metadata": {},
   "source": [
    "## Plot our results"
   ]
  },
  {
   "cell_type": "code",
   "execution_count": 26,
   "id": "79895e31-0bd0-40c4-8746-95a9a3b37079",
   "metadata": {},
   "outputs": [
    {
     "data": {
      "text/plain": [
       "DatetimeIndex(['2023-03-31 11:00:00-07:00', '2023-03-31 12:00:00-07:00',\n",
       "               '2023-03-31 13:00:00-07:00', '2023-03-31 14:00:00-07:00',\n",
       "               '2023-03-31 15:00:00-07:00', '2023-04-02 16:00:00-07:00',\n",
       "               '2023-04-02 17:00:00-07:00', '2023-04-02 18:00:00-07:00',\n",
       "               '2023-04-02 19:00:00-07:00', '2023-04-02 20:00:00-07:00',\n",
       "               ...\n",
       "               '2023-04-07 05:00:00-07:00', '2023-04-07 06:00:00-07:00',\n",
       "               '2023-04-07 07:00:00-07:00', '2023-04-07 08:00:00-07:00',\n",
       "               '2023-04-07 09:00:00-07:00', '2023-04-07 10:00:00-07:00',\n",
       "               '2023-04-07 11:00:00-07:00', '2023-04-07 12:00:00-07:00',\n",
       "               '2023-04-07 13:00:00-07:00', '2023-04-07 14:00:00-07:00'],\n",
       "              dtype='datetime64[ns, America/Vancouver]', name='Datetime', length=124, freq=None)"
      ]
     },
     "execution_count": 26,
     "metadata": {},
     "output_type": "execute_result"
    }
   ],
   "source": [
    "test_dates = test_data.index.tz_convert(local_tz)\n",
    "test_dates"
   ]
  },
  {
   "cell_type": "code",
   "execution_count": 27,
   "id": "d10930ed-7faa-4724-a4d8-c639dd50504c",
   "metadata": {},
   "outputs": [
    {
     "data": {
      "image/png": "[encoded data removed]",
      "text/plain": [
       "<Figure size 640x480 with 1 Axes>"
      ]
     },
     "metadata": {},
     "output_type": "display_data"
    }
   ],
   "source": [
    "plt.plot(dates[-1000:], X_raw[-1000:]) # plot of training data\n",
    "plt.plot(test_dates, test_data[\"Adj Close\"].values, color=\"purple\") # plot of test data\n",
    "plt.plot(test_dates, lower_bound, linestyle=\"--\", color=\"red\") # plot of lower bound\n",
    "plt.plot(test_dates, upper_bound, linestyle=\"--\", color=\"green\") # plot of upper bound\n",
    "\n",
    "plot_start_date = dates[-1000:][0].strftime(\"%Y-%m-%d\")\n",
    "\n",
    "plt.title(f\"Hourly data for currency {currency} from {plot_start_date} to {train_end_date}, \\n with predictions following until {end_date}\")\n",
    "plt.xticks(rotation=20)\n",
    "plt.show()"
   ]
  },
  {
   "cell_type": "code",
   "execution_count": null,
   "id": "26206451-bb8c-43ac-9022-23201bfac3ca",
   "metadata": {},
   "outputs": [],
   "source": []
  }
 ],
 "metadata": {
  "kernelspec": {
   "display_name": "Python [conda env:cpsc330]",
   "language": "python",
   "name": "conda-env-cpsc330-py"
  },
  "language_info": {
   "codemirror_mode": {
    "name": "ipython",
    "version": 3
   },
   "file_extension": ".py",
   "mimetype": "text/x-python",
   "name": "python",
   "nbconvert_exporter": "python",
   "pygments_lexer": "ipython3",
   "version": "3.10.8"
  }
 },
 "nbformat": 4,
 "nbformat_minor": 5
}
